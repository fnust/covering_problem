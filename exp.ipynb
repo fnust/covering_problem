{
 "cells": [
  {
   "cell_type": "code",
   "execution_count": 1,
   "metadata": {},
   "outputs": [],
   "source": [
    "# %pip install tqdm\n",
    "# %pip install pillow\n",
    "# %pip install pandas\n",
    "# %pip install pytest-plt\n",
    "# %pip install openpyxl\n",
    "import pandas as pd\n",
    "import matplotlib.pyplot as plt"
   ]
  },
  {
   "cell_type": "code",
   "execution_count": 3,
   "metadata": {},
   "outputs": [],
   "source": [
    "from algorithms.black_hole import BlackHole\n",
    "from algorithms.simulated_annealing import SimulatedAnnealing\n",
    "from algorithms.genetic_algorithm import GeneticAlgorithm\n",
    "from algorithms.lagrangian_heuristics import LagrangianHeuristics\n",
    "from algorithms.hybrid_approach import GA_SA\n",
    "from algorithms.hybrid_approach import LH_SA\n",
    "from algorithms.hybrid_approach import BH_SA\n",
    "from algorithms.hybrid_approach import LH_BH\n",
    "from algorithms.hybrid_approach import SA_GA\n",
    "from services.generation import Test"
   ]
  },
  {
   "cell_type": "code",
   "execution_count": 4,
   "metadata": {},
   "outputs": [],
   "source": [
    "def start_algorithm(alg, params, name, optimum=None):\n",
    "    data = []\n",
    "    for _ in range(5):\n",
    "        if name[-5:] != 'BH_AD':\n",
    "            results, times, solution = alg(*params, optimum=optimum)\n",
    "        else:\n",
    "            results, times, counts, solution = alg(*params, optimum=optimum)\n",
    "            plt.plot(counts)\n",
    "            plt.savefig(f'experiments/charts/{name + '_counts'}.png')\n",
    "            plt.clf()\n",
    "        data.append({'results': results, 'time': times})\n",
    "    if len(data[0]['results']) == 2 and isinstance(data[0]['results'][0], list):\n",
    "        data = min(data, key=lambda x: min(x['results'][0] + x['results'][1]))\n",
    "        plt.plot(data['results'][0])\n",
    "        bound = len(data['results'][0]) - 1\n",
    "        plt.plot(list(range(bound, bound + len(data['results'][1]))), data['results'][1])\n",
    "        plt.savefig(f'experiments/charts/{name}.png')\n",
    "        plt.clf()\n",
    "        print(min(data['results'][0]), min(data['results'][1]))\n",
    "        data['results'] = data['results'][0] + data['results'][1]\n",
    "    else:\n",
    "        data = min(data, key=lambda x: (x['results'][-1], x['time'][x['results'].index(x['results'][-1])]))\n",
    "        plt.plot(data['results'])\n",
    "        plt.savefig(f'experiments/charts/{name}.png')\n",
    "        plt.clf()\n",
    "    result = min(data['results'])\n",
    "    return result,  round(data['time'][data['results'].index(result)], 2)"
   ]
  },
  {
   "cell_type": "code",
   "execution_count": 5,
   "metadata": {},
   "outputs": [],
   "source": [
    "def start_experiments(algorithms, files, myTest=False):\n",
    "    frames = []\n",
    "    for file in files:\n",
    "        FILE = f'tests/{file['name']}.txt'\n",
    "        test = Test()\n",
    "        if myTest:\n",
    "            test.load_generated_data(FILE)\n",
    "        else:\n",
    "            test.load_or_library_data(FILE)\n",
    "        data = {'OPT': file['optimum']}\n",
    "\n",
    "        for algorithm in algorithms:\n",
    "            exp = algorithm['class'](test)\n",
    "            print(file['name'] + ':', algorithm['name'])\n",
    "            val, time = start_algorithm(exp.start, algorithm['params'], f'{file['name']}_{algorithm['name']}', \n",
    "                                        file['optimum'])\n",
    "            data[f'{algorithm['name']} value'] = val\n",
    "            data[f'{algorithm['name']} time'] = time\n",
    "        print(data)\n",
    "        frames.append(pd.DataFrame(data, index=[file['name']]))\n",
    "    df = pd.concat(frames)\n",
    "    df.to_excel(f'experiments/tables/{'-'.join([alg['name'] for alg in algorithms])}_{int(myTest)}.xlsx')  \n",
    "    return df\n"
   ]
  },
  {
   "cell_type": "code",
   "execution_count": null,
   "metadata": {},
   "outputs": [],
   "source": [
    "files = [{'name': '4', 'optimum': 429},\n",
    "         {'name': '5', 'optimum': 253},\n",
    "         {'name': '6', 'optimum': 138},\n",
    "         {'name': 'A', 'optimum': 253},\n",
    "         {'name': 'B', 'optimum': 69},\n",
    "         {'name': 'C', 'optimum': 227},\n",
    "         {'name': 'D', 'optimum': 60},\n",
    "         {'name': 'E', 'optimum': 29},\n",
    "         {'name': 'F', 'optimum': 14},\n",
    "         {'name': 'G', 'optimum': 179},\n",
    "         {'name': 'H', 'optimum': 64}]\n",
    "\n",
    "algorithms = [{'name': 'BH', 'params': [500, 20, False], 'class': BlackHole},\n",
    "              {'name': 'BH_AD', 'params': [500, 20, True], 'class': BlackHole}]\n",
    "start_experiments(algorithms, files)"
   ]
  },
  {
   "cell_type": "code",
   "execution_count": 6,
   "metadata": {},
   "outputs": [
    {
     "name": "stdout",
     "output_type": "stream",
     "text": [
      "4: GA_ELS\n"
     ]
    },
    {
     "name": "stderr",
     "output_type": "stream",
     "text": [
      "100%|\u001b[32m██████████\u001b[0m| 50/50 [00:50<00:00,  1.00s/it]\n",
      "100%|\u001b[32m██████████\u001b[0m| 50/50 [00:55<00:00,  1.11s/it]\n",
      "100%|\u001b[32m██████████\u001b[0m| 50/50 [00:53<00:00,  1.06s/it]\n",
      "100%|\u001b[32m██████████\u001b[0m| 50/50 [00:59<00:00,  1.18s/it]\n",
      "100%|\u001b[32m██████████\u001b[0m| 50/50 [00:59<00:00,  1.20s/it]\n"
     ]
    },
    {
     "name": "stdout",
     "output_type": "stream",
     "text": [
      "4: GA_PRS\n"
     ]
    },
    {
     "name": "stderr",
     "output_type": "stream",
     "text": [
      "100%|\u001b[32m██████████\u001b[0m| 50/50 [01:01<00:00,  1.23s/it]\n",
      "100%|\u001b[32m██████████\u001b[0m| 50/50 [00:57<00:00,  1.15s/it]\n",
      "100%|\u001b[32m██████████\u001b[0m| 50/50 [00:56<00:00,  1.14s/it]\n",
      "100%|\u001b[32m██████████\u001b[0m| 50/50 [00:57<00:00,  1.15s/it]\n",
      "100%|\u001b[32m██████████\u001b[0m| 50/50 [00:56<00:00,  1.12s/it]\n"
     ]
    },
    {
     "name": "stdout",
     "output_type": "stream",
     "text": [
      "4: GA_RAS\n"
     ]
    },
    {
     "name": "stderr",
     "output_type": "stream",
     "text": [
      "100%|\u001b[32m██████████\u001b[0m| 50/50 [00:55<00:00,  1.11s/it]\n",
      "100%|\u001b[32m██████████\u001b[0m| 50/50 [00:42<00:00,  1.17it/s]\n",
      "100%|\u001b[32m██████████\u001b[0m| 50/50 [00:46<00:00,  1.07it/s]\n",
      "100%|\u001b[32m██████████\u001b[0m| 50/50 [00:44<00:00,  1.14it/s]\n",
      "100%|\u001b[32m██████████\u001b[0m| 50/50 [00:46<00:00,  1.08it/s]\n"
     ]
    },
    {
     "name": "stdout",
     "output_type": "stream",
     "text": [
      "4: GA_RAPRS\n"
     ]
    },
    {
     "name": "stderr",
     "output_type": "stream",
     "text": [
      "100%|\u001b[32m██████████\u001b[0m| 50/50 [00:45<00:00,  1.10it/s]\n",
      "100%|\u001b[32m██████████\u001b[0m| 50/50 [00:46<00:00,  1.08it/s]\n",
      "100%|\u001b[32m██████████\u001b[0m| 50/50 [00:43<00:00,  1.15it/s]\n",
      "100%|\u001b[32m██████████\u001b[0m| 50/50 [00:52<00:00,  1.06s/it]\n",
      "100%|\u001b[32m██████████\u001b[0m| 50/50 [00:55<00:00,  1.11s/it]\n"
     ]
    },
    {
     "name": "stdout",
     "output_type": "stream",
     "text": [
      "4: GA_RAELS\n"
     ]
    },
    {
     "name": "stderr",
     "output_type": "stream",
     "text": [
      "100%|\u001b[32m██████████\u001b[0m| 50/50 [00:52<00:00,  1.06s/it]\n",
      "100%|\u001b[32m██████████\u001b[0m| 50/50 [01:00<00:00,  1.20s/it]\n",
      "100%|\u001b[32m██████████\u001b[0m| 50/50 [00:59<00:00,  1.19s/it]\n",
      "100%|\u001b[32m██████████\u001b[0m| 50/50 [01:00<00:00,  1.21s/it]\n",
      "100%|\u001b[32m██████████\u001b[0m| 50/50 [00:58<00:00,  1.18s/it]\n"
     ]
    },
    {
     "name": "stdout",
     "output_type": "stream",
     "text": [
      "4: GA_PRELS\n"
     ]
    },
    {
     "name": "stderr",
     "output_type": "stream",
     "text": [
      "100%|\u001b[32m██████████\u001b[0m| 50/50 [00:52<00:00,  1.05s/it]\n",
      "100%|\u001b[32m██████████\u001b[0m| 50/50 [00:51<00:00,  1.02s/it]\n",
      "100%|\u001b[32m██████████\u001b[0m| 50/50 [00:51<00:00,  1.04s/it]\n",
      "100%|\u001b[32m██████████\u001b[0m| 50/50 [00:51<00:00,  1.02s/it]\n",
      "100%|\u001b[32m██████████\u001b[0m| 50/50 [00:53<00:00,  1.07s/it]\n"
     ]
    },
    {
     "name": "stdout",
     "output_type": "stream",
     "text": [
      "4: GA_RAPRELS_50\n"
     ]
    },
    {
     "name": "stderr",
     "output_type": "stream",
     "text": [
      "100%|\u001b[32m██████████\u001b[0m| 50/50 [00:52<00:00,  1.05s/it]\n",
      "100%|\u001b[32m██████████\u001b[0m| 50/50 [00:51<00:00,  1.03s/it]\n",
      "100%|\u001b[32m██████████\u001b[0m| 50/50 [00:49<00:00,  1.02it/s]\n",
      "100%|\u001b[32m██████████\u001b[0m| 50/50 [00:29<00:00,  1.71it/s]\n",
      "100%|\u001b[32m██████████\u001b[0m| 50/50 [00:30<00:00,  1.65it/s]\n"
     ]
    },
    {
     "name": "stdout",
     "output_type": "stream",
     "text": [
      "{'OPT': 429, 'GA_ELS value': 467, 'GA_ELS time': 55.79, 'GA_PRS value': 476, 'GA_PRS time': 46.51, 'GA_RAS value': 462, 'GA_RAS time': 40.64, 'GA_RAPRS value': 489, 'GA_RAPRS time': 43.63, 'GA_RAELS value': 450, 'GA_RAELS time': 52.14, 'GA_PRELS value': 476, 'GA_PRELS time': 46.19, 'GA_RAPRELS_50 value': 473, 'GA_RAPRELS_50 time': 26.8}\n",
      "5: GA_ELS\n"
     ]
    },
    {
     "name": "stderr",
     "output_type": "stream",
     "text": [
      "100%|\u001b[32m██████████\u001b[0m| 50/50 [01:52<00:00,  2.25s/it]\n",
      "100%|\u001b[32m██████████\u001b[0m| 50/50 [01:55<00:00,  2.31s/it]\n",
      "100%|\u001b[32m██████████\u001b[0m| 50/50 [01:51<00:00,  2.24s/it]\n",
      "100%|\u001b[32m██████████\u001b[0m| 50/50 [01:41<00:00,  2.02s/it]\n",
      "100%|\u001b[32m██████████\u001b[0m| 50/50 [01:44<00:00,  2.09s/it]\n"
     ]
    },
    {
     "name": "stdout",
     "output_type": "stream",
     "text": [
      "5: GA_PRS\n"
     ]
    },
    {
     "name": "stderr",
     "output_type": "stream",
     "text": [
      "100%|\u001b[32m██████████\u001b[0m| 50/50 [01:51<00:00,  2.22s/it]\n",
      "100%|\u001b[32m██████████\u001b[0m| 50/50 [01:47<00:00,  2.16s/it]\n",
      "100%|\u001b[32m██████████\u001b[0m| 50/50 [01:58<00:00,  2.38s/it]\n",
      "100%|\u001b[32m██████████\u001b[0m| 50/50 [02:01<00:00,  2.43s/it]\n",
      "100%|\u001b[32m██████████\u001b[0m| 50/50 [02:00<00:00,  2.41s/it]\n"
     ]
    },
    {
     "name": "stdout",
     "output_type": "stream",
     "text": [
      "5: GA_RAS\n"
     ]
    },
    {
     "name": "stderr",
     "output_type": "stream",
     "text": [
      "100%|\u001b[32m██████████\u001b[0m| 50/50 [02:02<00:00,  2.44s/it]\n",
      "100%|\u001b[32m██████████\u001b[0m| 50/50 [02:00<00:00,  2.41s/it]\n",
      "100%|\u001b[32m██████████\u001b[0m| 50/50 [02:00<00:00,  2.41s/it]\n",
      "100%|\u001b[32m██████████\u001b[0m| 50/50 [01:44<00:00,  2.09s/it]\n",
      "100%|\u001b[32m██████████\u001b[0m| 50/50 [01:20<00:00,  1.62s/it]\n"
     ]
    },
    {
     "name": "stdout",
     "output_type": "stream",
     "text": [
      "5: GA_RAPRS\n"
     ]
    },
    {
     "name": "stderr",
     "output_type": "stream",
     "text": [
      "100%|\u001b[32m██████████\u001b[0m| 50/50 [01:22<00:00,  1.64s/it]\n",
      "100%|\u001b[32m██████████\u001b[0m| 50/50 [01:22<00:00,  1.64s/it]\n",
      "100%|\u001b[32m██████████\u001b[0m| 50/50 [01:48<00:00,  2.18s/it]\n",
      "100%|\u001b[32m██████████\u001b[0m| 50/50 [01:59<00:00,  2.39s/it]\n",
      "100%|\u001b[32m██████████\u001b[0m| 50/50 [01:24<00:00,  1.68s/it]\n"
     ]
    },
    {
     "name": "stdout",
     "output_type": "stream",
     "text": [
      "5: GA_RAELS\n"
     ]
    },
    {
     "name": "stderr",
     "output_type": "stream",
     "text": [
      "100%|\u001b[32m██████████\u001b[0m| 50/50 [01:09<00:00,  1.39s/it]\n",
      "100%|\u001b[32m██████████\u001b[0m| 50/50 [01:49<00:00,  2.19s/it]\n",
      "100%|\u001b[32m██████████\u001b[0m| 50/50 [01:39<00:00,  1.98s/it]\n",
      "100%|\u001b[32m██████████\u001b[0m| 50/50 [01:16<00:00,  1.53s/it]\n",
      "100%|\u001b[32m██████████\u001b[0m| 50/50 [01:30<00:00,  1.82s/it]\n"
     ]
    },
    {
     "name": "stdout",
     "output_type": "stream",
     "text": [
      "5: GA_PRELS\n"
     ]
    },
    {
     "name": "stderr",
     "output_type": "stream",
     "text": [
      "100%|\u001b[32m██████████\u001b[0m| 50/50 [01:34<00:00,  1.88s/it]\n",
      "100%|\u001b[32m██████████\u001b[0m| 50/50 [01:51<00:00,  2.23s/it]\n",
      "100%|\u001b[32m██████████\u001b[0m| 50/50 [01:45<00:00,  2.11s/it]\n",
      "100%|\u001b[32m██████████\u001b[0m| 50/50 [01:43<00:00,  2.06s/it]\n",
      "100%|\u001b[32m██████████\u001b[0m| 50/50 [01:44<00:00,  2.09s/it]\n"
     ]
    },
    {
     "name": "stdout",
     "output_type": "stream",
     "text": [
      "5: GA_RAPRELS_50\n"
     ]
    },
    {
     "name": "stderr",
     "output_type": "stream",
     "text": [
      "100%|\u001b[32m██████████\u001b[0m| 50/50 [01:44<00:00,  2.09s/it]\n",
      "100%|\u001b[32m██████████\u001b[0m| 50/50 [01:42<00:00,  2.05s/it]\n",
      "100%|\u001b[32m██████████\u001b[0m| 50/50 [01:46<00:00,  2.12s/it]\n",
      "100%|\u001b[32m██████████\u001b[0m| 50/50 [01:26<00:00,  1.74s/it]\n",
      "100%|\u001b[32m██████████\u001b[0m| 50/50 [02:00<00:00,  2.40s/it]\n"
     ]
    },
    {
     "name": "stdout",
     "output_type": "stream",
     "text": [
      "{'OPT': 253, 'GA_ELS value': 284, 'GA_ELS time': 99.59, 'GA_PRS value': 291, 'GA_PRS time': 118.96, 'GA_RAS value': 272, 'GA_RAS time': 110.15, 'GA_RAPRS value': 290, 'GA_RAPRS time': 70.51, 'GA_RAELS value': 309, 'GA_RAELS time': 38.76, 'GA_PRELS value': 312, 'GA_PRELS time': 80.94, 'GA_RAPRELS_50 value': 295, 'GA_RAPRELS_50 time': 64.16}\n",
      "6: GA_ELS\n"
     ]
    },
    {
     "name": "stderr",
     "output_type": "stream",
     "text": [
      "100%|\u001b[32m██████████\u001b[0m| 50/50 [01:03<00:00,  1.28s/it]\n",
      "100%|\u001b[32m██████████\u001b[0m| 50/50 [00:59<00:00,  1.18s/it]\n",
      "100%|\u001b[32m██████████\u001b[0m| 50/50 [01:01<00:00,  1.24s/it]\n",
      "100%|\u001b[32m██████████\u001b[0m| 50/50 [00:55<00:00,  1.11s/it]\n",
      "100%|\u001b[32m██████████\u001b[0m| 50/50 [00:57<00:00,  1.15s/it]\n"
     ]
    },
    {
     "name": "stdout",
     "output_type": "stream",
     "text": [
      "6: GA_PRS\n"
     ]
    },
    {
     "name": "stderr",
     "output_type": "stream",
     "text": [
      "100%|\u001b[32m██████████\u001b[0m| 50/50 [01:00<00:00,  1.21s/it]\n",
      "100%|\u001b[32m██████████\u001b[0m| 50/50 [01:01<00:00,  1.24s/it]\n",
      "100%|\u001b[32m██████████\u001b[0m| 50/50 [01:02<00:00,  1.25s/it]\n",
      "100%|\u001b[32m██████████\u001b[0m| 50/50 [01:05<00:00,  1.32s/it]\n",
      "100%|\u001b[32m██████████\u001b[0m| 50/50 [01:01<00:00,  1.24s/it]\n"
     ]
    },
    {
     "name": "stdout",
     "output_type": "stream",
     "text": [
      "6: GA_RAS\n"
     ]
    },
    {
     "name": "stderr",
     "output_type": "stream",
     "text": [
      "100%|\u001b[32m██████████\u001b[0m| 50/50 [01:00<00:00,  1.20s/it]\n",
      "100%|\u001b[32m██████████\u001b[0m| 50/50 [00:59<00:00,  1.18s/it]\n",
      "100%|\u001b[32m██████████\u001b[0m| 50/50 [01:02<00:00,  1.24s/it]\n",
      "100%|\u001b[32m██████████\u001b[0m| 50/50 [00:58<00:00,  1.17s/it]\n",
      "100%|\u001b[32m██████████\u001b[0m| 50/50 [00:46<00:00,  1.06it/s]\n"
     ]
    },
    {
     "name": "stdout",
     "output_type": "stream",
     "text": [
      "6: GA_RAPRS\n"
     ]
    },
    {
     "name": "stderr",
     "output_type": "stream",
     "text": [
      "100%|\u001b[32m██████████\u001b[0m| 50/50 [00:45<00:00,  1.10it/s]\n",
      "100%|\u001b[32m██████████\u001b[0m| 50/50 [00:47<00:00,  1.05it/s]\n",
      "100%|\u001b[32m██████████\u001b[0m| 50/50 [00:40<00:00,  1.23it/s]\n",
      "100%|\u001b[32m██████████\u001b[0m| 50/50 [00:35<00:00,  1.41it/s]\n",
      "100%|\u001b[32m██████████\u001b[0m| 50/50 [00:59<00:00,  1.18s/it]\n"
     ]
    },
    {
     "name": "stdout",
     "output_type": "stream",
     "text": [
      "6: GA_RAELS\n"
     ]
    },
    {
     "name": "stderr",
     "output_type": "stream",
     "text": [
      "100%|\u001b[32m██████████\u001b[0m| 50/50 [00:58<00:00,  1.17s/it]\n",
      "100%|\u001b[32m██████████\u001b[0m| 50/50 [00:47<00:00,  1.06it/s]\n",
      "100%|\u001b[32m██████████\u001b[0m| 50/50 [00:57<00:00,  1.16s/it]\n",
      "100%|\u001b[32m██████████\u001b[0m| 50/50 [00:42<00:00,  1.17it/s]\n",
      "100%|\u001b[32m██████████\u001b[0m| 50/50 [00:43<00:00,  1.15it/s]\n"
     ]
    },
    {
     "name": "stdout",
     "output_type": "stream",
     "text": [
      "6: GA_PRELS\n"
     ]
    },
    {
     "name": "stderr",
     "output_type": "stream",
     "text": [
      "100%|\u001b[32m██████████\u001b[0m| 50/50 [00:47<00:00,  1.05it/s]\n",
      "100%|\u001b[32m██████████\u001b[0m| 50/50 [00:48<00:00,  1.04it/s]\n",
      "100%|\u001b[32m██████████\u001b[0m| 50/50 [00:49<00:00,  1.01it/s]\n",
      "100%|\u001b[32m██████████\u001b[0m| 50/50 [00:56<00:00,  1.13s/it]\n",
      "100%|\u001b[32m██████████\u001b[0m| 50/50 [01:03<00:00,  1.27s/it]\n"
     ]
    },
    {
     "name": "stdout",
     "output_type": "stream",
     "text": [
      "6: GA_RAPRELS_50\n"
     ]
    },
    {
     "name": "stderr",
     "output_type": "stream",
     "text": [
      "100%|\u001b[32m██████████\u001b[0m| 50/50 [01:02<00:00,  1.24s/it]\n",
      "100%|\u001b[32m██████████\u001b[0m| 50/50 [01:03<00:00,  1.27s/it]\n",
      "100%|\u001b[32m██████████\u001b[0m| 50/50 [01:03<00:00,  1.27s/it]\n",
      "100%|\u001b[32m██████████\u001b[0m| 50/50 [01:00<00:00,  1.21s/it]\n",
      "100%|\u001b[32m██████████\u001b[0m| 50/50 [01:00<00:00,  1.22s/it]\n"
     ]
    },
    {
     "name": "stdout",
     "output_type": "stream",
     "text": [
      "{'OPT': 138, 'GA_ELS value': 167, 'GA_ELS time': 39.19, 'GA_PRS value': 176, 'GA_PRS time': 61.91, 'GA_RAS value': 163, 'GA_RAS time': 62.14, 'GA_RAPRS value': 165, 'GA_RAPRS time': 28.37, 'GA_RAELS value': 161, 'GA_RAELS time': 58.65, 'GA_PRELS value': 163, 'GA_PRELS time': 39.03, 'GA_RAPRELS_50 value': 156, 'GA_RAPRELS_50 time': 62.19}\n"
     ]
    },
    {
     "data": {
      "text/html": [
       "<div>\n",
       "<style scoped>\n",
       "    .dataframe tbody tr th:only-of-type {\n",
       "        vertical-align: middle;\n",
       "    }\n",
       "\n",
       "    .dataframe tbody tr th {\n",
       "        vertical-align: top;\n",
       "    }\n",
       "\n",
       "    .dataframe thead th {\n",
       "        text-align: right;\n",
       "    }\n",
       "</style>\n",
       "<table border=\"1\" class=\"dataframe\">\n",
       "  <thead>\n",
       "    <tr style=\"text-align: right;\">\n",
       "      <th></th>\n",
       "      <th>OPT</th>\n",
       "      <th>GA_ELS value</th>\n",
       "      <th>GA_ELS time</th>\n",
       "      <th>GA_PRS value</th>\n",
       "      <th>GA_PRS time</th>\n",
       "      <th>GA_RAS value</th>\n",
       "      <th>GA_RAS time</th>\n",
       "      <th>GA_RAPRS value</th>\n",
       "      <th>GA_RAPRS time</th>\n",
       "      <th>GA_RAELS value</th>\n",
       "      <th>GA_RAELS time</th>\n",
       "      <th>GA_PRELS value</th>\n",
       "      <th>GA_PRELS time</th>\n",
       "      <th>GA_RAPRELS_50 value</th>\n",
       "      <th>GA_RAPRELS_50 time</th>\n",
       "    </tr>\n",
       "  </thead>\n",
       "  <tbody>\n",
       "    <tr>\n",
       "      <th>4</th>\n",
       "      <td>429</td>\n",
       "      <td>467</td>\n",
       "      <td>55.79</td>\n",
       "      <td>476</td>\n",
       "      <td>46.51</td>\n",
       "      <td>462</td>\n",
       "      <td>40.64</td>\n",
       "      <td>489</td>\n",
       "      <td>43.63</td>\n",
       "      <td>450</td>\n",
       "      <td>52.14</td>\n",
       "      <td>476</td>\n",
       "      <td>46.19</td>\n",
       "      <td>473</td>\n",
       "      <td>26.80</td>\n",
       "    </tr>\n",
       "    <tr>\n",
       "      <th>5</th>\n",
       "      <td>253</td>\n",
       "      <td>284</td>\n",
       "      <td>99.59</td>\n",
       "      <td>291</td>\n",
       "      <td>118.96</td>\n",
       "      <td>272</td>\n",
       "      <td>110.15</td>\n",
       "      <td>290</td>\n",
       "      <td>70.51</td>\n",
       "      <td>309</td>\n",
       "      <td>38.76</td>\n",
       "      <td>312</td>\n",
       "      <td>80.94</td>\n",
       "      <td>295</td>\n",
       "      <td>64.16</td>\n",
       "    </tr>\n",
       "    <tr>\n",
       "      <th>6</th>\n",
       "      <td>138</td>\n",
       "      <td>167</td>\n",
       "      <td>39.19</td>\n",
       "      <td>176</td>\n",
       "      <td>61.91</td>\n",
       "      <td>163</td>\n",
       "      <td>62.14</td>\n",
       "      <td>165</td>\n",
       "      <td>28.37</td>\n",
       "      <td>161</td>\n",
       "      <td>58.65</td>\n",
       "      <td>163</td>\n",
       "      <td>39.03</td>\n",
       "      <td>156</td>\n",
       "      <td>62.19</td>\n",
       "    </tr>\n",
       "  </tbody>\n",
       "</table>\n",
       "</div>"
      ],
      "text/plain": [
       "   OPT  GA_ELS value  GA_ELS time  GA_PRS value  GA_PRS time  GA_RAS value  \\\n",
       "4  429           467        55.79           476        46.51           462   \n",
       "5  253           284        99.59           291       118.96           272   \n",
       "6  138           167        39.19           176        61.91           163   \n",
       "\n",
       "   GA_RAS time  GA_RAPRS value  GA_RAPRS time  GA_RAELS value  GA_RAELS time  \\\n",
       "4        40.64             489          43.63             450          52.14   \n",
       "5       110.15             290          70.51             309          38.76   \n",
       "6        62.14             165          28.37             161          58.65   \n",
       "\n",
       "   GA_PRELS value  GA_PRELS time  GA_RAPRELS_50 value  GA_RAPRELS_50 time  \n",
       "4             476          46.19                  473               26.80  \n",
       "5             312          80.94                  295               64.16  \n",
       "6             163          39.03                  156               62.19  "
      ]
     },
     "execution_count": 6,
     "metadata": {},
     "output_type": "execute_result"
    },
    {
     "data": {
      "text/plain": [
       "<Figure size 640x480 with 0 Axes>"
      ]
     },
     "metadata": {},
     "output_type": "display_data"
    }
   ],
   "source": [
    "files = [{'name': '4', 'optimum': 429},\n",
    "         {'name': '5', 'optimum': 253},\n",
    "         {'name': '6', 'optimum': 138},]\n",
    "\n",
    "algorithms = [ {'name': 'GA_ELS', 'params': [20, 0.5, (0, 0, 100), (0, 100, 0, 0), (0, 0), 50], \n",
    "               'class': GeneticAlgorithm},\n",
    "               {'name': 'GA_PRS', 'params': [20, 0.5, (0, 100, 0), (0, 100, 0, 0), (0, 0), 50], \n",
    "               'class': GeneticAlgorithm},\n",
    "               {'name': 'GA_RAS', 'params': [20, 0.5, (100, 0, 0), (0, 100, 0, 0), (0, 0), 50], \n",
    "               'class': GeneticAlgorithm},\n",
    "               {'name': 'GA_RAPRS', 'params': [20, 0.5, (50, 50, 0), (0, 100, 0, 0), (0, 0), 50], \n",
    "               'class': GeneticAlgorithm},\n",
    "               {'name': 'GA_RAELS', 'params': [20, 0.5, (50, 0, 50), (0, 100, 0, 0), (0, 0), 50], \n",
    "               'class': GeneticAlgorithm},\n",
    "               {'name': 'GA_PRELS', 'params': [20, 0.5, (0, 50, 50), (0, 100, 0, 0), (0, 0), 50], \n",
    "               'class': GeneticAlgorithm},\n",
    "               {'name': 'GA_ALLS', 'params': [20, 0.5, (33, 33, 34), (0, 100, 0, 0), (0, 0), 50], \n",
    "               'class': GeneticAlgorithm}]\n",
    "start_experiments(algorithms, files)"
   ]
  },
  {
   "cell_type": "code",
   "execution_count": 7,
   "metadata": {},
   "outputs": [
    {
     "name": "stdout",
     "output_type": "stream",
     "text": [
      "4: GA_ONC\n"
     ]
    },
    {
     "name": "stderr",
     "output_type": "stream",
     "text": [
      "100%|\u001b[32m██████████\u001b[0m| 50/50 [00:32<00:00,  1.55it/s]\n",
      "100%|\u001b[32m██████████\u001b[0m| 50/50 [00:39<00:00,  1.26it/s]\n",
      "100%|\u001b[32m██████████\u001b[0m| 50/50 [00:36<00:00,  1.37it/s]\n",
      "100%|\u001b[32m██████████\u001b[0m| 50/50 [00:32<00:00,  1.53it/s]\n",
      "100%|\u001b[32m██████████\u001b[0m| 50/50 [00:32<00:00,  1.56it/s]\n"
     ]
    },
    {
     "name": "stdout",
     "output_type": "stream",
     "text": [
      "4: GA_RAC\n"
     ]
    },
    {
     "name": "stderr",
     "output_type": "stream",
     "text": [
      "100%|\u001b[32m██████████\u001b[0m| 50/50 [00:34<00:00,  1.46it/s]\n",
      "100%|\u001b[32m██████████\u001b[0m| 50/50 [00:38<00:00,  1.29it/s]\n",
      "100%|\u001b[32m██████████\u001b[0m| 50/50 [00:43<00:00,  1.16it/s]\n",
      "100%|\u001b[32m██████████\u001b[0m| 50/50 [00:34<00:00,  1.45it/s]\n",
      "100%|\u001b[32m██████████\u001b[0m| 50/50 [00:37<00:00,  1.33it/s]\n"
     ]
    },
    {
     "name": "stdout",
     "output_type": "stream",
     "text": [
      "4: GA_TWC\n"
     ]
    },
    {
     "name": "stderr",
     "output_type": "stream",
     "text": [
      "100%|\u001b[32m██████████\u001b[0m| 50/50 [00:46<00:00,  1.07it/s]\n",
      "100%|\u001b[32m██████████\u001b[0m| 50/50 [00:35<00:00,  1.40it/s]\n",
      "100%|\u001b[32m██████████\u001b[0m| 50/50 [00:32<00:00,  1.53it/s]\n",
      "100%|\u001b[32m██████████\u001b[0m| 50/50 [00:29<00:00,  1.70it/s]\n",
      "100%|\u001b[32m██████████\u001b[0m| 50/50 [00:29<00:00,  1.67it/s]\n"
     ]
    },
    {
     "name": "stdout",
     "output_type": "stream",
     "text": [
      "4: GA_UNC\n"
     ]
    },
    {
     "name": "stderr",
     "output_type": "stream",
     "text": [
      "100%|\u001b[32m██████████\u001b[0m| 50/50 [00:30<00:00,  1.63it/s]\n",
      "100%|\u001b[32m██████████\u001b[0m| 50/50 [00:30<00:00,  1.64it/s]\n",
      "100%|\u001b[32m██████████\u001b[0m| 50/50 [00:28<00:00,  1.76it/s]\n",
      "100%|\u001b[32m██████████\u001b[0m| 50/50 [00:30<00:00,  1.65it/s]\n",
      "100%|\u001b[32m██████████\u001b[0m| 50/50 [00:30<00:00,  1.66it/s]\n"
     ]
    },
    {
     "name": "stdout",
     "output_type": "stream",
     "text": [
      "4: GA_RAONC\n"
     ]
    },
    {
     "name": "stderr",
     "output_type": "stream",
     "text": [
      "100%|\u001b[32m██████████\u001b[0m| 50/50 [00:28<00:00,  1.73it/s]\n",
      "100%|\u001b[32m██████████\u001b[0m| 50/50 [00:29<00:00,  1.68it/s]\n",
      "100%|\u001b[32m██████████\u001b[0m| 50/50 [00:30<00:00,  1.64it/s]\n",
      "100%|\u001b[32m██████████\u001b[0m| 50/50 [00:29<00:00,  1.70it/s]\n",
      "100%|\u001b[32m██████████\u001b[0m| 50/50 [00:29<00:00,  1.71it/s]\n"
     ]
    },
    {
     "name": "stdout",
     "output_type": "stream",
     "text": [
      "4: GA_TWUNC\n"
     ]
    },
    {
     "name": "stderr",
     "output_type": "stream",
     "text": [
      "100%|\u001b[32m██████████\u001b[0m| 50/50 [00:30<00:00,  1.65it/s]\n",
      "100%|\u001b[32m██████████\u001b[0m| 50/50 [00:29<00:00,  1.68it/s]\n",
      "100%|\u001b[32m██████████\u001b[0m| 50/50 [00:28<00:00,  1.76it/s]\n",
      "100%|\u001b[32m██████████\u001b[0m| 50/50 [00:30<00:00,  1.66it/s]\n",
      "100%|\u001b[32m██████████\u001b[0m| 50/50 [00:29<00:00,  1.68it/s]\n"
     ]
    },
    {
     "name": "stdout",
     "output_type": "stream",
     "text": [
      "4: GA_ONUNC\n"
     ]
    },
    {
     "name": "stderr",
     "output_type": "stream",
     "text": [
      "100%|\u001b[32m██████████\u001b[0m| 50/50 [00:28<00:00,  1.74it/s]\n",
      "100%|\u001b[32m██████████\u001b[0m| 50/50 [00:30<00:00,  1.65it/s]\n",
      "100%|\u001b[32m██████████\u001b[0m| 50/50 [00:30<00:00,  1.65it/s]\n",
      "100%|\u001b[32m██████████\u001b[0m| 50/50 [00:28<00:00,  1.76it/s]\n",
      "100%|\u001b[32m██████████\u001b[0m| 50/50 [00:29<00:00,  1.68it/s]\n"
     ]
    },
    {
     "name": "stdout",
     "output_type": "stream",
     "text": [
      "4: GA_ONTWC\n"
     ]
    },
    {
     "name": "stderr",
     "output_type": "stream",
     "text": [
      "100%|\u001b[32m██████████\u001b[0m| 50/50 [00:30<00:00,  1.65it/s]\n",
      "100%|\u001b[32m██████████\u001b[0m| 50/50 [00:28<00:00,  1.77it/s]\n",
      "100%|\u001b[32m██████████\u001b[0m| 50/50 [00:29<00:00,  1.68it/s]\n",
      "100%|\u001b[32m██████████\u001b[0m| 50/50 [00:30<00:00,  1.66it/s]\n",
      "100%|\u001b[32m██████████\u001b[0m| 50/50 [00:28<00:00,  1.78it/s]\n"
     ]
    },
    {
     "name": "stdout",
     "output_type": "stream",
     "text": [
      "4: GA_RATWC\n"
     ]
    },
    {
     "name": "stderr",
     "output_type": "stream",
     "text": [
      "100%|\u001b[32m██████████\u001b[0m| 50/50 [00:30<00:00,  1.62it/s]\n",
      "100%|\u001b[32m██████████\u001b[0m| 50/50 [00:34<00:00,  1.45it/s]\n",
      "100%|\u001b[32m██████████\u001b[0m| 50/50 [00:34<00:00,  1.46it/s]\n",
      "100%|\u001b[32m██████████\u001b[0m| 50/50 [00:32<00:00,  1.55it/s]\n",
      "100%|\u001b[32m██████████\u001b[0m| 50/50 [00:31<00:00,  1.59it/s]\n"
     ]
    },
    {
     "name": "stdout",
     "output_type": "stream",
     "text": [
      "4: GA_RAUNC\n"
     ]
    },
    {
     "name": "stderr",
     "output_type": "stream",
     "text": [
      "100%|\u001b[32m██████████\u001b[0m| 50/50 [00:30<00:00,  1.62it/s]\n",
      "100%|\u001b[32m██████████\u001b[0m| 50/50 [00:28<00:00,  1.73it/s]\n",
      "100%|\u001b[32m██████████\u001b[0m| 50/50 [00:29<00:00,  1.67it/s]\n",
      "100%|\u001b[32m██████████\u001b[0m| 50/50 [00:30<00:00,  1.64it/s]\n",
      "100%|\u001b[32m██████████\u001b[0m| 50/50 [00:29<00:00,  1.67it/s]\n"
     ]
    },
    {
     "name": "stdout",
     "output_type": "stream",
     "text": [
      "4: GA_ALLC\n"
     ]
    },
    {
     "name": "stderr",
     "output_type": "stream",
     "text": [
      "100%|\u001b[32m██████████\u001b[0m| 50/50 [00:28<00:00,  1.74it/s]\n",
      "100%|\u001b[32m██████████\u001b[0m| 50/50 [00:30<00:00,  1.62it/s]\n",
      "100%|\u001b[32m██████████\u001b[0m| 50/50 [00:30<00:00,  1.63it/s]\n",
      "100%|\u001b[32m██████████\u001b[0m| 50/50 [00:30<00:00,  1.63it/s]\n",
      "100%|\u001b[32m██████████\u001b[0m| 50/50 [00:30<00:00,  1.64it/s]\n"
     ]
    },
    {
     "name": "stdout",
     "output_type": "stream",
     "text": [
      "{'OPT': 429, 'GA_ONC value': 473, 'GA_ONC time': 34.32, 'GA_RAC value': 431, 'GA_RAC time': 11.63, 'GA_TWC value': 459, 'GA_TWC time': 19.87, 'GA_UNC value': 432, 'GA_UNC time': 6.96, 'GA_RAONC value': 432, 'GA_RAONC time': 6.27, 'GA_TWUNC value': 477, 'GA_TWUNC time': 23.22, 'GA_ONUNC value': 453, 'GA_ONUNC time': 25.13, 'GA_ONTWC value': 486, 'GA_ONTWC time': 27.1, 'GA_RATWC value': 434, 'GA_RATWC time': 17.19, 'GA_RAUNC value': 433, 'GA_RAUNC time': 6.14, 'GA_ALLC value': 432, 'GA_ALLC time': 5.92}\n",
      "5: GA_ONC\n"
     ]
    },
    {
     "name": "stderr",
     "output_type": "stream",
     "text": [
      "100%|\u001b[32m██████████\u001b[0m| 50/50 [01:03<00:00,  1.28s/it]\n",
      "100%|\u001b[32m██████████\u001b[0m| 50/50 [01:23<00:00,  1.67s/it]\n",
      "100%|\u001b[32m██████████\u001b[0m| 50/50 [01:50<00:00,  2.22s/it]\n",
      "100%|\u001b[32m██████████\u001b[0m| 50/50 [01:42<00:00,  2.04s/it]\n",
      "100%|\u001b[32m██████████\u001b[0m| 50/50 [01:41<00:00,  2.03s/it]\n"
     ]
    },
    {
     "name": "stdout",
     "output_type": "stream",
     "text": [
      "5: GA_RAC\n"
     ]
    },
    {
     "name": "stderr",
     "output_type": "stream",
     "text": [
      " 24%|\u001b[32m██▍       \u001b[0m| 12/50 [00:25<01:21,  2.15s/it]\n",
      "100%|\u001b[32m██████████\u001b[0m| 50/50 [01:55<00:00,  2.30s/it]\n",
      "100%|\u001b[32m██████████\u001b[0m| 50/50 [02:00<00:00,  2.40s/it]\n",
      "100%|\u001b[32m██████████\u001b[0m| 50/50 [02:02<00:00,  2.45s/it]\n",
      "100%|\u001b[32m██████████\u001b[0m| 50/50 [01:58<00:00,  2.38s/it]\n"
     ]
    },
    {
     "name": "stdout",
     "output_type": "stream",
     "text": [
      "5: GA_TWC\n"
     ]
    },
    {
     "name": "stderr",
     "output_type": "stream",
     "text": [
      "100%|\u001b[32m██████████\u001b[0m| 50/50 [01:55<00:00,  2.31s/it]\n",
      "100%|\u001b[32m██████████\u001b[0m| 50/50 [01:45<00:00,  2.12s/it]\n",
      "100%|\u001b[32m██████████\u001b[0m| 50/50 [01:46<00:00,  2.13s/it]\n",
      "100%|\u001b[32m██████████\u001b[0m| 50/50 [01:48<00:00,  2.18s/it]\n",
      "100%|\u001b[32m██████████\u001b[0m| 50/50 [01:46<00:00,  2.14s/it]\n"
     ]
    },
    {
     "name": "stdout",
     "output_type": "stream",
     "text": [
      "5: GA_UNC\n"
     ]
    },
    {
     "name": "stderr",
     "output_type": "stream",
     "text": [
      " 26%|\u001b[32m██▌       \u001b[0m| 13/50 [00:29<01:23,  2.24s/it]\n",
      "100%|\u001b[32m██████████\u001b[0m| 50/50 [01:55<00:00,  2.32s/it]\n",
      "100%|\u001b[32m██████████\u001b[0m| 50/50 [02:05<00:00,  2.51s/it]\n",
      "100%|\u001b[32m██████████\u001b[0m| 50/50 [02:02<00:00,  2.45s/it]\n",
      "100%|\u001b[32m██████████\u001b[0m| 50/50 [02:02<00:00,  2.45s/it]\n"
     ]
    },
    {
     "name": "stdout",
     "output_type": "stream",
     "text": [
      "5: GA_RAONC\n"
     ]
    },
    {
     "name": "stderr",
     "output_type": "stream",
     "text": [
      "100%|\u001b[32m██████████\u001b[0m| 50/50 [01:56<00:00,  2.33s/it]\n",
      "100%|\u001b[32m██████████\u001b[0m| 50/50 [01:55<00:00,  2.32s/it]\n",
      "100%|\u001b[32m██████████\u001b[0m| 50/50 [02:02<00:00,  2.44s/it]\n",
      "100%|\u001b[32m██████████\u001b[0m| 50/50 [01:58<00:00,  2.37s/it]\n",
      "100%|\u001b[32m██████████\u001b[0m| 50/50 [01:58<00:00,  2.37s/it]\n"
     ]
    },
    {
     "name": "stdout",
     "output_type": "stream",
     "text": [
      "5: GA_TWUNC\n"
     ]
    },
    {
     "name": "stderr",
     "output_type": "stream",
     "text": [
      "100%|\u001b[32m██████████\u001b[0m| 50/50 [01:57<00:00,  2.35s/it]\n",
      "100%|\u001b[32m██████████\u001b[0m| 50/50 [01:49<00:00,  2.19s/it]\n",
      "100%|\u001b[32m██████████\u001b[0m| 50/50 [01:56<00:00,  2.33s/it]\n",
      "100%|\u001b[32m██████████\u001b[0m| 50/50 [01:24<00:00,  1.70s/it]\n",
      "100%|\u001b[32m██████████\u001b[0m| 50/50 [01:08<00:00,  1.37s/it]\n"
     ]
    },
    {
     "name": "stdout",
     "output_type": "stream",
     "text": [
      "5: GA_ONUNC\n"
     ]
    },
    {
     "name": "stderr",
     "output_type": "stream",
     "text": [
      "100%|\u001b[32m██████████\u001b[0m| 50/50 [01:06<00:00,  1.32s/it]\n",
      "100%|\u001b[32m██████████\u001b[0m| 50/50 [01:06<00:00,  1.34s/it]\n",
      "100%|\u001b[32m██████████\u001b[0m| 50/50 [01:05<00:00,  1.31s/it]\n",
      "100%|\u001b[32m██████████\u001b[0m| 50/50 [01:18<00:00,  1.56s/it]\n",
      "100%|\u001b[32m██████████\u001b[0m| 50/50 [01:55<00:00,  2.31s/it]\n"
     ]
    },
    {
     "name": "stdout",
     "output_type": "stream",
     "text": [
      "5: GA_ONTWC\n"
     ]
    },
    {
     "name": "stderr",
     "output_type": "stream",
     "text": [
      "100%|\u001b[32m██████████\u001b[0m| 50/50 [01:56<00:00,  2.33s/it]\n",
      "100%|\u001b[32m██████████\u001b[0m| 50/50 [01:45<00:00,  2.12s/it]\n",
      "100%|\u001b[32m██████████\u001b[0m| 50/50 [01:00<00:00,  1.21s/it]\n",
      "100%|\u001b[32m██████████\u001b[0m| 50/50 [01:10<00:00,  1.42s/it]\n",
      "100%|\u001b[32m██████████\u001b[0m| 50/50 [00:55<00:00,  1.11s/it]\n"
     ]
    },
    {
     "name": "stdout",
     "output_type": "stream",
     "text": [
      "5: GA_RATWC\n"
     ]
    },
    {
     "name": "stderr",
     "output_type": "stream",
     "text": [
      "100%|\u001b[32m██████████\u001b[0m| 50/50 [01:21<00:00,  1.63s/it]\n",
      "100%|\u001b[32m██████████\u001b[0m| 50/50 [01:08<00:00,  1.37s/it]\n",
      " 22%|\u001b[32m██▏       \u001b[0m| 11/50 [00:11<00:42,  1.08s/it]\n",
      "100%|\u001b[32m██████████\u001b[0m| 50/50 [00:58<00:00,  1.17s/it]\n",
      " 26%|\u001b[32m██▌       \u001b[0m| 13/50 [00:14<00:42,  1.14s/it]\n"
     ]
    },
    {
     "name": "stdout",
     "output_type": "stream",
     "text": [
      "5: GA_RAUNC\n"
     ]
    },
    {
     "name": "stderr",
     "output_type": "stream",
     "text": [
      "100%|\u001b[32m██████████\u001b[0m| 50/50 [00:56<00:00,  1.13s/it]\n",
      "100%|\u001b[32m██████████\u001b[0m| 50/50 [00:55<00:00,  1.11s/it]\n",
      "100%|\u001b[32m██████████\u001b[0m| 50/50 [00:59<00:00,  1.19s/it]\n",
      "100%|\u001b[32m██████████\u001b[0m| 50/50 [00:55<00:00,  1.11s/it]\n",
      "100%|\u001b[32m██████████\u001b[0m| 50/50 [00:57<00:00,  1.15s/it]\n"
     ]
    },
    {
     "name": "stdout",
     "output_type": "stream",
     "text": [
      "5: GA_ALLC\n"
     ]
    },
    {
     "name": "stderr",
     "output_type": "stream",
     "text": [
      "100%|\u001b[32m██████████\u001b[0m| 50/50 [01:05<00:00,  1.32s/it]\n",
      "100%|\u001b[32m██████████\u001b[0m| 50/50 [01:07<00:00,  1.35s/it]\n",
      "100%|\u001b[32m██████████\u001b[0m| 50/50 [01:06<00:00,  1.33s/it]\n",
      "100%|\u001b[32m██████████\u001b[0m| 50/50 [01:06<00:00,  1.33s/it]\n",
      "100%|\u001b[32m██████████\u001b[0m| 50/50 [01:30<00:00,  1.81s/it]\n"
     ]
    },
    {
     "name": "stdout",
     "output_type": "stream",
     "text": [
      "{'OPT': 253, 'GA_ONC value': 282, 'GA_ONC time': 9.85, 'GA_RAC value': 253, 'GA_RAC time': 25.89, 'GA_TWC value': 293, 'GA_TWC time': 95.4, 'GA_UNC value': 253, 'GA_UNC time': 29.23, 'GA_RAONC value': 256, 'GA_RAONC time': 39.86, 'GA_TWUNC value': 311, 'GA_TWUNC time': 81.51, 'GA_ONUNC value': 308, 'GA_ONUNC time': 66.1, 'GA_ONTWC value': 339, 'GA_ONTWC time': 104.5, 'GA_RATWC value': 253, 'GA_RATWC time': 11.93, 'GA_RAUNC value': 257, 'GA_RAUNC time': 13.04, 'GA_ALLC value': 254, 'GA_ALLC time': 12.03}\n",
      "6: GA_ONC\n"
     ]
    },
    {
     "name": "stderr",
     "output_type": "stream",
     "text": [
      "100%|\u001b[32m██████████\u001b[0m| 50/50 [00:31<00:00,  1.61it/s]\n",
      "100%|\u001b[32m██████████\u001b[0m| 50/50 [00:31<00:00,  1.57it/s]\n",
      "100%|\u001b[32m██████████\u001b[0m| 50/50 [00:36<00:00,  1.36it/s]\n",
      "100%|\u001b[32m██████████\u001b[0m| 50/50 [00:39<00:00,  1.28it/s]\n",
      "100%|\u001b[32m██████████\u001b[0m| 50/50 [01:03<00:00,  1.27s/it]\n"
     ]
    },
    {
     "name": "stdout",
     "output_type": "stream",
     "text": [
      "6: GA_RAC\n"
     ]
    },
    {
     "name": "stderr",
     "output_type": "stream",
     "text": [
      "100%|\u001b[32m██████████\u001b[0m| 50/50 [01:03<00:00,  1.27s/it]\n",
      "100%|\u001b[32m██████████\u001b[0m| 50/50 [01:00<00:00,  1.22s/it]\n",
      "100%|\u001b[32m██████████\u001b[0m| 50/50 [00:47<00:00,  1.04it/s]\n",
      "100%|\u001b[32m██████████\u001b[0m| 50/50 [00:35<00:00,  1.41it/s]\n",
      "100%|\u001b[32m██████████\u001b[0m| 50/50 [01:01<00:00,  1.24s/it]\n"
     ]
    },
    {
     "name": "stdout",
     "output_type": "stream",
     "text": [
      "6: GA_TWC\n"
     ]
    },
    {
     "name": "stderr",
     "output_type": "stream",
     "text": [
      "100%|\u001b[32m██████████\u001b[0m| 50/50 [00:58<00:00,  1.18s/it]\n",
      "100%|\u001b[32m██████████\u001b[0m| 50/50 [01:05<00:00,  1.30s/it]\n",
      "100%|\u001b[32m██████████\u001b[0m| 50/50 [00:51<00:00,  1.02s/it]\n",
      "100%|\u001b[32m██████████\u001b[0m| 50/50 [00:34<00:00,  1.44it/s]\n",
      "100%|\u001b[32m██████████\u001b[0m| 50/50 [00:31<00:00,  1.57it/s]\n"
     ]
    },
    {
     "name": "stdout",
     "output_type": "stream",
     "text": [
      "6: GA_UNC\n"
     ]
    },
    {
     "name": "stderr",
     "output_type": "stream",
     "text": [
      "100%|\u001b[32m██████████\u001b[0m| 50/50 [00:45<00:00,  1.10it/s]\n",
      "100%|\u001b[32m██████████\u001b[0m| 50/50 [01:00<00:00,  1.21s/it]\n",
      "100%|\u001b[32m██████████\u001b[0m| 50/50 [00:35<00:00,  1.40it/s]\n",
      "100%|\u001b[32m██████████\u001b[0m| 50/50 [00:33<00:00,  1.51it/s]\n",
      "100%|\u001b[32m██████████\u001b[0m| 50/50 [00:34<00:00,  1.44it/s]\n"
     ]
    },
    {
     "name": "stdout",
     "output_type": "stream",
     "text": [
      "6: GA_RAONC\n"
     ]
    },
    {
     "name": "stderr",
     "output_type": "stream",
     "text": [
      "100%|\u001b[32m██████████\u001b[0m| 50/50 [00:34<00:00,  1.43it/s]\n",
      "100%|\u001b[32m██████████\u001b[0m| 50/50 [00:35<00:00,  1.39it/s]\n",
      "100%|\u001b[32m██████████\u001b[0m| 50/50 [00:51<00:00,  1.04s/it]\n",
      "100%|\u001b[32m██████████\u001b[0m| 50/50 [00:41<00:00,  1.20it/s]\n",
      "100%|\u001b[32m██████████\u001b[0m| 50/50 [00:33<00:00,  1.49it/s]\n"
     ]
    },
    {
     "name": "stdout",
     "output_type": "stream",
     "text": [
      "6: GA_TWUNC\n"
     ]
    },
    {
     "name": "stderr",
     "output_type": "stream",
     "text": [
      "100%|\u001b[32m██████████\u001b[0m| 50/50 [00:41<00:00,  1.21it/s]\n",
      "100%|\u001b[32m██████████\u001b[0m| 50/50 [00:38<00:00,  1.31it/s]\n",
      "100%|\u001b[32m██████████\u001b[0m| 50/50 [00:34<00:00,  1.43it/s]\n",
      "100%|\u001b[32m██████████\u001b[0m| 50/50 [00:36<00:00,  1.39it/s]\n",
      "100%|\u001b[32m██████████\u001b[0m| 50/50 [00:34<00:00,  1.47it/s]\n"
     ]
    },
    {
     "name": "stdout",
     "output_type": "stream",
     "text": [
      "6: GA_ONUNC\n"
     ]
    },
    {
     "name": "stderr",
     "output_type": "stream",
     "text": [
      "100%|\u001b[32m██████████\u001b[0m| 50/50 [00:34<00:00,  1.45it/s]\n",
      "100%|\u001b[32m██████████\u001b[0m| 50/50 [00:43<00:00,  1.15it/s]\n",
      "100%|\u001b[32m██████████\u001b[0m| 50/50 [00:34<00:00,  1.47it/s]\n",
      "100%|\u001b[32m██████████\u001b[0m| 50/50 [00:38<00:00,  1.30it/s]\n",
      "100%|\u001b[32m██████████\u001b[0m| 50/50 [00:34<00:00,  1.46it/s]\n"
     ]
    },
    {
     "name": "stdout",
     "output_type": "stream",
     "text": [
      "6: GA_ONTWC\n"
     ]
    },
    {
     "name": "stderr",
     "output_type": "stream",
     "text": [
      "100%|\u001b[32m██████████\u001b[0m| 50/50 [00:32<00:00,  1.56it/s]\n",
      "100%|\u001b[32m██████████\u001b[0m| 50/50 [00:31<00:00,  1.60it/s]\n",
      "100%|\u001b[32m██████████\u001b[0m| 50/50 [00:36<00:00,  1.38it/s]\n",
      "100%|\u001b[32m██████████\u001b[0m| 50/50 [00:35<00:00,  1.40it/s]\n",
      "100%|\u001b[32m██████████\u001b[0m| 50/50 [00:33<00:00,  1.48it/s]\n"
     ]
    },
    {
     "name": "stdout",
     "output_type": "stream",
     "text": [
      "6: GA_RATWC\n"
     ]
    },
    {
     "name": "stderr",
     "output_type": "stream",
     "text": [
      "100%|\u001b[32m██████████\u001b[0m| 50/50 [00:46<00:00,  1.08it/s]\n",
      "100%|\u001b[32m██████████\u001b[0m| 50/50 [00:50<00:00,  1.01s/it]\n",
      "100%|\u001b[32m██████████\u001b[0m| 50/50 [00:30<00:00,  1.62it/s]\n",
      "100%|\u001b[32m██████████\u001b[0m| 50/50 [00:31<00:00,  1.59it/s]\n",
      "100%|\u001b[32m██████████\u001b[0m| 50/50 [00:40<00:00,  1.24it/s]\n"
     ]
    },
    {
     "name": "stdout",
     "output_type": "stream",
     "text": [
      "6: GA_RAUNC\n"
     ]
    },
    {
     "name": "stderr",
     "output_type": "stream",
     "text": [
      "100%|\u001b[32m██████████\u001b[0m| 50/50 [00:50<00:00,  1.02s/it]\n",
      "100%|\u001b[32m██████████\u001b[0m| 50/50 [00:51<00:00,  1.03s/it]\n",
      "100%|\u001b[32m██████████\u001b[0m| 50/50 [00:33<00:00,  1.49it/s]\n",
      "100%|\u001b[32m██████████\u001b[0m| 50/50 [00:35<00:00,  1.41it/s]\n",
      "100%|\u001b[32m██████████\u001b[0m| 50/50 [00:35<00:00,  1.39it/s]\n"
     ]
    },
    {
     "name": "stdout",
     "output_type": "stream",
     "text": [
      "6: GA_ALLC\n"
     ]
    },
    {
     "name": "stderr",
     "output_type": "stream",
     "text": [
      "100%|\u001b[32m██████████\u001b[0m| 50/50 [00:33<00:00,  1.47it/s]\n",
      "100%|\u001b[32m██████████\u001b[0m| 50/50 [00:36<00:00,  1.38it/s]\n",
      "100%|\u001b[32m██████████\u001b[0m| 50/50 [00:34<00:00,  1.43it/s]\n",
      "100%|\u001b[32m██████████\u001b[0m| 50/50 [00:32<00:00,  1.52it/s]\n",
      "100%|\u001b[32m██████████\u001b[0m| 50/50 [00:32<00:00,  1.53it/s]"
     ]
    },
    {
     "name": "stdout",
     "output_type": "stream",
     "text": [
      "{'OPT': 138, 'GA_ONC value': 157, 'GA_ONC time': 31.72, 'GA_RAC value': 141, 'GA_RAC time': 12.83, 'GA_TWC value': 158, 'GA_TWC time': 48.84, 'GA_UNC value': 141, 'GA_UNC time': 25.79, 'GA_RAONC value': 140, 'GA_RAONC time': 7.89, 'GA_TWUNC value': 149, 'GA_TWUNC time': 34.92, 'GA_ONUNC value': 159, 'GA_ONUNC time': 28.68, 'GA_ONTWC value': 159, 'GA_ONTWC time': 35.84, 'GA_RATWC value': 141, 'GA_RATWC time': 9.26, 'GA_RAUNC value': 142, 'GA_RAUNC time': 7.13, 'GA_ALLC value': 142, 'GA_ALLC time': 6.79}\n"
     ]
    },
    {
     "name": "stderr",
     "output_type": "stream",
     "text": [
      "\n"
     ]
    },
    {
     "data": {
      "text/html": [
       "<div>\n",
       "<style scoped>\n",
       "    .dataframe tbody tr th:only-of-type {\n",
       "        vertical-align: middle;\n",
       "    }\n",
       "\n",
       "    .dataframe tbody tr th {\n",
       "        vertical-align: top;\n",
       "    }\n",
       "\n",
       "    .dataframe thead th {\n",
       "        text-align: right;\n",
       "    }\n",
       "</style>\n",
       "<table border=\"1\" class=\"dataframe\">\n",
       "  <thead>\n",
       "    <tr style=\"text-align: right;\">\n",
       "      <th></th>\n",
       "      <th>OPT</th>\n",
       "      <th>GA_ONC value</th>\n",
       "      <th>GA_ONC time</th>\n",
       "      <th>GA_RAC value</th>\n",
       "      <th>GA_RAC time</th>\n",
       "      <th>GA_TWC value</th>\n",
       "      <th>GA_TWC time</th>\n",
       "      <th>GA_UNC value</th>\n",
       "      <th>GA_UNC time</th>\n",
       "      <th>GA_RAONC value</th>\n",
       "      <th>...</th>\n",
       "      <th>GA_ONUNC value</th>\n",
       "      <th>GA_ONUNC time</th>\n",
       "      <th>GA_ONTWC value</th>\n",
       "      <th>GA_ONTWC time</th>\n",
       "      <th>GA_RATWC value</th>\n",
       "      <th>GA_RATWC time</th>\n",
       "      <th>GA_RAUNC value</th>\n",
       "      <th>GA_RAUNC time</th>\n",
       "      <th>GA_ALLC value</th>\n",
       "      <th>GA_ALLC time</th>\n",
       "    </tr>\n",
       "  </thead>\n",
       "  <tbody>\n",
       "    <tr>\n",
       "      <th>4</th>\n",
       "      <td>429</td>\n",
       "      <td>473</td>\n",
       "      <td>34.32</td>\n",
       "      <td>431</td>\n",
       "      <td>11.63</td>\n",
       "      <td>459</td>\n",
       "      <td>19.87</td>\n",
       "      <td>432</td>\n",
       "      <td>6.96</td>\n",
       "      <td>432</td>\n",
       "      <td>...</td>\n",
       "      <td>453</td>\n",
       "      <td>25.13</td>\n",
       "      <td>486</td>\n",
       "      <td>27.10</td>\n",
       "      <td>434</td>\n",
       "      <td>17.19</td>\n",
       "      <td>433</td>\n",
       "      <td>6.14</td>\n",
       "      <td>432</td>\n",
       "      <td>5.92</td>\n",
       "    </tr>\n",
       "    <tr>\n",
       "      <th>5</th>\n",
       "      <td>253</td>\n",
       "      <td>282</td>\n",
       "      <td>9.85</td>\n",
       "      <td>253</td>\n",
       "      <td>25.89</td>\n",
       "      <td>293</td>\n",
       "      <td>95.40</td>\n",
       "      <td>253</td>\n",
       "      <td>29.23</td>\n",
       "      <td>256</td>\n",
       "      <td>...</td>\n",
       "      <td>308</td>\n",
       "      <td>66.10</td>\n",
       "      <td>339</td>\n",
       "      <td>104.50</td>\n",
       "      <td>253</td>\n",
       "      <td>11.93</td>\n",
       "      <td>257</td>\n",
       "      <td>13.04</td>\n",
       "      <td>254</td>\n",
       "      <td>12.03</td>\n",
       "    </tr>\n",
       "    <tr>\n",
       "      <th>6</th>\n",
       "      <td>138</td>\n",
       "      <td>157</td>\n",
       "      <td>31.72</td>\n",
       "      <td>141</td>\n",
       "      <td>12.83</td>\n",
       "      <td>158</td>\n",
       "      <td>48.84</td>\n",
       "      <td>141</td>\n",
       "      <td>25.79</td>\n",
       "      <td>140</td>\n",
       "      <td>...</td>\n",
       "      <td>159</td>\n",
       "      <td>28.68</td>\n",
       "      <td>159</td>\n",
       "      <td>35.84</td>\n",
       "      <td>141</td>\n",
       "      <td>9.26</td>\n",
       "      <td>142</td>\n",
       "      <td>7.13</td>\n",
       "      <td>142</td>\n",
       "      <td>6.79</td>\n",
       "    </tr>\n",
       "  </tbody>\n",
       "</table>\n",
       "<p>3 rows × 23 columns</p>\n",
       "</div>"
      ],
      "text/plain": [
       "   OPT  GA_ONC value  GA_ONC time  GA_RAC value  GA_RAC time  GA_TWC value  \\\n",
       "4  429           473        34.32           431        11.63           459   \n",
       "5  253           282         9.85           253        25.89           293   \n",
       "6  138           157        31.72           141        12.83           158   \n",
       "\n",
       "   GA_TWC time  GA_UNC value  GA_UNC time  GA_RAONC value  ...  \\\n",
       "4        19.87           432         6.96             432  ...   \n",
       "5        95.40           253        29.23             256  ...   \n",
       "6        48.84           141        25.79             140  ...   \n",
       "\n",
       "   GA_ONUNC value  GA_ONUNC time  GA_ONTWC value  GA_ONTWC time  \\\n",
       "4             453          25.13             486          27.10   \n",
       "5             308          66.10             339         104.50   \n",
       "6             159          28.68             159          35.84   \n",
       "\n",
       "   GA_RATWC value  GA_RATWC time  GA_RAUNC value  GA_RAUNC time  \\\n",
       "4             434          17.19             433           6.14   \n",
       "5             253          11.93             257          13.04   \n",
       "6             141           9.26             142           7.13   \n",
       "\n",
       "   GA_ALLC value  GA_ALLC time  \n",
       "4            432          5.92  \n",
       "5            254         12.03  \n",
       "6            142          6.79  \n",
       "\n",
       "[3 rows x 23 columns]"
      ]
     },
     "execution_count": 7,
     "metadata": {},
     "output_type": "execute_result"
    },
    {
     "data": {
      "text/plain": [
       "<Figure size 640x480 with 0 Axes>"
      ]
     },
     "metadata": {},
     "output_type": "display_data"
    }
   ],
   "source": [
    "files = [{'name': '4', 'optimum': 429},\n",
    "         {'name': '5', 'optimum': 253},\n",
    "         {'name': '6', 'optimum': 138},]\n",
    "\n",
    "algorithms = [ {'name': 'GA_ONC', 'params': [20, 0.5, (0, 0, 100), (0, 100, 0, 0), (0, 0), 50], \n",
    "               'class': GeneticAlgorithm},\n",
    "               {'name': 'GA_RAC', 'params': [20, 0.5, (0, 0, 100), (100, 0, 0, 0), (0, 0), 50], \n",
    "               'class': GeneticAlgorithm},\n",
    "               {'name': 'GA_TWC', 'params': [20, 0.5, (0, 0, 100), (0, 0, 100, 0), (0, 0), 50], \n",
    "               'class': GeneticAlgorithm},\n",
    "               {'name': 'GA_UNC', 'params': [20, 0.5, (0, 0, 100), (0, 0, 0, 100), (0, 0), 50], \n",
    "               'class': GeneticAlgorithm},\n",
    "               {'name': 'GA_RAONC', 'params': [20, 0.5, (0, 0, 100), (50, 50, 0, 0), (0, 0), 50], \n",
    "               'class': GeneticAlgorithm},\n",
    "               {'name': 'GA_TWUNC', 'params': [20, 0.5, (0, 0, 100), (0, 0, 50, 50), (0, 0), 50], \n",
    "               'class': GeneticAlgorithm},\n",
    "               {'name': 'GA_ONUNC', 'params': [20, 0.5, (0, 0, 100), (0, 50, 0, 50), (0, 0), 50], \n",
    "               'class': GeneticAlgorithm}, \n",
    "               {'name': 'GA_ONTWC', 'params': [20, 0.5, (0, 0, 100), (0, 50, 50, 0), (0, 0), 50], \n",
    "               'class': GeneticAlgorithm},\n",
    "               {'name': 'GA_RATWC', 'params': [20, 0.5, (0, 0, 100), (50, 0, 50, 0), (0, 0), 50], \n",
    "               'class': GeneticAlgorithm},\n",
    "               {'name': 'GA_RAUNC', 'params': [20, 0.5, (0, 0, 100), (50, 0, 0, 50), (0, 0), 50], \n",
    "               'class': GeneticAlgorithm},\n",
    "               {'name': 'GA_ALLC', 'params': [20, 0.5, (0, 0, 100), (25, 25, 25, 25), (0, 0), 50], \n",
    "               'class': GeneticAlgorithm}]\n",
    "start_experiments(algorithms, files)"
   ]
  },
  {
   "cell_type": "code",
   "execution_count": null,
   "metadata": {},
   "outputs": [],
   "source": [
    "files1 = [{'name': '4', 'optimum': 429},\n",
    "         {'name': '5', 'optimum': 253},\n",
    "         {'name': '6', 'optimum': 138},]\n",
    "\n",
    "files2= [{'name': 'test1', 'optimum': None},\n",
    "         {'name': 'test2', 'optimum': None},\n",
    "         {'name': 'test3', 'optimum': None},\n",
    "         {'name': 'test4', 'optimum': None}]\n",
    "\n",
    "algorithms = [\n",
    "               {'name': 'GA_PRS', 'params': [20, 0.5, (0, 100, 0), (0, 100, 0, 0), (0, 0), 50], \n",
    "               'class': GeneticAlgorithm},\n",
    "               {'name': 'GA_RAS', 'params': [20, 0.5, (100, 0, 0), (0, 100, 0, 0), (0, 0), 50], \n",
    "               'class': GeneticAlgorithm},\n",
    "               {'name': 'GA_RAPRS', 'params': [20, 0.5, (50, 50, 0), (0, 100, 0, 0), (0, 0), 50], \n",
    "               'class': GeneticAlgorithm},\n",
    "               {'name': 'GA_RAELS', 'params': [20, 0.5, (50, 0, 50), (0, 100, 0, 0), (0, 0), 50], \n",
    "               'class': GeneticAlgorithm},\n",
    "               {'name': 'GA_PRELS', 'params': [20, 0.5, (0, 50, 50), (0, 100, 0, 0), (0, 0), 50], \n",
    "               'class': GeneticAlgorithm},\n",
    "               {'name': 'GA_ALLS', 'params': [20, 0.5, (33, 33, 34), (0, 100, 0, 0), (0, 0), 50], \n",
    "               'class': GeneticAlgorithm}]\n",
    "start_experiments(algorithms, files2, True)\n",
    "start_experiments(algorithms, files1)\n",
    "\n",
    "algorithms = [ {'name': 'GA_ONC', 'params': [20, 0.5, (0, 0, 100), (0, 100, 0, 0), (0, 0), 50], \n",
    "               'class': GeneticAlgorithm},\n",
    "               {'name': 'GA_RAC', 'params': [20, 0.5, (0, 0, 100), (100, 0, 0, 0), (0, 0), 50], \n",
    "               'class': GeneticAlgorithm},\n",
    "               {'name': 'GA_TWC', 'params': [20, 0.5, (0, 0, 100), (0, 0, 100, 0), (0, 0), 50], \n",
    "               'class': GeneticAlgorithm},\n",
    "               {'name': 'GA_UNC', 'params': [20, 0.5, (0, 0, 100), (0, 0, 0, 100), (0, 0), 50], \n",
    "               'class': GeneticAlgorithm},\n",
    "               {'name': 'GA_RAONC', 'params': [20, 0.5, (0, 0, 100), (50, 50, 0, 0), (0, 0), 50], \n",
    "               'class': GeneticAlgorithm},\n",
    "               {'name': 'GA_TWUNC', 'params': [20, 0.5, (0, 0, 100), (0, 0, 50, 50), (0, 0), 50], \n",
    "               'class': GeneticAlgorithm},\n",
    "               {'name': 'GA_ONUNC', 'params': [20, 0.5, (0, 0, 100), (0, 50, 0, 50), (0, 0), 50], \n",
    "               'class': GeneticAlgorithm}, \n",
    "               {'name': 'GA_ONTWC', 'params': [20, 0.5, (0, 0, 100), (0, 50, 50, 0), (0, 0), 50], \n",
    "               'class': GeneticAlgorithm},\n",
    "               {'name': 'GA_RATWC', 'params': [20, 0.5, (0, 0, 100), (50, 0, 50, 0), (0, 0), 50], \n",
    "               'class': GeneticAlgorithm},\n",
    "               {'name': 'GA_RAUNC', 'params': [20, 0.5, (0, 0, 100), (50, 0, 0, 50), (0, 0), 50], \n",
    "               'class': GeneticAlgorithm},\n",
    "               {'name': 'GA_ALLC', 'params': [20, 0.5, (0, 0, 100), (25, 25, 25, 25), (0, 0), 50], \n",
    "               'class': GeneticAlgorithm}]\n",
    "\n",
    "start_experiments(algorithms, files2, True)"
   ]
  },
  {
   "cell_type": "code",
   "execution_count": 8,
   "metadata": {},
   "outputs": [
    {
     "name": "stdout",
     "output_type": "stream",
     "text": [
      "test1: GA_0F\n"
     ]
    },
    {
     "name": "stderr",
     "output_type": "stream",
     "text": [
      "100%|\u001b[32m██████████\u001b[0m| 50/50 [00:00<00:00, 66.05it/s]\n",
      "100%|\u001b[32m██████████\u001b[0m| 50/50 [00:00<00:00, 67.39it/s]\n",
      "100%|\u001b[32m██████████\u001b[0m| 50/50 [00:00<00:00, 65.96it/s]\n",
      "100%|\u001b[32m██████████\u001b[0m| 50/50 [00:00<00:00, 70.32it/s]\n",
      "100%|\u001b[32m██████████\u001b[0m| 50/50 [00:00<00:00, 70.32it/s]\n"
     ]
    },
    {
     "name": "stdout",
     "output_type": "stream",
     "text": [
      "test1: GA_25F\n"
     ]
    },
    {
     "name": "stderr",
     "output_type": "stream",
     "text": [
      "100%|\u001b[32m██████████\u001b[0m| 50/50 [00:00<00:00, 70.92it/s]\n",
      "100%|\u001b[32m██████████\u001b[0m| 50/50 [00:00<00:00, 63.51it/s]\n",
      "100%|\u001b[32m██████████\u001b[0m| 50/50 [00:00<00:00, 68.21it/s]\n",
      "100%|\u001b[32m██████████\u001b[0m| 50/50 [00:00<00:00, 67.29it/s]\n",
      "100%|\u001b[32m██████████\u001b[0m| 50/50 [00:00<00:00, 66.22it/s]\n"
     ]
    },
    {
     "name": "stdout",
     "output_type": "stream",
     "text": [
      "test1: GA_50F\n"
     ]
    },
    {
     "name": "stderr",
     "output_type": "stream",
     "text": [
      "100%|\u001b[32m██████████\u001b[0m| 50/50 [00:00<00:00, 68.12it/s]\n",
      "100%|\u001b[32m██████████\u001b[0m| 50/50 [00:00<00:00, 68.37it/s]\n",
      "100%|\u001b[32m██████████\u001b[0m| 50/50 [00:00<00:00, 68.77it/s]\n",
      "100%|\u001b[32m██████████\u001b[0m| 50/50 [00:00<00:00, 68.22it/s]\n",
      "100%|\u001b[32m██████████\u001b[0m| 50/50 [00:00<00:00, 66.49it/s]\n"
     ]
    },
    {
     "name": "stdout",
     "output_type": "stream",
     "text": [
      "test1: GA_75F\n"
     ]
    },
    {
     "name": "stderr",
     "output_type": "stream",
     "text": [
      "100%|\u001b[32m██████████\u001b[0m| 50/50 [00:00<00:00, 68.03it/s]\n",
      "100%|\u001b[32m██████████\u001b[0m| 50/50 [00:00<00:00, 67.47it/s]\n",
      "100%|\u001b[32m██████████\u001b[0m| 50/50 [00:01<00:00, 39.21it/s]\n",
      "100%|\u001b[32m██████████\u001b[0m| 50/50 [00:01<00:00, 30.27it/s]\n",
      "100%|\u001b[32m██████████\u001b[0m| 50/50 [00:01<00:00, 32.70it/s]\n"
     ]
    },
    {
     "name": "stdout",
     "output_type": "stream",
     "text": [
      "test1: GA_100F\n"
     ]
    },
    {
     "name": "stderr",
     "output_type": "stream",
     "text": [
      "100%|\u001b[32m██████████\u001b[0m| 50/50 [00:00<00:00, 67.11it/s]\n",
      "100%|\u001b[32m██████████\u001b[0m| 50/50 [00:00<00:00, 63.96it/s]\n",
      "100%|\u001b[32m██████████\u001b[0m| 50/50 [00:00<00:00, 66.23it/s]\n",
      "100%|\u001b[32m██████████\u001b[0m| 50/50 [00:00<00:00, 64.85it/s]\n",
      "100%|\u001b[32m██████████\u001b[0m| 50/50 [00:00<00:00, 57.08it/s]\n"
     ]
    },
    {
     "name": "stdout",
     "output_type": "stream",
     "text": [
      "{'OPT': None, 'GA_0F value': 899, 'GA_0F time': 0.05, 'GA_25F value': 899, 'GA_25F time': 0.03, 'GA_50F value': 899, 'GA_50F time': 0.03, 'GA_75F value': 899, 'GA_75F time': 0.05, 'GA_100F value': 899, 'GA_100F time': 0.05}\n",
      "test2: GA_0F\n"
     ]
    },
    {
     "name": "stderr",
     "output_type": "stream",
     "text": [
      "100%|\u001b[32m██████████\u001b[0m| 50/50 [00:04<00:00, 12.27it/s]\n",
      "100%|\u001b[32m██████████\u001b[0m| 50/50 [00:04<00:00, 12.48it/s]\n",
      "100%|\u001b[32m██████████\u001b[0m| 50/50 [00:03<00:00, 12.71it/s]\n",
      "100%|\u001b[32m██████████\u001b[0m| 50/50 [00:03<00:00, 12.79it/s]\n",
      "100%|\u001b[32m██████████\u001b[0m| 50/50 [00:03<00:00, 13.77it/s]\n"
     ]
    },
    {
     "name": "stdout",
     "output_type": "stream",
     "text": [
      "test2: GA_25F\n"
     ]
    },
    {
     "name": "stderr",
     "output_type": "stream",
     "text": [
      "100%|\u001b[32m██████████\u001b[0m| 50/50 [00:03<00:00, 12.82it/s]\n",
      "100%|\u001b[32m██████████\u001b[0m| 50/50 [00:05<00:00,  9.41it/s]\n",
      "100%|\u001b[32m██████████\u001b[0m| 50/50 [00:07<00:00,  7.00it/s]\n",
      "100%|\u001b[32m██████████\u001b[0m| 50/50 [00:03<00:00, 15.55it/s]\n",
      "100%|\u001b[32m██████████\u001b[0m| 50/50 [00:06<00:00,  7.22it/s]\n"
     ]
    },
    {
     "name": "stdout",
     "output_type": "stream",
     "text": [
      "test2: GA_50F\n"
     ]
    },
    {
     "name": "stderr",
     "output_type": "stream",
     "text": [
      "100%|\u001b[32m██████████\u001b[0m| 50/50 [00:04<00:00, 12.36it/s]\n",
      "100%|\u001b[32m██████████\u001b[0m| 50/50 [00:05<00:00,  8.64it/s]\n",
      "100%|\u001b[32m██████████\u001b[0m| 50/50 [00:05<00:00,  9.28it/s]\n",
      "100%|\u001b[32m██████████\u001b[0m| 50/50 [00:04<00:00, 10.03it/s]\n",
      "100%|\u001b[32m██████████\u001b[0m| 50/50 [00:07<00:00,  6.50it/s]\n"
     ]
    },
    {
     "name": "stdout",
     "output_type": "stream",
     "text": [
      "test2: GA_75F\n"
     ]
    },
    {
     "name": "stderr",
     "output_type": "stream",
     "text": [
      "100%|\u001b[32m██████████\u001b[0m| 50/50 [00:07<00:00,  6.51it/s]\n",
      "100%|\u001b[32m██████████\u001b[0m| 50/50 [00:05<00:00,  8.39it/s]\n",
      "100%|\u001b[32m██████████\u001b[0m| 50/50 [00:03<00:00, 12.86it/s]\n",
      "100%|\u001b[32m██████████\u001b[0m| 50/50 [00:05<00:00,  8.91it/s]\n",
      "100%|\u001b[32m██████████\u001b[0m| 50/50 [00:04<00:00, 10.15it/s]\n"
     ]
    },
    {
     "name": "stdout",
     "output_type": "stream",
     "text": [
      "test2: GA_100F\n"
     ]
    },
    {
     "name": "stderr",
     "output_type": "stream",
     "text": [
      "100%|\u001b[32m██████████\u001b[0m| 50/50 [00:08<00:00,  6.20it/s]\n",
      "100%|\u001b[32m██████████\u001b[0m| 50/50 [00:07<00:00,  6.33it/s]\n",
      "100%|\u001b[32m██████████\u001b[0m| 50/50 [00:07<00:00,  6.40it/s]\n",
      "100%|\u001b[32m██████████\u001b[0m| 50/50 [00:08<00:00,  6.20it/s]\n",
      "100%|\u001b[32m██████████\u001b[0m| 50/50 [00:05<00:00,  8.36it/s]\n"
     ]
    },
    {
     "name": "stdout",
     "output_type": "stream",
     "text": [
      "{'OPT': None, 'GA_0F value': 371, 'GA_0F time': 0.7, 'GA_25F value': 371, 'GA_25F time': 0.39, 'GA_50F value': 371, 'GA_50F time': 0.54, 'GA_75F value': 371, 'GA_75F time': 0.81, 'GA_100F value': 371, 'GA_100F time': 1.75}\n",
      "test3: GA_0F\n"
     ]
    },
    {
     "name": "stderr",
     "output_type": "stream",
     "text": [
      "100%|\u001b[32m██████████\u001b[0m| 50/50 [00:02<00:00, 17.64it/s]\n",
      "100%|\u001b[32m██████████\u001b[0m| 50/50 [00:05<00:00,  8.83it/s]\n",
      "100%|\u001b[32m██████████\u001b[0m| 50/50 [00:05<00:00,  9.14it/s]\n",
      "100%|\u001b[32m██████████\u001b[0m| 50/50 [00:05<00:00,  9.21it/s]\n",
      "100%|\u001b[32m██████████\u001b[0m| 50/50 [00:05<00:00,  9.20it/s]\n"
     ]
    },
    {
     "name": "stdout",
     "output_type": "stream",
     "text": [
      "test3: GA_25F\n"
     ]
    },
    {
     "name": "stderr",
     "output_type": "stream",
     "text": [
      "100%|\u001b[32m██████████\u001b[0m| 50/50 [00:05<00:00,  9.01it/s]\n",
      "100%|\u001b[32m██████████\u001b[0m| 50/50 [00:05<00:00,  9.17it/s]\n",
      "100%|\u001b[32m██████████\u001b[0m| 50/50 [00:05<00:00,  9.30it/s]\n",
      "100%|\u001b[32m██████████\u001b[0m| 50/50 [00:05<00:00,  9.23it/s]\n",
      "100%|\u001b[32m██████████\u001b[0m| 50/50 [00:05<00:00,  8.91it/s]\n"
     ]
    },
    {
     "name": "stdout",
     "output_type": "stream",
     "text": [
      "test3: GA_50F\n"
     ]
    },
    {
     "name": "stderr",
     "output_type": "stream",
     "text": [
      "100%|\u001b[32m██████████\u001b[0m| 50/50 [00:04<00:00, 11.99it/s]\n",
      "100%|\u001b[32m██████████\u001b[0m| 50/50 [00:02<00:00, 19.96it/s]\n",
      "100%|\u001b[32m██████████\u001b[0m| 50/50 [00:05<00:00,  9.33it/s]\n",
      "100%|\u001b[32m██████████\u001b[0m| 50/50 [00:05<00:00,  8.85it/s]\n",
      "100%|\u001b[32m██████████\u001b[0m| 50/50 [00:05<00:00,  9.11it/s]\n"
     ]
    },
    {
     "name": "stdout",
     "output_type": "stream",
     "text": [
      "test3: GA_75F\n"
     ]
    },
    {
     "name": "stderr",
     "output_type": "stream",
     "text": [
      "100%|\u001b[32m██████████\u001b[0m| 50/50 [00:05<00:00,  8.80it/s]\n",
      "100%|\u001b[32m██████████\u001b[0m| 50/50 [00:05<00:00,  9.07it/s]\n",
      "100%|\u001b[32m██████████\u001b[0m| 50/50 [00:05<00:00,  8.90it/s]\n",
      "100%|\u001b[32m██████████\u001b[0m| 50/50 [00:05<00:00,  9.03it/s]\n",
      "100%|\u001b[32m██████████\u001b[0m| 50/50 [00:05<00:00,  8.77it/s]\n"
     ]
    },
    {
     "name": "stdout",
     "output_type": "stream",
     "text": [
      "test3: GA_100F\n"
     ]
    },
    {
     "name": "stderr",
     "output_type": "stream",
     "text": [
      "100%|\u001b[32m██████████\u001b[0m| 50/50 [00:05<00:00,  8.49it/s]\n",
      "100%|\u001b[32m██████████\u001b[0m| 50/50 [00:03<00:00, 14.84it/s]\n",
      "100%|\u001b[32m██████████\u001b[0m| 50/50 [00:02<00:00, 16.99it/s]\n",
      "100%|\u001b[32m██████████\u001b[0m| 50/50 [00:05<00:00,  8.57it/s]\n",
      "100%|\u001b[32m██████████\u001b[0m| 50/50 [00:05<00:00,  8.38it/s]\n"
     ]
    },
    {
     "name": "stdout",
     "output_type": "stream",
     "text": [
      "{'OPT': None, 'GA_0F value': 1435, 'GA_0F time': 0.55, 'GA_25F value': 1435, 'GA_25F time': 0.56, 'GA_50F value': 1435, 'GA_50F time': 0.3, 'GA_75F value': 1435, 'GA_75F time': 0.79, 'GA_100F value': 1435, 'GA_100F time': 0.56}\n",
      "test4: GA_0F\n"
     ]
    },
    {
     "name": "stderr",
     "output_type": "stream",
     "text": [
      "100%|\u001b[32m██████████\u001b[0m| 50/50 [00:14<00:00,  3.48it/s]\n",
      "100%|\u001b[32m██████████\u001b[0m| 50/50 [00:13<00:00,  3.73it/s]\n",
      "100%|\u001b[32m██████████\u001b[0m| 50/50 [00:13<00:00,  3.80it/s]\n",
      "100%|\u001b[32m██████████\u001b[0m| 50/50 [00:10<00:00,  4.92it/s]\n",
      "100%|\u001b[32m██████████\u001b[0m| 50/50 [00:14<00:00,  3.49it/s]\n"
     ]
    },
    {
     "name": "stdout",
     "output_type": "stream",
     "text": [
      "test4: GA_25F\n"
     ]
    },
    {
     "name": "stderr",
     "output_type": "stream",
     "text": [
      "100%|\u001b[32m██████████\u001b[0m| 50/50 [00:14<00:00,  3.44it/s]\n",
      "100%|\u001b[32m██████████\u001b[0m| 50/50 [00:09<00:00,  5.23it/s]\n",
      "100%|\u001b[32m██████████\u001b[0m| 50/50 [00:14<00:00,  3.48it/s]\n",
      "100%|\u001b[32m██████████\u001b[0m| 50/50 [00:14<00:00,  3.50it/s]\n",
      "100%|\u001b[32m██████████\u001b[0m| 50/50 [00:14<00:00,  3.49it/s]\n"
     ]
    },
    {
     "name": "stdout",
     "output_type": "stream",
     "text": [
      "test4: GA_50F\n"
     ]
    },
    {
     "name": "stderr",
     "output_type": "stream",
     "text": [
      "100%|\u001b[32m██████████\u001b[0m| 50/50 [00:09<00:00,  5.17it/s]\n",
      "100%|\u001b[32m██████████\u001b[0m| 50/50 [00:13<00:00,  3.78it/s]\n",
      "100%|\u001b[32m██████████\u001b[0m| 50/50 [00:13<00:00,  3.59it/s]\n",
      "100%|\u001b[32m██████████\u001b[0m| 50/50 [00:14<00:00,  3.51it/s]\n",
      "100%|\u001b[32m██████████\u001b[0m| 50/50 [00:11<00:00,  4.36it/s]\n"
     ]
    },
    {
     "name": "stdout",
     "output_type": "stream",
     "text": [
      "test4: GA_75F\n"
     ]
    },
    {
     "name": "stderr",
     "output_type": "stream",
     "text": [
      "100%|\u001b[32m██████████\u001b[0m| 50/50 [00:12<00:00,  3.91it/s]\n",
      "100%|\u001b[32m██████████\u001b[0m| 50/50 [00:14<00:00,  3.56it/s]\n",
      "100%|\u001b[32m██████████\u001b[0m| 50/50 [00:14<00:00,  3.53it/s]\n",
      "100%|\u001b[32m██████████\u001b[0m| 50/50 [00:13<00:00,  3.62it/s]\n",
      "100%|\u001b[32m██████████\u001b[0m| 50/50 [00:14<00:00,  3.52it/s]\n"
     ]
    },
    {
     "name": "stdout",
     "output_type": "stream",
     "text": [
      "test4: GA_100F\n"
     ]
    },
    {
     "name": "stderr",
     "output_type": "stream",
     "text": [
      "100%|\u001b[32m██████████\u001b[0m| 50/50 [00:13<00:00,  3.62it/s]\n",
      "100%|\u001b[32m██████████\u001b[0m| 50/50 [00:13<00:00,  3.66it/s]\n",
      "100%|\u001b[32m██████████\u001b[0m| 50/50 [00:14<00:00,  3.49it/s]\n",
      "100%|\u001b[32m██████████\u001b[0m| 50/50 [00:14<00:00,  3.46it/s]\n",
      "100%|\u001b[32m██████████\u001b[0m| 50/50 [00:13<00:00,  3.62it/s]\n"
     ]
    },
    {
     "name": "stdout",
     "output_type": "stream",
     "text": [
      "{'OPT': None, 'GA_0F value': 664, 'GA_0F time': 1.29, 'GA_25F value': 664, 'GA_25F time': 3.75, 'GA_50F value': 664, 'GA_50F time': 2.59, 'GA_75F value': 664, 'GA_75F time': 3.16, 'GA_100F value': 664, 'GA_100F time': 3.2}\n",
      "4: GA_0F\n"
     ]
    },
    {
     "name": "stderr",
     "output_type": "stream",
     "text": [
      "100%|\u001b[32m██████████\u001b[0m| 50/50 [00:53<00:00,  1.06s/it]\n",
      "100%|\u001b[32m██████████\u001b[0m| 50/50 [00:52<00:00,  1.06s/it]\n",
      "100%|\u001b[32m██████████\u001b[0m| 50/50 [00:52<00:00,  1.06s/it]\n",
      "100%|\u001b[32m██████████\u001b[0m| 50/50 [00:57<00:00,  1.15s/it]\n",
      "100%|\u001b[32m██████████\u001b[0m| 50/50 [00:57<00:00,  1.15s/it]\n"
     ]
    },
    {
     "name": "stdout",
     "output_type": "stream",
     "text": [
      "4: GA_25F\n"
     ]
    },
    {
     "name": "stderr",
     "output_type": "stream",
     "text": [
      "100%|\u001b[32m██████████\u001b[0m| 50/50 [00:58<00:00,  1.16s/it]\n",
      "100%|\u001b[32m██████████\u001b[0m| 50/50 [00:57<00:00,  1.15s/it]\n",
      "100%|\u001b[32m██████████\u001b[0m| 50/50 [00:57<00:00,  1.15s/it]\n",
      "100%|\u001b[32m██████████\u001b[0m| 50/50 [00:57<00:00,  1.15s/it]\n",
      "100%|\u001b[32m██████████\u001b[0m| 50/50 [00:57<00:00,  1.15s/it]\n"
     ]
    },
    {
     "name": "stdout",
     "output_type": "stream",
     "text": [
      "4: GA_50F\n"
     ]
    },
    {
     "name": "stderr",
     "output_type": "stream",
     "text": [
      "100%|\u001b[32m██████████\u001b[0m| 50/50 [01:07<00:00,  1.35s/it]\n",
      "100%|\u001b[32m██████████\u001b[0m| 50/50 [01:18<00:00,  1.57s/it]\n",
      "100%|\u001b[32m██████████\u001b[0m| 50/50 [00:58<00:00,  1.16s/it]\n",
      "100%|\u001b[32m██████████\u001b[0m| 50/50 [00:57<00:00,  1.15s/it]\n",
      "100%|\u001b[32m██████████\u001b[0m| 50/50 [00:57<00:00,  1.15s/it]\n"
     ]
    },
    {
     "name": "stdout",
     "output_type": "stream",
     "text": [
      "4: GA_75F\n"
     ]
    },
    {
     "name": "stderr",
     "output_type": "stream",
     "text": [
      "100%|\u001b[32m██████████\u001b[0m| 50/50 [01:01<00:00,  1.24s/it]\n",
      "100%|\u001b[32m██████████\u001b[0m| 50/50 [00:59<00:00,  1.19s/it]\n",
      "100%|\u001b[32m██████████\u001b[0m| 50/50 [00:58<00:00,  1.17s/it]\n",
      "100%|\u001b[32m██████████\u001b[0m| 50/50 [00:59<00:00,  1.18s/it]\n",
      "100%|\u001b[32m██████████\u001b[0m| 50/50 [00:59<00:00,  1.19s/it]\n"
     ]
    },
    {
     "name": "stdout",
     "output_type": "stream",
     "text": [
      "4: GA_100F\n"
     ]
    },
    {
     "name": "stderr",
     "output_type": "stream",
     "text": [
      "100%|\u001b[32m██████████\u001b[0m| 50/50 [00:58<00:00,  1.17s/it]\n",
      "100%|\u001b[32m██████████\u001b[0m| 50/50 [00:58<00:00,  1.18s/it]\n",
      "100%|\u001b[32m██████████\u001b[0m| 50/50 [00:58<00:00,  1.17s/it]\n",
      "100%|\u001b[32m██████████\u001b[0m| 50/50 [00:58<00:00,  1.17s/it]\n",
      "100%|\u001b[32m██████████\u001b[0m| 50/50 [00:59<00:00,  1.18s/it]\n"
     ]
    },
    {
     "name": "stdout",
     "output_type": "stream",
     "text": [
      "{'OPT': 429, 'GA_0F value': 430, 'GA_0F time': 35.57, 'GA_25F value': 431, 'GA_25F time': 23.23, 'GA_50F value': 431, 'GA_50F time': 49.61, 'GA_75F value': 431, 'GA_75F time': 29.65, 'GA_100F value': 431, 'GA_100F time': 23.66}\n",
      "5: GA_0F\n"
     ]
    },
    {
     "name": "stderr",
     "output_type": "stream",
     "text": [
      " 48%|\u001b[32m████▊     \u001b[0m| 24/50 [00:56<01:01,  2.35s/it]\n",
      "100%|\u001b[32m██████████\u001b[0m| 50/50 [01:56<00:00,  2.34s/it]\n",
      "100%|\u001b[32m██████████\u001b[0m| 50/50 [01:57<00:00,  2.34s/it]\n",
      "100%|\u001b[32m██████████\u001b[0m| 50/50 [01:56<00:00,  2.34s/it]\n",
      "100%|\u001b[32m██████████\u001b[0m| 50/50 [01:56<00:00,  2.34s/it]\n"
     ]
    },
    {
     "name": "stdout",
     "output_type": "stream",
     "text": [
      "5: GA_25F\n"
     ]
    },
    {
     "name": "stderr",
     "output_type": "stream",
     "text": [
      "100%|\u001b[32m██████████\u001b[0m| 50/50 [01:57<00:00,  2.34s/it]\n",
      "100%|\u001b[32m██████████\u001b[0m| 50/50 [01:56<00:00,  2.33s/it]\n",
      "100%|\u001b[32m██████████\u001b[0m| 50/50 [01:46<00:00,  2.13s/it]\n",
      "100%|\u001b[32m██████████\u001b[0m| 50/50 [01:36<00:00,  1.93s/it]\n",
      "100%|\u001b[32m██████████\u001b[0m| 50/50 [01:47<00:00,  2.15s/it]\n"
     ]
    },
    {
     "name": "stdout",
     "output_type": "stream",
     "text": [
      "5: GA_50F\n"
     ]
    },
    {
     "name": "stderr",
     "output_type": "stream",
     "text": [
      "100%|\u001b[32m██████████\u001b[0m| 50/50 [01:57<00:00,  2.34s/it]\n",
      "100%|\u001b[32m██████████\u001b[0m| 50/50 [01:46<00:00,  2.13s/it]\n",
      "100%|\u001b[32m██████████\u001b[0m| 50/50 [01:56<00:00,  2.32s/it]\n",
      "100%|\u001b[32m██████████\u001b[0m| 50/50 [01:55<00:00,  2.32s/it]\n",
      " 46%|\u001b[32m████▌     \u001b[0m| 23/50 [00:53<01:02,  2.31s/it]\n"
     ]
    },
    {
     "name": "stdout",
     "output_type": "stream",
     "text": [
      "5: GA_75F\n"
     ]
    },
    {
     "name": "stderr",
     "output_type": "stream",
     "text": [
      "100%|\u001b[32m██████████\u001b[0m| 50/50 [01:57<00:00,  2.35s/it]\n",
      "100%|\u001b[32m██████████\u001b[0m| 50/50 [01:56<00:00,  2.34s/it]\n",
      " 48%|\u001b[32m████▊     \u001b[0m| 24/50 [00:55<01:00,  2.33s/it]\n",
      "100%|\u001b[32m██████████\u001b[0m| 50/50 [01:56<00:00,  2.32s/it]\n",
      "100%|\u001b[32m██████████\u001b[0m| 50/50 [01:56<00:00,  2.32s/it]\n"
     ]
    },
    {
     "name": "stdout",
     "output_type": "stream",
     "text": [
      "5: GA_100F\n"
     ]
    },
    {
     "name": "stderr",
     "output_type": "stream",
     "text": [
      "100%|\u001b[32m██████████\u001b[0m| 50/50 [01:48<00:00,  2.17s/it]\n",
      "100%|\u001b[32m██████████\u001b[0m| 50/50 [01:51<00:00,  2.22s/it]\n",
      "100%|\u001b[32m██████████\u001b[0m| 50/50 [01:49<00:00,  2.18s/it]\n",
      "100%|\u001b[32m██████████\u001b[0m| 50/50 [01:34<00:00,  1.89s/it]\n",
      "100%|\u001b[32m██████████\u001b[0m| 50/50 [01:54<00:00,  2.29s/it]\n"
     ]
    },
    {
     "name": "stdout",
     "output_type": "stream",
     "text": [
      "{'OPT': 253, 'GA_0F value': 253, 'GA_0F time': 56.48, 'GA_25F value': 259, 'GA_25F time': 51.34, 'GA_50F value': 253, 'GA_50F time': 53.28, 'GA_75F value': 253, 'GA_75F time': 56.03, 'GA_100F value': 257, 'GA_100F time': 62.18}\n",
      "6: GA_0F\n"
     ]
    },
    {
     "name": "stderr",
     "output_type": "stream",
     "text": [
      "100%|\u001b[32m██████████\u001b[0m| 50/50 [00:59<00:00,  1.19s/it]\n",
      "100%|\u001b[32m██████████\u001b[0m| 50/50 [01:00<00:00,  1.21s/it]\n",
      " 56%|\u001b[32m█████▌    \u001b[0m| 28/50 [00:33<00:26,  1.20s/it]\n",
      "100%|\u001b[32m██████████\u001b[0m| 50/50 [00:59<00:00,  1.19s/it]\n",
      "100%|\u001b[32m██████████\u001b[0m| 50/50 [00:59<00:00,  1.20s/it]\n"
     ]
    },
    {
     "name": "stdout",
     "output_type": "stream",
     "text": [
      "6: GA_25F\n"
     ]
    },
    {
     "name": "stderr",
     "output_type": "stream",
     "text": [
      "100%|\u001b[32m██████████\u001b[0m| 50/50 [01:00<00:00,  1.22s/it]\n",
      "100%|\u001b[32m██████████\u001b[0m| 50/50 [01:00<00:00,  1.20s/it]\n",
      "100%|\u001b[32m██████████\u001b[0m| 50/50 [01:00<00:00,  1.21s/it]\n",
      "100%|\u001b[32m██████████\u001b[0m| 50/50 [01:00<00:00,  1.21s/it]\n",
      "100%|\u001b[32m██████████\u001b[0m| 50/50 [01:00<00:00,  1.21s/it]\n"
     ]
    },
    {
     "name": "stdout",
     "output_type": "stream",
     "text": [
      "6: GA_50F\n"
     ]
    },
    {
     "name": "stderr",
     "output_type": "stream",
     "text": [
      "100%|\u001b[32m██████████\u001b[0m| 50/50 [01:00<00:00,  1.21s/it]\n",
      "100%|\u001b[32m██████████\u001b[0m| 50/50 [01:00<00:00,  1.21s/it]\n",
      "100%|\u001b[32m██████████\u001b[0m| 50/50 [01:00<00:00,  1.21s/it]\n",
      "100%|\u001b[32m██████████\u001b[0m| 50/50 [01:00<00:00,  1.20s/it]\n",
      "100%|\u001b[32m██████████\u001b[0m| 50/50 [01:00<00:00,  1.21s/it]\n"
     ]
    },
    {
     "name": "stdout",
     "output_type": "stream",
     "text": [
      "6: GA_75F\n"
     ]
    },
    {
     "name": "stderr",
     "output_type": "stream",
     "text": [
      "100%|\u001b[32m██████████\u001b[0m| 50/50 [01:00<00:00,  1.21s/it]\n",
      "100%|\u001b[32m██████████\u001b[0m| 50/50 [01:00<00:00,  1.21s/it]\n",
      "100%|\u001b[32m██████████\u001b[0m| 50/50 [00:54<00:00,  1.10s/it]\n",
      "100%|\u001b[32m██████████\u001b[0m| 50/50 [00:59<00:00,  1.20s/it]\n",
      "100%|\u001b[32m██████████\u001b[0m| 50/50 [01:00<00:00,  1.20s/it]\n"
     ]
    },
    {
     "name": "stdout",
     "output_type": "stream",
     "text": [
      "6: GA_100F\n"
     ]
    },
    {
     "name": "stderr",
     "output_type": "stream",
     "text": [
      "100%|\u001b[32m██████████\u001b[0m| 50/50 [01:00<00:00,  1.20s/it]\n",
      "100%|\u001b[32m██████████\u001b[0m| 50/50 [01:00<00:00,  1.20s/it]\n",
      "100%|\u001b[32m██████████\u001b[0m| 50/50 [00:51<00:00,  1.02s/it]\n",
      "100%|\u001b[32m██████████\u001b[0m| 50/50 [00:58<00:00,  1.17s/it]\n",
      "100%|\u001b[32m██████████\u001b[0m| 50/50 [01:00<00:00,  1.20s/it]\n"
     ]
    },
    {
     "name": "stdout",
     "output_type": "stream",
     "text": [
      "{'OPT': 138, 'GA_0F value': 138, 'GA_0F time': 33.53, 'GA_25F value': 140, 'GA_25F time': 18.27, 'GA_50F value': 141, 'GA_50F time': 24.44, 'GA_75F value': 141, 'GA_75F time': 24.82, 'GA_100F value': 141, 'GA_100F time': 20.39}\n",
      "test1: GA_ELS\n"
     ]
    },
    {
     "name": "stderr",
     "output_type": "stream",
     "text": [
      "100%|\u001b[32m██████████\u001b[0m| 50/50 [00:01<00:00, 28.28it/s]\n",
      "100%|\u001b[32m██████████\u001b[0m| 50/50 [00:01<00:00, 32.24it/s]\n",
      "100%|\u001b[32m██████████\u001b[0m| 50/50 [00:01<00:00, 29.52it/s]\n",
      "100%|\u001b[32m██████████\u001b[0m| 50/50 [00:01<00:00, 31.56it/s]\n",
      "100%|\u001b[32m██████████\u001b[0m| 50/50 [00:01<00:00, 32.60it/s]\n"
     ]
    },
    {
     "name": "stdout",
     "output_type": "stream",
     "text": [
      "{'OPT': None, 'GA_ELS value': 899, 'GA_ELS time': 0.1}\n",
      "test2: GA_ELS\n"
     ]
    },
    {
     "name": "stderr",
     "output_type": "stream",
     "text": [
      "100%|\u001b[32m██████████\u001b[0m| 50/50 [00:07<00:00,  6.56it/s]\n",
      "100%|\u001b[32m██████████\u001b[0m| 50/50 [00:07<00:00,  6.56it/s]\n",
      "100%|\u001b[32m██████████\u001b[0m| 50/50 [00:07<00:00,  6.52it/s]\n",
      "100%|\u001b[32m██████████\u001b[0m| 50/50 [00:07<00:00,  6.65it/s]\n",
      "100%|\u001b[32m██████████\u001b[0m| 50/50 [00:07<00:00,  6.55it/s]\n"
     ]
    },
    {
     "name": "stdout",
     "output_type": "stream",
     "text": [
      "{'OPT': None, 'GA_ELS value': 371, 'GA_ELS time': 0.46}\n",
      "test3: GA_ELS\n"
     ]
    },
    {
     "name": "stderr",
     "output_type": "stream",
     "text": [
      "100%|\u001b[32m██████████\u001b[0m| 50/50 [00:05<00:00,  8.58it/s]\n",
      "100%|\u001b[32m██████████\u001b[0m| 50/50 [00:05<00:00,  8.49it/s]\n",
      "100%|\u001b[32m██████████\u001b[0m| 50/50 [00:05<00:00,  8.43it/s]\n",
      "100%|\u001b[32m██████████\u001b[0m| 50/50 [00:05<00:00,  8.73it/s]\n",
      "100%|\u001b[32m██████████\u001b[0m| 50/50 [00:05<00:00,  8.38it/s]\n"
     ]
    },
    {
     "name": "stdout",
     "output_type": "stream",
     "text": [
      "{'OPT': None, 'GA_ELS value': 1435, 'GA_ELS time': 0.81}\n",
      "test4: GA_ELS\n"
     ]
    },
    {
     "name": "stderr",
     "output_type": "stream",
     "text": [
      "100%|\u001b[32m██████████\u001b[0m| 50/50 [00:14<00:00,  3.53it/s]\n",
      "100%|\u001b[32m██████████\u001b[0m| 50/50 [00:13<00:00,  3.59it/s]\n",
      "100%|\u001b[32m██████████\u001b[0m| 50/50 [00:14<00:00,  3.57it/s]\n",
      "100%|\u001b[32m██████████\u001b[0m| 50/50 [00:14<00:00,  3.50it/s]\n",
      "100%|\u001b[32m██████████\u001b[0m| 50/50 [00:14<00:00,  3.53it/s]\n"
     ]
    },
    {
     "name": "stdout",
     "output_type": "stream",
     "text": [
      "{'OPT': None, 'GA_ELS value': 664, 'GA_ELS time': 2.03}\n"
     ]
    },
    {
     "data": {
      "text/html": [
       "<div>\n",
       "<style scoped>\n",
       "    .dataframe tbody tr th:only-of-type {\n",
       "        vertical-align: middle;\n",
       "    }\n",
       "\n",
       "    .dataframe tbody tr th {\n",
       "        vertical-align: top;\n",
       "    }\n",
       "\n",
       "    .dataframe thead th {\n",
       "        text-align: right;\n",
       "    }\n",
       "</style>\n",
       "<table border=\"1\" class=\"dataframe\">\n",
       "  <thead>\n",
       "    <tr style=\"text-align: right;\">\n",
       "      <th></th>\n",
       "      <th>OPT</th>\n",
       "      <th>GA_ELS value</th>\n",
       "      <th>GA_ELS time</th>\n",
       "    </tr>\n",
       "  </thead>\n",
       "  <tbody>\n",
       "    <tr>\n",
       "      <th>test1</th>\n",
       "      <td>None</td>\n",
       "      <td>899</td>\n",
       "      <td>0.10</td>\n",
       "    </tr>\n",
       "    <tr>\n",
       "      <th>test2</th>\n",
       "      <td>None</td>\n",
       "      <td>371</td>\n",
       "      <td>0.46</td>\n",
       "    </tr>\n",
       "    <tr>\n",
       "      <th>test3</th>\n",
       "      <td>None</td>\n",
       "      <td>1435</td>\n",
       "      <td>0.81</td>\n",
       "    </tr>\n",
       "    <tr>\n",
       "      <th>test4</th>\n",
       "      <td>None</td>\n",
       "      <td>664</td>\n",
       "      <td>2.03</td>\n",
       "    </tr>\n",
       "  </tbody>\n",
       "</table>\n",
       "</div>"
      ],
      "text/plain": [
       "        OPT  GA_ELS value  GA_ELS time\n",
       "test1  None           899         0.10\n",
       "test2  None           371         0.46\n",
       "test3  None          1435         0.81\n",
       "test4  None           664         2.03"
      ]
     },
     "execution_count": 8,
     "metadata": {},
     "output_type": "execute_result"
    },
    {
     "data": {
      "text/plain": [
       "<Figure size 640x480 with 0 Axes>"
      ]
     },
     "metadata": {},
     "output_type": "display_data"
    }
   ],
   "source": [
    "files1 = [{'name': '4', 'optimum': 429},\n",
    "         {'name': '5', 'optimum': 253},\n",
    "         {'name': '6', 'optimum': 138},]\n",
    "\n",
    "files2= [{'name': 'test1', 'optimum': None},\n",
    "         {'name': 'test2', 'optimum': None},\n",
    "         {'name': 'test3', 'optimum': None},\n",
    "         {'name': 'test4', 'optimum': None}]\n",
    "\n",
    "algorithms = [ {'name': 'GA_0F', 'params': [20, 0, (50, 50, 0), (100, 0, 0, 0), (0, 0), 50], \n",
    "               'class': GeneticAlgorithm},\n",
    "               {'name': 'GA_25F', 'params': [20, 0.25, (50, 50, 0), (100, 0, 0, 0), (0, 0), 50], \n",
    "               'class': GeneticAlgorithm},\n",
    "               {'name': 'GA_50F', 'params': [20, 0.5, (50, 50, 0), (100, 0, 0, 0), (0, 0), 50], \n",
    "               'class': GeneticAlgorithm},\n",
    "               {'name': 'GA_75F', 'params': [20, 0.75, (50, 50, 0), (100, 0, 0, 0), (0, 0), 50], \n",
    "               'class': GeneticAlgorithm},\n",
    "               {'name': 'GA_100F', 'params': [20, 1, (50, 50, 0), (100, 0, 0, 0), (0, 0), 50], \n",
    "               'class': GeneticAlgorithm}]\n",
    "\n",
    "start_experiments(algorithms, files2, True)\n",
    "start_experiments(algorithms, files1)\n",
    "\n",
    "algorithms = [ {'name': 'GA_ELS', 'params': [20, 0.5, (0, 0, 100), (0, 100, 0, 0), (0, 0), 50], \n",
    "               'class': GeneticAlgorithm}]\n",
    "start_experiments(algorithms, files2, True)"
   ]
  },
  {
   "cell_type": "code",
   "execution_count": 9,
   "metadata": {},
   "outputs": [
    {
     "name": "stdout",
     "output_type": "stream",
     "text": [
      "test1: GA_1000-25PS\n"
     ]
    },
    {
     "name": "stderr",
     "output_type": "stream",
     "text": [
      "100%|\u001b[32m██████████\u001b[0m| 50/50 [00:00<00:00, 73.09it/s]\n",
      "100%|\u001b[32m██████████\u001b[0m| 50/50 [00:00<00:00, 83.61it/s]\n",
      "100%|\u001b[32m██████████\u001b[0m| 50/50 [00:00<00:00, 85.03it/s]\n",
      "100%|\u001b[32m██████████\u001b[0m| 50/50 [00:00<00:00, 84.88it/s]\n",
      "100%|\u001b[32m██████████\u001b[0m| 50/50 [00:00<00:00, 85.18it/s]\n"
     ]
    },
    {
     "name": "stdout",
     "output_type": "stream",
     "text": [
      "test1: GA_1000-50PS\n"
     ]
    },
    {
     "name": "stderr",
     "output_type": "stream",
     "text": [
      "100%|\u001b[32m██████████\u001b[0m| 50/50 [00:00<00:00, 97.46it/s]\n",
      "100%|\u001b[32m██████████\u001b[0m| 50/50 [00:00<00:00, 94.34it/s]\n",
      "100%|\u001b[32m██████████\u001b[0m| 50/50 [00:00<00:00, 85.03it/s]\n",
      "100%|\u001b[32m██████████\u001b[0m| 50/50 [00:00<00:00, 97.66it/s]\n",
      "100%|\u001b[32m██████████\u001b[0m| 50/50 [00:00<00:00, 97.66it/s]\n"
     ]
    },
    {
     "name": "stdout",
     "output_type": "stream",
     "text": [
      "test1: GA_1000-75PS\n"
     ]
    },
    {
     "name": "stderr",
     "output_type": "stream",
     "text": [
      "100%|\u001b[32m██████████\u001b[0m| 50/50 [00:00<00:00, 105.36it/s]\n",
      "100%|\u001b[32m██████████\u001b[0m| 50/50 [00:00<00:00, 116.57it/s]\n",
      "100%|\u001b[32m██████████\u001b[0m| 50/50 [00:00<00:00, 115.46it/s]\n",
      "100%|\u001b[32m██████████\u001b[0m| 50/50 [00:00<00:00, 113.08it/s]\n",
      "100%|\u001b[32m██████████\u001b[0m| 50/50 [00:01<00:00, 49.70it/s]\n"
     ]
    },
    {
     "name": "stdout",
     "output_type": "stream",
     "text": [
      "test1: GA_500-25PS\n"
     ]
    },
    {
     "name": "stderr",
     "output_type": "stream",
     "text": [
      "100%|\u001b[32m██████████\u001b[0m| 50/50 [00:01<00:00, 33.09it/s]\n",
      "100%|\u001b[32m██████████\u001b[0m| 50/50 [00:01<00:00, 37.17it/s]\n",
      "100%|\u001b[32m██████████\u001b[0m| 50/50 [00:00<00:00, 86.81it/s]\n",
      "100%|\u001b[32m██████████\u001b[0m| 50/50 [00:00<00:00, 87.41it/s]\n",
      "100%|\u001b[32m██████████\u001b[0m| 50/50 [00:00<00:00, 80.00it/s]\n"
     ]
    },
    {
     "name": "stdout",
     "output_type": "stream",
     "text": [
      "test1: GA_500-50PS\n"
     ]
    },
    {
     "name": "stderr",
     "output_type": "stream",
     "text": [
      "100%|\u001b[32m██████████\u001b[0m| 50/50 [00:00<00:00, 99.99it/s] \n",
      "100%|\u001b[32m██████████\u001b[0m| 50/50 [00:00<00:00, 99.40it/s] \n",
      "100%|\u001b[32m██████████\u001b[0m| 50/50 [00:00<00:00, 95.24it/s]\n",
      "100%|\u001b[32m██████████\u001b[0m| 50/50 [00:00<00:00, 98.43it/s] \n",
      "100%|\u001b[32m██████████\u001b[0m| 50/50 [00:01<00:00, 44.48it/s]\n"
     ]
    },
    {
     "name": "stdout",
     "output_type": "stream",
     "text": [
      "test1: GA_500-75PS\n"
     ]
    },
    {
     "name": "stderr",
     "output_type": "stream",
     "text": [
      "100%|\u001b[32m██████████\u001b[0m| 50/50 [00:01<00:00, 48.36it/s]\n",
      "100%|\u001b[32m██████████\u001b[0m| 50/50 [00:00<00:00, 52.10it/s]\n",
      "100%|\u001b[32m██████████\u001b[0m| 50/50 [00:00<00:00, 61.50it/s]\n",
      "100%|\u001b[32m██████████\u001b[0m| 50/50 [00:00<00:00, 108.26it/s]\n",
      "100%|\u001b[32m██████████\u001b[0m| 50/50 [00:00<00:00, 118.76it/s]\n"
     ]
    },
    {
     "name": "stdout",
     "output_type": "stream",
     "text": [
      "{'OPT': None, 'GA_1000-25PS value': 899, 'GA_1000-25PS time': 0.04, 'GA_1000-50PS value': 899, 'GA_1000-50PS time': 0.06, 'GA_1000-75PS value': 899, 'GA_1000-75PS time': 0.08, 'GA_500-25PS value': 899, 'GA_500-25PS time': 0.03, 'GA_500-50PS value': 899, 'GA_500-50PS time': 0.04, 'GA_500-75PS value': 899, 'GA_500-75PS time': 0.11}\n",
      "test2: GA_1000-25PS\n"
     ]
    },
    {
     "name": "stderr",
     "output_type": "stream",
     "text": [
      "100%|\u001b[32m██████████\u001b[0m| 50/50 [00:02<00:00, 16.81it/s]\n",
      "100%|\u001b[32m██████████\u001b[0m| 50/50 [00:05<00:00,  9.89it/s]\n",
      "100%|\u001b[32m██████████\u001b[0m| 50/50 [00:02<00:00, 16.87it/s]\n",
      "100%|\u001b[32m██████████\u001b[0m| 50/50 [00:05<00:00,  8.87it/s]\n",
      "100%|\u001b[32m██████████\u001b[0m| 50/50 [00:02<00:00, 17.61it/s]\n"
     ]
    },
    {
     "name": "stdout",
     "output_type": "stream",
     "text": [
      "test2: GA_1000-50PS\n"
     ]
    },
    {
     "name": "stderr",
     "output_type": "stream",
     "text": [
      "100%|\u001b[32m██████████\u001b[0m| 50/50 [00:05<00:00,  9.35it/s]\n",
      "100%|\u001b[32m██████████\u001b[0m| 50/50 [00:03<00:00, 14.31it/s]\n",
      "100%|\u001b[32m██████████\u001b[0m| 50/50 [00:02<00:00, 20.24it/s]\n",
      "100%|\u001b[32m██████████\u001b[0m| 50/50 [00:05<00:00,  8.84it/s]\n",
      "100%|\u001b[32m██████████\u001b[0m| 50/50 [00:04<00:00, 11.72it/s]\n"
     ]
    },
    {
     "name": "stdout",
     "output_type": "stream",
     "text": [
      "test2: GA_1000-75PS\n"
     ]
    },
    {
     "name": "stderr",
     "output_type": "stream",
     "text": [
      "100%|\u001b[32m██████████\u001b[0m| 50/50 [00:02<00:00, 23.43it/s]\n",
      "100%|\u001b[32m██████████\u001b[0m| 50/50 [00:03<00:00, 13.47it/s]\n",
      "100%|\u001b[32m██████████\u001b[0m| 50/50 [00:04<00:00, 11.01it/s]\n",
      "100%|\u001b[32m██████████\u001b[0m| 50/50 [00:03<00:00, 14.93it/s]\n",
      "100%|\u001b[32m██████████\u001b[0m| 50/50 [00:01<00:00, 25.06it/s]\n"
     ]
    },
    {
     "name": "stdout",
     "output_type": "stream",
     "text": [
      "test2: GA_500-25PS\n"
     ]
    },
    {
     "name": "stderr",
     "output_type": "stream",
     "text": [
      "100%|\u001b[32m██████████\u001b[0m| 50/50 [00:05<00:00,  8.76it/s]\n",
      "100%|\u001b[32m██████████\u001b[0m| 50/50 [00:06<00:00,  7.58it/s]\n",
      "100%|\u001b[32m██████████\u001b[0m| 50/50 [00:03<00:00, 15.36it/s]\n",
      "100%|\u001b[32m██████████\u001b[0m| 50/50 [00:05<00:00,  9.93it/s]\n",
      "100%|\u001b[32m██████████\u001b[0m| 50/50 [00:06<00:00,  7.57it/s]\n"
     ]
    },
    {
     "name": "stdout",
     "output_type": "stream",
     "text": [
      "test2: GA_500-50PS\n"
     ]
    },
    {
     "name": "stderr",
     "output_type": "stream",
     "text": [
      "100%|\u001b[32m██████████\u001b[0m| 50/50 [00:05<00:00,  8.61it/s]\n",
      "100%|\u001b[32m██████████\u001b[0m| 50/50 [00:05<00:00,  9.05it/s]\n",
      "100%|\u001b[32m██████████\u001b[0m| 50/50 [00:05<00:00,  8.68it/s]\n",
      "100%|\u001b[32m██████████\u001b[0m| 50/50 [00:04<00:00, 11.63it/s]\n",
      "100%|\u001b[32m██████████\u001b[0m| 50/50 [00:02<00:00, 20.75it/s]\n"
     ]
    },
    {
     "name": "stdout",
     "output_type": "stream",
     "text": [
      "test2: GA_500-75PS\n"
     ]
    },
    {
     "name": "stderr",
     "output_type": "stream",
     "text": [
      "100%|\u001b[32m██████████\u001b[0m| 50/50 [00:04<00:00, 12.39it/s]\n",
      "100%|\u001b[32m██████████\u001b[0m| 50/50 [00:04<00:00, 11.04it/s]\n",
      "100%|\u001b[32m██████████\u001b[0m| 50/50 [00:04<00:00, 11.22it/s]\n",
      "100%|\u001b[32m██████████\u001b[0m| 50/50 [00:04<00:00, 11.30it/s]\n",
      "100%|\u001b[32m██████████\u001b[0m| 50/50 [00:04<00:00, 11.31it/s]\n"
     ]
    },
    {
     "name": "stdout",
     "output_type": "stream",
     "text": [
      "{'OPT': None, 'GA_1000-25PS value': 371, 'GA_1000-25PS time': 0.69, 'GA_1000-50PS value': 371, 'GA_1000-50PS time': 0.78, 'GA_1000-75PS value': 371, 'GA_1000-75PS time': 0.83, 'GA_500-25PS value': 371, 'GA_500-25PS time': 0.67, 'GA_500-50PS value': 371, 'GA_500-50PS time': 0.98, 'GA_500-75PS value': 371, 'GA_500-75PS time': 1.83}\n",
      "test3: GA_1000-25PS\n"
     ]
    },
    {
     "name": "stderr",
     "output_type": "stream",
     "text": [
      "100%|\u001b[32m██████████\u001b[0m| 50/50 [00:04<00:00, 10.22it/s]\n",
      "100%|\u001b[32m██████████\u001b[0m| 50/50 [00:04<00:00, 10.77it/s]\n",
      "100%|\u001b[32m██████████\u001b[0m| 50/50 [00:04<00:00, 10.85it/s]\n",
      "100%|\u001b[32m██████████\u001b[0m| 50/50 [00:04<00:00, 10.65it/s]\n",
      "100%|\u001b[32m██████████\u001b[0m| 50/50 [00:04<00:00, 10.78it/s]\n"
     ]
    },
    {
     "name": "stdout",
     "output_type": "stream",
     "text": [
      "test3: GA_1000-50PS\n"
     ]
    },
    {
     "name": "stderr",
     "output_type": "stream",
     "text": [
      "100%|\u001b[32m██████████\u001b[0m| 50/50 [00:04<00:00, 11.90it/s]\n",
      "100%|\u001b[32m██████████\u001b[0m| 50/50 [00:04<00:00, 12.31it/s]\n",
      "100%|\u001b[32m██████████\u001b[0m| 50/50 [00:01<00:00, 25.13it/s]\n",
      "100%|\u001b[32m██████████\u001b[0m| 50/50 [00:01<00:00, 27.41it/s]\n",
      "100%|\u001b[32m██████████\u001b[0m| 50/50 [00:03<00:00, 14.06it/s]\n"
     ]
    },
    {
     "name": "stdout",
     "output_type": "stream",
     "text": [
      "test3: GA_1000-75PS\n"
     ]
    },
    {
     "name": "stderr",
     "output_type": "stream",
     "text": [
      "100%|\u001b[32m██████████\u001b[0m| 50/50 [00:03<00:00, 14.17it/s]\n",
      "100%|\u001b[32m██████████\u001b[0m| 50/50 [00:03<00:00, 14.78it/s]\n",
      "100%|\u001b[32m██████████\u001b[0m| 50/50 [00:03<00:00, 14.84it/s]\n",
      "100%|\u001b[32m██████████\u001b[0m| 50/50 [00:03<00:00, 14.65it/s]\n",
      "100%|\u001b[32m██████████\u001b[0m| 50/50 [00:03<00:00, 15.10it/s]\n"
     ]
    },
    {
     "name": "stdout",
     "output_type": "stream",
     "text": [
      "test3: GA_500-25PS\n"
     ]
    },
    {
     "name": "stderr",
     "output_type": "stream",
     "text": [
      "100%|\u001b[32m██████████\u001b[0m| 50/50 [00:04<00:00, 10.50it/s]\n",
      "100%|\u001b[32m██████████\u001b[0m| 50/50 [00:04<00:00, 10.88it/s]\n",
      "100%|\u001b[32m██████████\u001b[0m| 50/50 [00:04<00:00, 10.64it/s]\n",
      "100%|\u001b[32m██████████\u001b[0m| 50/50 [00:04<00:00, 10.73it/s]\n",
      "100%|\u001b[32m██████████\u001b[0m| 50/50 [00:04<00:00, 10.83it/s]\n"
     ]
    },
    {
     "name": "stdout",
     "output_type": "stream",
     "text": [
      "test3: GA_500-50PS\n"
     ]
    },
    {
     "name": "stderr",
     "output_type": "stream",
     "text": [
      "100%|\u001b[32m██████████\u001b[0m| 50/50 [00:04<00:00, 12.03it/s]\n",
      "100%|\u001b[32m██████████\u001b[0m| 50/50 [00:04<00:00, 12.17it/s]\n",
      "100%|\u001b[32m██████████\u001b[0m| 50/50 [00:04<00:00, 12.28it/s]\n",
      "100%|\u001b[32m██████████\u001b[0m| 50/50 [00:03<00:00, 12.52it/s]\n",
      "100%|\u001b[32m██████████\u001b[0m| 50/50 [00:03<00:00, 12.61it/s]\n"
     ]
    },
    {
     "name": "stdout",
     "output_type": "stream",
     "text": [
      "test3: GA_500-75PS\n"
     ]
    },
    {
     "name": "stderr",
     "output_type": "stream",
     "text": [
      "100%|\u001b[32m██████████\u001b[0m| 50/50 [00:03<00:00, 14.03it/s]\n",
      "100%|\u001b[32m██████████\u001b[0m| 50/50 [00:03<00:00, 15.00it/s]\n",
      "100%|\u001b[32m██████████\u001b[0m| 50/50 [00:03<00:00, 15.02it/s]\n",
      "100%|\u001b[32m██████████\u001b[0m| 50/50 [00:03<00:00, 14.36it/s]\n",
      "100%|\u001b[32m██████████\u001b[0m| 50/50 [00:03<00:00, 15.13it/s]\n"
     ]
    },
    {
     "name": "stdout",
     "output_type": "stream",
     "text": [
      "{'OPT': None, 'GA_1000-25PS value': 1435, 'GA_1000-25PS time': 0.68, 'GA_1000-50PS value': 1435, 'GA_1000-50PS time': 0.4, 'GA_1000-75PS value': 1435, 'GA_1000-75PS time': 1.96, 'GA_500-25PS value': 1435, 'GA_500-25PS time': 0.68, 'GA_500-50PS value': 1435, 'GA_500-50PS time': 0.76, 'GA_500-75PS value': 1442, 'GA_500-75PS time': 1.31}\n",
      "test4: GA_1000-25PS\n"
     ]
    },
    {
     "name": "stderr",
     "output_type": "stream",
     "text": [
      "100%|\u001b[32m██████████\u001b[0m| 50/50 [00:12<00:00,  4.13it/s]\n",
      "100%|\u001b[32m██████████\u001b[0m| 50/50 [00:11<00:00,  4.20it/s]\n",
      "100%|\u001b[32m██████████\u001b[0m| 50/50 [00:11<00:00,  4.24it/s]\n",
      "100%|\u001b[32m██████████\u001b[0m| 50/50 [00:12<00:00,  4.14it/s]\n",
      "100%|\u001b[32m██████████\u001b[0m| 50/50 [00:11<00:00,  4.19it/s]\n"
     ]
    },
    {
     "name": "stdout",
     "output_type": "stream",
     "text": [
      "test4: GA_1000-50PS\n"
     ]
    },
    {
     "name": "stderr",
     "output_type": "stream",
     "text": [
      "100%|\u001b[32m██████████\u001b[0m| 50/50 [00:10<00:00,  4.92it/s]\n",
      "100%|\u001b[32m██████████\u001b[0m| 50/50 [00:10<00:00,  4.96it/s]\n",
      "100%|\u001b[32m██████████\u001b[0m| 50/50 [00:09<00:00,  5.02it/s]\n",
      "100%|\u001b[32m██████████\u001b[0m| 50/50 [00:09<00:00,  5.03it/s]\n",
      "100%|\u001b[32m██████████\u001b[0m| 50/50 [00:09<00:00,  5.01it/s]\n"
     ]
    },
    {
     "name": "stdout",
     "output_type": "stream",
     "text": [
      "test4: GA_1000-75PS\n"
     ]
    },
    {
     "name": "stderr",
     "output_type": "stream",
     "text": [
      "100%|\u001b[32m██████████\u001b[0m| 50/50 [00:08<00:00,  6.00it/s]\n",
      "100%|\u001b[32m██████████\u001b[0m| 50/50 [00:08<00:00,  6.14it/s]\n",
      "100%|\u001b[32m██████████\u001b[0m| 50/50 [00:08<00:00,  6.13it/s]\n",
      "100%|\u001b[32m██████████\u001b[0m| 50/50 [00:08<00:00,  6.13it/s]\n",
      "100%|\u001b[32m██████████\u001b[0m| 50/50 [00:08<00:00,  6.04it/s]\n"
     ]
    },
    {
     "name": "stdout",
     "output_type": "stream",
     "text": [
      "test4: GA_500-25PS\n"
     ]
    },
    {
     "name": "stderr",
     "output_type": "stream",
     "text": [
      "100%|\u001b[32m██████████\u001b[0m| 50/50 [00:12<00:00,  4.16it/s]\n",
      "100%|\u001b[32m██████████\u001b[0m| 50/50 [00:12<00:00,  4.14it/s]\n",
      "100%|\u001b[32m██████████\u001b[0m| 50/50 [00:12<00:00,  4.14it/s]\n",
      "100%|\u001b[32m██████████\u001b[0m| 50/50 [00:11<00:00,  4.25it/s]\n",
      "100%|\u001b[32m██████████\u001b[0m| 50/50 [00:11<00:00,  4.24it/s]\n"
     ]
    },
    {
     "name": "stdout",
     "output_type": "stream",
     "text": [
      "test4: GA_500-50PS\n"
     ]
    },
    {
     "name": "stderr",
     "output_type": "stream",
     "text": [
      "100%|\u001b[32m██████████\u001b[0m| 50/50 [00:10<00:00,  4.93it/s]\n",
      "100%|\u001b[32m██████████\u001b[0m| 50/50 [00:09<00:00,  5.06it/s]\n",
      "100%|\u001b[32m██████████\u001b[0m| 50/50 [00:09<00:00,  5.01it/s]\n",
      "100%|\u001b[32m██████████\u001b[0m| 50/50 [00:09<00:00,  5.02it/s]\n",
      "100%|\u001b[32m██████████\u001b[0m| 50/50 [00:10<00:00,  4.99it/s]\n"
     ]
    },
    {
     "name": "stdout",
     "output_type": "stream",
     "text": [
      "test4: GA_500-75PS\n"
     ]
    },
    {
     "name": "stderr",
     "output_type": "stream",
     "text": [
      "100%|\u001b[32m██████████\u001b[0m| 50/50 [00:08<00:00,  6.04it/s]\n",
      "100%|\u001b[32m██████████\u001b[0m| 50/50 [00:08<00:00,  6.13it/s]\n",
      "100%|\u001b[32m██████████\u001b[0m| 50/50 [00:08<00:00,  6.18it/s]\n",
      "100%|\u001b[32m██████████\u001b[0m| 50/50 [00:08<00:00,  5.97it/s]\n",
      "100%|\u001b[32m██████████\u001b[0m| 50/50 [00:08<00:00,  6.06it/s]\n"
     ]
    },
    {
     "name": "stdout",
     "output_type": "stream",
     "text": [
      "{'OPT': None, 'GA_1000-25PS value': 664, 'GA_1000-25PS time': 1.94, 'GA_1000-50PS value': 672, 'GA_1000-50PS time': 4.47, 'GA_1000-75PS value': 674, 'GA_1000-75PS time': 6.92, 'GA_500-25PS value': 672, 'GA_500-25PS time': 4.06, 'GA_500-50PS value': 672, 'GA_500-50PS time': 3.06, 'GA_500-75PS value': 664, 'GA_500-75PS time': 3.38}\n",
      "4: GA_1000-25PS\n"
     ]
    },
    {
     "name": "stderr",
     "output_type": "stream",
     "text": [
      "100%|\u001b[32m██████████\u001b[0m| 50/50 [00:45<00:00,  1.09it/s]\n",
      "100%|\u001b[32m██████████\u001b[0m| 50/50 [00:44<00:00,  1.11it/s]\n",
      "100%|\u001b[32m██████████\u001b[0m| 50/50 [00:44<00:00,  1.12it/s]\n",
      "100%|\u001b[32m██████████\u001b[0m| 50/50 [00:44<00:00,  1.12it/s]\n",
      "100%|\u001b[32m██████████\u001b[0m| 50/50 [00:44<00:00,  1.12it/s]\n"
     ]
    },
    {
     "name": "stdout",
     "output_type": "stream",
     "text": [
      "4: GA_1000-50PS\n"
     ]
    },
    {
     "name": "stderr",
     "output_type": "stream",
     "text": [
      "100%|\u001b[32m██████████\u001b[0m| 50/50 [00:36<00:00,  1.36it/s]\n",
      "100%|\u001b[32m██████████\u001b[0m| 50/50 [00:36<00:00,  1.36it/s]\n",
      "100%|\u001b[32m██████████\u001b[0m| 50/50 [00:36<00:00,  1.37it/s]\n",
      "100%|\u001b[32m██████████\u001b[0m| 50/50 [00:36<00:00,  1.36it/s]\n",
      "100%|\u001b[32m██████████\u001b[0m| 50/50 [00:36<00:00,  1.37it/s]\n"
     ]
    },
    {
     "name": "stdout",
     "output_type": "stream",
     "text": [
      "4: GA_1000-75PS\n"
     ]
    },
    {
     "name": "stderr",
     "output_type": "stream",
     "text": [
      "100%|\u001b[32m██████████\u001b[0m| 50/50 [00:28<00:00,  1.73it/s]\n",
      "100%|\u001b[32m██████████\u001b[0m| 50/50 [00:28<00:00,  1.74it/s]\n",
      "100%|\u001b[32m██████████\u001b[0m| 50/50 [00:28<00:00,  1.74it/s]\n",
      "100%|\u001b[32m██████████\u001b[0m| 50/50 [00:28<00:00,  1.73it/s]\n",
      "100%|\u001b[32m██████████\u001b[0m| 50/50 [00:28<00:00,  1.73it/s]\n"
     ]
    },
    {
     "name": "stdout",
     "output_type": "stream",
     "text": [
      "4: GA_500-25PS\n"
     ]
    },
    {
     "name": "stderr",
     "output_type": "stream",
     "text": [
      "100%|\u001b[32m██████████\u001b[0m| 50/50 [00:44<00:00,  1.12it/s]\n",
      "100%|\u001b[32m██████████\u001b[0m| 50/50 [00:44<00:00,  1.12it/s]\n",
      "100%|\u001b[32m██████████\u001b[0m| 50/50 [00:44<00:00,  1.12it/s]\n",
      "100%|\u001b[32m██████████\u001b[0m| 50/50 [00:44<00:00,  1.12it/s]\n",
      "100%|\u001b[32m██████████\u001b[0m| 50/50 [00:44<00:00,  1.12it/s]\n"
     ]
    },
    {
     "name": "stdout",
     "output_type": "stream",
     "text": [
      "4: GA_500-50PS\n"
     ]
    },
    {
     "name": "stderr",
     "output_type": "stream",
     "text": [
      "100%|\u001b[32m██████████\u001b[0m| 50/50 [00:36<00:00,  1.36it/s]\n",
      "100%|\u001b[32m██████████\u001b[0m| 50/50 [00:36<00:00,  1.37it/s]\n",
      "100%|\u001b[32m██████████\u001b[0m| 50/50 [00:36<00:00,  1.37it/s]\n",
      "100%|\u001b[32m██████████\u001b[0m| 50/50 [00:36<00:00,  1.37it/s]\n",
      "100%|\u001b[32m██████████\u001b[0m| 50/50 [00:36<00:00,  1.37it/s]\n"
     ]
    },
    {
     "name": "stdout",
     "output_type": "stream",
     "text": [
      "4: GA_500-75PS\n"
     ]
    },
    {
     "name": "stderr",
     "output_type": "stream",
     "text": [
      "100%|\u001b[32m██████████\u001b[0m| 50/50 [00:29<00:00,  1.72it/s]\n",
      "100%|\u001b[32m██████████\u001b[0m| 50/50 [00:28<00:00,  1.74it/s]\n",
      "100%|\u001b[32m██████████\u001b[0m| 50/50 [00:28<00:00,  1.73it/s]\n",
      "100%|\u001b[32m██████████\u001b[0m| 50/50 [00:28<00:00,  1.74it/s]\n",
      "100%|\u001b[32m██████████\u001b[0m| 50/50 [00:28<00:00,  1.74it/s]\n"
     ]
    },
    {
     "name": "stdout",
     "output_type": "stream",
     "text": [
      "{'OPT': 429, 'GA_1000-25PS value': 431, 'GA_1000-25PS time': 19.17, 'GA_1000-50PS value': 437, 'GA_1000-50PS time': 33.18, 'GA_1000-75PS value': 445, 'GA_1000-75PS time': 24.11, 'GA_500-25PS value': 433, 'GA_500-25PS time': 18.97, 'GA_500-50PS value': 441, 'GA_500-50PS time': 14.11, 'GA_500-75PS value': 439, 'GA_500-75PS time': 28.41}\n",
      "5: GA_1000-25PS\n"
     ]
    },
    {
     "name": "stderr",
     "output_type": "stream",
     "text": [
      "100%|\u001b[32m██████████\u001b[0m| 50/50 [01:29<00:00,  1.79s/it]\n",
      "100%|\u001b[32m██████████\u001b[0m| 50/50 [01:29<00:00,  1.79s/it]\n",
      "100%|\u001b[32m██████████\u001b[0m| 50/50 [01:29<00:00,  1.79s/it]\n",
      "100%|\u001b[32m██████████\u001b[0m| 50/50 [01:29<00:00,  1.79s/it]\n",
      "100%|\u001b[32m██████████\u001b[0m| 50/50 [01:29<00:00,  1.79s/it]\n"
     ]
    },
    {
     "name": "stdout",
     "output_type": "stream",
     "text": [
      "5: GA_1000-50PS\n"
     ]
    },
    {
     "name": "stderr",
     "output_type": "stream",
     "text": [
      "100%|\u001b[32m██████████\u001b[0m| 50/50 [01:12<00:00,  1.46s/it]\n",
      "100%|\u001b[32m██████████\u001b[0m| 50/50 [01:12<00:00,  1.46s/it]\n",
      "100%|\u001b[32m██████████\u001b[0m| 50/50 [01:12<00:00,  1.45s/it]\n",
      "100%|\u001b[32m██████████\u001b[0m| 50/50 [01:12<00:00,  1.46s/it]\n",
      "100%|\u001b[32m██████████\u001b[0m| 50/50 [01:12<00:00,  1.45s/it]\n"
     ]
    },
    {
     "name": "stdout",
     "output_type": "stream",
     "text": [
      "5: GA_1000-75PS\n"
     ]
    },
    {
     "name": "stderr",
     "output_type": "stream",
     "text": [
      "100%|\u001b[32m██████████\u001b[0m| 50/50 [00:56<00:00,  1.13s/it]\n",
      "100%|\u001b[32m██████████\u001b[0m| 50/50 [00:56<00:00,  1.12s/it]\n",
      "100%|\u001b[32m██████████\u001b[0m| 50/50 [00:56<00:00,  1.13s/it]\n",
      "100%|\u001b[32m██████████\u001b[0m| 50/50 [00:56<00:00,  1.13s/it]\n",
      "100%|\u001b[32m██████████\u001b[0m| 50/50 [00:56<00:00,  1.13s/it]\n"
     ]
    },
    {
     "name": "stdout",
     "output_type": "stream",
     "text": [
      "5: GA_500-25PS\n"
     ]
    },
    {
     "name": "stderr",
     "output_type": "stream",
     "text": [
      "100%|\u001b[32m██████████\u001b[0m| 50/50 [01:29<00:00,  1.80s/it]\n",
      "100%|\u001b[32m██████████\u001b[0m| 50/50 [01:29<00:00,  1.79s/it]\n",
      "100%|\u001b[32m██████████\u001b[0m| 50/50 [01:29<00:00,  1.80s/it]\n",
      "100%|\u001b[32m██████████\u001b[0m| 50/50 [01:29<00:00,  1.79s/it]\n",
      "100%|\u001b[32m██████████\u001b[0m| 50/50 [01:29<00:00,  1.79s/it]\n"
     ]
    },
    {
     "name": "stdout",
     "output_type": "stream",
     "text": [
      "5: GA_500-50PS\n"
     ]
    },
    {
     "name": "stderr",
     "output_type": "stream",
     "text": [
      "100%|\u001b[32m██████████\u001b[0m| 50/50 [01:12<00:00,  1.46s/it]\n",
      "100%|\u001b[32m██████████\u001b[0m| 50/50 [01:12<00:00,  1.45s/it]\n",
      "100%|\u001b[32m██████████\u001b[0m| 50/50 [01:12<00:00,  1.45s/it]\n",
      "100%|\u001b[32m██████████\u001b[0m| 50/50 [01:12<00:00,  1.45s/it]\n",
      "100%|\u001b[32m██████████\u001b[0m| 50/50 [01:12<00:00,  1.45s/it]\n"
     ]
    },
    {
     "name": "stdout",
     "output_type": "stream",
     "text": [
      "5: GA_500-75PS\n"
     ]
    },
    {
     "name": "stderr",
     "output_type": "stream",
     "text": [
      "100%|\u001b[32m██████████\u001b[0m| 50/50 [00:56<00:00,  1.13s/it]\n",
      "100%|\u001b[32m██████████\u001b[0m| 50/50 [00:56<00:00,  1.13s/it]\n",
      "100%|\u001b[32m██████████\u001b[0m| 50/50 [00:56<00:00,  1.13s/it]\n",
      "100%|\u001b[32m██████████\u001b[0m| 50/50 [00:56<00:00,  1.12s/it]\n",
      "100%|\u001b[32m██████████\u001b[0m| 50/50 [00:56<00:00,  1.13s/it]\n"
     ]
    },
    {
     "name": "stdout",
     "output_type": "stream",
     "text": [
      "{'OPT': 253, 'GA_1000-25PS value': 254, 'GA_1000-25PS time': 52.18, 'GA_1000-50PS value': 256, 'GA_1000-50PS time': 51.46, 'GA_1000-75PS value': 279, 'GA_1000-75PS time': 50.15, 'GA_500-25PS value': 256, 'GA_500-25PS time': 71.85, 'GA_500-50PS value': 262, 'GA_500-50PS time': 52.81, 'GA_500-75PS value': 275, 'GA_500-75PS time': 51.34}\n",
      "6: GA_1000-25PS\n"
     ]
    },
    {
     "name": "stderr",
     "output_type": "stream",
     "text": [
      "100%|\u001b[32m██████████\u001b[0m| 50/50 [00:46<00:00,  1.08it/s]\n",
      "100%|\u001b[32m██████████\u001b[0m| 50/50 [00:46<00:00,  1.08it/s]\n",
      "100%|\u001b[32m██████████\u001b[0m| 50/50 [00:46<00:00,  1.08it/s]\n",
      "100%|\u001b[32m██████████\u001b[0m| 50/50 [00:46<00:00,  1.08it/s]\n",
      "100%|\u001b[32m██████████\u001b[0m| 50/50 [00:46<00:00,  1.08it/s]\n"
     ]
    },
    {
     "name": "stdout",
     "output_type": "stream",
     "text": [
      "6: GA_1000-50PS\n"
     ]
    },
    {
     "name": "stderr",
     "output_type": "stream",
     "text": [
      "100%|\u001b[32m██████████\u001b[0m| 50/50 [00:38<00:00,  1.31it/s]\n",
      "100%|\u001b[32m██████████\u001b[0m| 50/50 [00:38<00:00,  1.31it/s]\n",
      "100%|\u001b[32m██████████\u001b[0m| 50/50 [00:38<00:00,  1.31it/s]\n",
      "100%|\u001b[32m██████████\u001b[0m| 50/50 [00:38<00:00,  1.31it/s]\n",
      "100%|\u001b[32m██████████\u001b[0m| 50/50 [00:37<00:00,  1.32it/s]\n"
     ]
    },
    {
     "name": "stdout",
     "output_type": "stream",
     "text": [
      "6: GA_1000-75PS\n"
     ]
    },
    {
     "name": "stderr",
     "output_type": "stream",
     "text": [
      "100%|\u001b[32m██████████\u001b[0m| 50/50 [00:29<00:00,  1.70it/s]\n",
      "100%|\u001b[32m██████████\u001b[0m| 50/50 [00:29<00:00,  1.70it/s]\n",
      "100%|\u001b[32m██████████\u001b[0m| 50/50 [00:29<00:00,  1.70it/s]\n",
      "100%|\u001b[32m██████████\u001b[0m| 50/50 [00:29<00:00,  1.71it/s]\n",
      "100%|\u001b[32m██████████\u001b[0m| 50/50 [00:29<00:00,  1.70it/s]\n"
     ]
    },
    {
     "name": "stdout",
     "output_type": "stream",
     "text": [
      "6: GA_500-25PS\n"
     ]
    },
    {
     "name": "stderr",
     "output_type": "stream",
     "text": [
      "100%|\u001b[32m██████████\u001b[0m| 50/50 [00:47<00:00,  1.06it/s]\n",
      "100%|\u001b[32m██████████\u001b[0m| 50/50 [00:47<00:00,  1.06it/s]\n",
      "100%|\u001b[32m██████████\u001b[0m| 50/50 [00:46<00:00,  1.07it/s]\n",
      "100%|\u001b[32m██████████\u001b[0m| 50/50 [00:47<00:00,  1.06it/s]\n",
      "100%|\u001b[32m██████████\u001b[0m| 50/50 [00:47<00:00,  1.06it/s]\n"
     ]
    },
    {
     "name": "stdout",
     "output_type": "stream",
     "text": [
      "6: GA_500-50PS\n"
     ]
    },
    {
     "name": "stderr",
     "output_type": "stream",
     "text": [
      "100%|\u001b[32m██████████\u001b[0m| 50/50 [00:37<00:00,  1.32it/s]\n",
      "100%|\u001b[32m██████████\u001b[0m| 50/50 [00:37<00:00,  1.32it/s]\n",
      "100%|\u001b[32m██████████\u001b[0m| 50/50 [00:38<00:00,  1.31it/s]\n",
      "100%|\u001b[32m██████████\u001b[0m| 50/50 [00:37<00:00,  1.32it/s]\n",
      "100%|\u001b[32m██████████\u001b[0m| 50/50 [00:37<00:00,  1.32it/s]\n"
     ]
    },
    {
     "name": "stdout",
     "output_type": "stream",
     "text": [
      "6: GA_500-75PS\n"
     ]
    },
    {
     "name": "stderr",
     "output_type": "stream",
     "text": [
      "100%|\u001b[32m██████████\u001b[0m| 50/50 [00:29<00:00,  1.70it/s]\n",
      "100%|\u001b[32m██████████\u001b[0m| 50/50 [00:29<00:00,  1.68it/s]\n",
      "100%|\u001b[32m██████████\u001b[0m| 50/50 [00:29<00:00,  1.69it/s]\n",
      "100%|\u001b[32m██████████\u001b[0m| 50/50 [00:29<00:00,  1.70it/s]\n",
      "100%|\u001b[32m██████████\u001b[0m| 50/50 [00:29<00:00,  1.69it/s]\n"
     ]
    },
    {
     "name": "stdout",
     "output_type": "stream",
     "text": [
      "{'OPT': 138, 'GA_1000-25PS value': 145, 'GA_1000-25PS time': 26.14, 'GA_1000-50PS value': 144, 'GA_1000-50PS time': 23.06, 'GA_1000-75PS value': 143, 'GA_1000-75PS time': 26.81, 'GA_500-25PS value': 143, 'GA_500-25PS time': 28.39, 'GA_500-50PS value': 143, 'GA_500-50PS time': 20.68, 'GA_500-75PS value': 146, 'GA_500-75PS time': 27.37}\n"
     ]
    },
    {
     "data": {
      "text/html": [
       "<div>\n",
       "<style scoped>\n",
       "    .dataframe tbody tr th:only-of-type {\n",
       "        vertical-align: middle;\n",
       "    }\n",
       "\n",
       "    .dataframe tbody tr th {\n",
       "        vertical-align: top;\n",
       "    }\n",
       "\n",
       "    .dataframe thead th {\n",
       "        text-align: right;\n",
       "    }\n",
       "</style>\n",
       "<table border=\"1\" class=\"dataframe\">\n",
       "  <thead>\n",
       "    <tr style=\"text-align: right;\">\n",
       "      <th></th>\n",
       "      <th>OPT</th>\n",
       "      <th>GA_1000-25PS value</th>\n",
       "      <th>GA_1000-25PS time</th>\n",
       "      <th>GA_1000-50PS value</th>\n",
       "      <th>GA_1000-50PS time</th>\n",
       "      <th>GA_1000-75PS value</th>\n",
       "      <th>GA_1000-75PS time</th>\n",
       "      <th>GA_500-25PS value</th>\n",
       "      <th>GA_500-25PS time</th>\n",
       "      <th>GA_500-50PS value</th>\n",
       "      <th>GA_500-50PS time</th>\n",
       "      <th>GA_500-75PS value</th>\n",
       "      <th>GA_500-75PS time</th>\n",
       "    </tr>\n",
       "  </thead>\n",
       "  <tbody>\n",
       "    <tr>\n",
       "      <th>4</th>\n",
       "      <td>429</td>\n",
       "      <td>431</td>\n",
       "      <td>19.17</td>\n",
       "      <td>437</td>\n",
       "      <td>33.18</td>\n",
       "      <td>445</td>\n",
       "      <td>24.11</td>\n",
       "      <td>433</td>\n",
       "      <td>18.97</td>\n",
       "      <td>441</td>\n",
       "      <td>14.11</td>\n",
       "      <td>439</td>\n",
       "      <td>28.41</td>\n",
       "    </tr>\n",
       "    <tr>\n",
       "      <th>5</th>\n",
       "      <td>253</td>\n",
       "      <td>254</td>\n",
       "      <td>52.18</td>\n",
       "      <td>256</td>\n",
       "      <td>51.46</td>\n",
       "      <td>279</td>\n",
       "      <td>50.15</td>\n",
       "      <td>256</td>\n",
       "      <td>71.85</td>\n",
       "      <td>262</td>\n",
       "      <td>52.81</td>\n",
       "      <td>275</td>\n",
       "      <td>51.34</td>\n",
       "    </tr>\n",
       "    <tr>\n",
       "      <th>6</th>\n",
       "      <td>138</td>\n",
       "      <td>145</td>\n",
       "      <td>26.14</td>\n",
       "      <td>144</td>\n",
       "      <td>23.06</td>\n",
       "      <td>143</td>\n",
       "      <td>26.81</td>\n",
       "      <td>143</td>\n",
       "      <td>28.39</td>\n",
       "      <td>143</td>\n",
       "      <td>20.68</td>\n",
       "      <td>146</td>\n",
       "      <td>27.37</td>\n",
       "    </tr>\n",
       "  </tbody>\n",
       "</table>\n",
       "</div>"
      ],
      "text/plain": [
       "   OPT  GA_1000-25PS value  GA_1000-25PS time  GA_1000-50PS value  \\\n",
       "4  429                 431              19.17                 437   \n",
       "5  253                 254              52.18                 256   \n",
       "6  138                 145              26.14                 144   \n",
       "\n",
       "   GA_1000-50PS time  GA_1000-75PS value  GA_1000-75PS time  \\\n",
       "4              33.18                 445              24.11   \n",
       "5              51.46                 279              50.15   \n",
       "6              23.06                 143              26.81   \n",
       "\n",
       "   GA_500-25PS value  GA_500-25PS time  GA_500-50PS value  GA_500-50PS time  \\\n",
       "4                433             18.97                441             14.11   \n",
       "5                256             71.85                262             52.81   \n",
       "6                143             28.39                143             20.68   \n",
       "\n",
       "   GA_500-75PS value  GA_500-75PS time  \n",
       "4                439             28.41  \n",
       "5                275             51.34  \n",
       "6                146             27.37  "
      ]
     },
     "execution_count": 9,
     "metadata": {},
     "output_type": "execute_result"
    },
    {
     "data": {
      "text/plain": [
       "<Figure size 640x480 with 0 Axes>"
      ]
     },
     "metadata": {},
     "output_type": "display_data"
    }
   ],
   "source": [
    "files1 = [{'name': '4', 'optimum': 429},\n",
    "         {'name': '5', 'optimum': 253},\n",
    "         {'name': '6', 'optimum': 138},]\n",
    "\n",
    "files2= [{'name': 'test1', 'optimum': None},\n",
    "         {'name': 'test2', 'optimum': None},\n",
    "         {'name': 'test3', 'optimum': None},\n",
    "         {'name': 'test4', 'optimum': None}]\n",
    "\n",
    "algorithms = [ {'name': 'GA_1000-25PS', 'params': [20, 0, (50, 50, 0), (100, 0, 0, 0), (1000, 25), 50], \n",
    "               'class': GeneticAlgorithm},\n",
    "               {'name': 'GA_1000-50PS', 'params': [20, 0, (50, 50, 0), (100, 0, 0, 0), (1000, 50), 50], \n",
    "               'class': GeneticAlgorithm},\n",
    "               {'name': 'GA_1000-75PS', 'params': [20, 0, (50, 50, 0), (100, 0, 0, 0), (1000, 75), 50], \n",
    "               'class': GeneticAlgorithm},\n",
    "               {'name': 'GA_500-25PS', 'params': [20, 0, (50, 50, 0), (100, 0, 0, 0), (500, 25), 50], \n",
    "               'class': GeneticAlgorithm},\n",
    "               {'name': 'GA_500-50PS', 'params': [20, 0, (50, 50, 0), (100, 0, 0, 0), (500, 50), 50], \n",
    "               'class': GeneticAlgorithm},\n",
    "               {'name': 'GA_500-75PS', 'params': [20, 0, (50, 50, 0), (100, 0, 0, 0), (500, 75), 50], \n",
    "               'class': GeneticAlgorithm}]\n",
    "\n",
    "start_experiments(algorithms, files2, True)\n",
    "start_experiments(algorithms, files1)"
   ]
  },
  {
   "cell_type": "code",
   "execution_count": 10,
   "metadata": {},
   "outputs": [
    {
     "name": "stdout",
     "output_type": "stream",
     "text": [
      "test1: GA_BEST\n"
     ]
    },
    {
     "name": "stderr",
     "output_type": "stream",
     "text": [
      " 24%|\u001b[32m██▎       \u001b[0m| 118/500 [00:01<00:05, 68.76it/s]\n",
      " 69%|\u001b[32m██████▊   \u001b[0m| 343/500 [00:07<00:03, 48.79it/s]\n",
      " 23%|\u001b[32m██▎       \u001b[0m| 113/500 [00:01<00:05, 74.64it/s]\n",
      " 22%|\u001b[32m██▏       \u001b[0m| 112/500 [00:01<00:05, 72.95it/s]\n",
      " 29%|\u001b[32m██▉       \u001b[0m| 145/500 [00:04<00:10, 33.42it/s]\n"
     ]
    },
    {
     "name": "stdout",
     "output_type": "stream",
     "text": [
      "{'OPT': None, 'GA_BEST value': 899, 'GA_BEST time': 0.03}\n",
      "test2: GA_BEST\n"
     ]
    },
    {
     "name": "stderr",
     "output_type": "stream",
     "text": [
      " 25%|\u001b[32m██▌       \u001b[0m| 125/500 [00:13<00:41,  8.99it/s]\n",
      " 23%|\u001b[32m██▎       \u001b[0m| 115/500 [00:16<00:56,  6.80it/s]\n",
      " 25%|\u001b[32m██▌       \u001b[0m| 125/500 [00:18<00:56,  6.60it/s]\n",
      " 26%|\u001b[32m██▌       \u001b[0m| 131/500 [00:14<00:40,  9.14it/s]\n",
      " 25%|\u001b[32m██▌       \u001b[0m| 127/500 [00:19<00:56,  6.64it/s]\n"
     ]
    },
    {
     "name": "stdout",
     "output_type": "stream",
     "text": [
      "{'OPT': None, 'GA_BEST value': 371, 'GA_BEST time': 0.46}\n",
      "test3: GA_BEST\n"
     ]
    },
    {
     "name": "stderr",
     "output_type": "stream",
     "text": [
      " 26%|\u001b[32m██▌       \u001b[0m| 130/500 [00:14<00:42,  8.76it/s]\n",
      " 23%|\u001b[32m██▎       \u001b[0m| 114/500 [00:14<00:50,  7.65it/s]\n",
      " 23%|\u001b[32m██▎       \u001b[0m| 113/500 [00:14<00:48,  8.05it/s]\n",
      " 25%|\u001b[32m██▌       \u001b[0m| 125/500 [00:10<00:32, 11.41it/s]\n",
      " 21%|\u001b[32m██▏       \u001b[0m| 107/500 [00:10<00:36, 10.69it/s]\n"
     ]
    },
    {
     "name": "stdout",
     "output_type": "stream",
     "text": [
      "{'OPT': None, 'GA_BEST value': 1435, 'GA_BEST time': 0.36}\n",
      "test4: GA_BEST\n"
     ]
    },
    {
     "name": "stderr",
     "output_type": "stream",
     "text": [
      " 34%|\u001b[32m███▍      \u001b[0m| 169/500 [00:38<01:16,  4.35it/s]\n",
      " 30%|\u001b[32m███       \u001b[0m| 152/500 [00:34<01:19,  4.36it/s]\n",
      " 24%|\u001b[32m██▍       \u001b[0m| 121/500 [00:28<01:29,  4.23it/s]\n",
      " 24%|\u001b[32m██▍       \u001b[0m| 120/500 [00:27<01:26,  4.39it/s]\n",
      " 25%|\u001b[32m██▌       \u001b[0m| 125/500 [00:30<01:31,  4.08it/s]\n"
     ]
    },
    {
     "name": "stdout",
     "output_type": "stream",
     "text": [
      "{'OPT': None, 'GA_BEST value': 664, 'GA_BEST time': 1.89}\n",
      "4: GA_BEST\n"
     ]
    },
    {
     "name": "stderr",
     "output_type": "stream",
     "text": [
      " 29%|\u001b[32m██▉       \u001b[0m| 146/500 [02:13<05:24,  1.09it/s]\n",
      " 42%|\u001b[32m████▏     \u001b[0m| 211/500 [03:42<05:04,  1.05s/it]\n",
      " 29%|\u001b[32m██▉       \u001b[0m| 146/500 [02:59<07:14,  1.23s/it]\n",
      " 29%|\u001b[32m██▉       \u001b[0m| 146/500 [02:59<07:14,  1.23s/it]\n",
      " 27%|\u001b[32m██▋       \u001b[0m| 137/500 [02:52<07:38,  1.26s/it]\n"
     ]
    },
    {
     "name": "stdout",
     "output_type": "stream",
     "text": [
      "{'OPT': 429, 'GA_BEST value': 430, 'GA_BEST time': 39.74}\n",
      "5: GA_BEST\n"
     ]
    },
    {
     "name": "stderr",
     "output_type": "stream",
     "text": [
      " 28%|\u001b[32m██▊       \u001b[0m| 139/500 [05:00<13:01,  2.16s/it]\n",
      " 29%|\u001b[32m██▉       \u001b[0m| 147/500 [04:43<11:21,  1.93s/it]\n",
      " 30%|\u001b[32m██▉       \u001b[0m| 148/500 [04:49<11:27,  1.95s/it]\n",
      " 30%|\u001b[32m███       \u001b[0m| 150/500 [04:57<11:33,  1.98s/it]\n",
      " 28%|\u001b[32m██▊       \u001b[0m| 138/500 [04:59<13:04,  2.17s/it]\n"
     ]
    },
    {
     "name": "stdout",
     "output_type": "stream",
     "text": [
      "{'OPT': 253, 'GA_BEST value': 254, 'GA_BEST time': 110.45}\n",
      "6: GA_BEST\n"
     ]
    },
    {
     "name": "stderr",
     "output_type": "stream",
     "text": [
      " 27%|\u001b[32m██▋       \u001b[0m| 134/500 [02:56<08:01,  1.32s/it]\n",
      " 27%|\u001b[32m██▋       \u001b[0m| 135/500 [03:01<08:11,  1.35s/it]\n",
      " 31%|\u001b[32m███       \u001b[0m| 154/500 [03:16<07:21,  1.28s/it]\n",
      " 24%|\u001b[32m██▍       \u001b[0m| 119/500 [02:15<07:15,  1.14s/it]\n",
      " 35%|\u001b[32m███▌      \u001b[0m| 177/500 [03:22<06:10,  1.15s/it]\n"
     ]
    },
    {
     "name": "stdout",
     "output_type": "stream",
     "text": [
      "{'OPT': 138, 'GA_BEST value': 141, 'GA_BEST time': 20.79}\n",
      "A: GA_BEST\n"
     ]
    },
    {
     "name": "stderr",
     "output_type": "stream",
     "text": [
      " 13%|\u001b[32m█▎        \u001b[0m| 63/500 [05:01<34:52,  4.79s/it]\n",
      " 13%|\u001b[32m█▎        \u001b[0m| 64/500 [05:02<34:23,  4.73s/it]\n",
      " 13%|\u001b[32m█▎        \u001b[0m| 64/500 [05:03<34:25,  4.74s/it]\n",
      " 13%|\u001b[32m█▎        \u001b[0m| 64/500 [05:02<34:20,  4.73s/it]\n",
      " 13%|\u001b[32m█▎        \u001b[0m| 63/500 [05:01<34:52,  4.79s/it]\n"
     ]
    },
    {
     "name": "stdout",
     "output_type": "stream",
     "text": [
      "{'OPT': 253, 'GA_BEST value': 254, 'GA_BEST time': 151.55}\n",
      "B: GA_BEST\n"
     ]
    },
    {
     "name": "stderr",
     "output_type": "stream",
     "text": [
      " 12%|\u001b[32m█▏        \u001b[0m| 59/500 [05:01<37:36,  5.12s/it]\n",
      "  7%|\u001b[32m▋         \u001b[0m| 33/500 [02:48<39:48,  5.11s/it]\n",
      " 12%|\u001b[32m█▏        \u001b[0m| 60/500 [05:00<36:46,  5.02s/it]\n",
      " 12%|\u001b[32m█▏        \u001b[0m| 60/500 [04:59<36:39,  5.00s/it]\n",
      " 12%|\u001b[32m█▏        \u001b[0m| 60/500 [05:00<36:42,  5.00s/it]\n"
     ]
    },
    {
     "name": "stdout",
     "output_type": "stream",
     "text": [
      "{'OPT': 69, 'GA_BEST value': 69, 'GA_BEST time': 168.85}\n",
      "C: GA_BEST\n"
     ]
    },
    {
     "name": "stderr",
     "output_type": "stream",
     "text": [
      "  7%|\u001b[32m▋         \u001b[0m| 36/500 [05:05<1:05:35,  8.48s/it]\n",
      "  7%|\u001b[32m▋         \u001b[0m| 36/500 [05:05<1:05:43,  8.50s/it]\n",
      "  7%|\u001b[32m▋         \u001b[0m| 36/500 [05:06<1:05:46,  8.50s/it]\n",
      "  7%|\u001b[32m▋         \u001b[0m| 36/500 [05:06<1:05:52,  8.52s/it]\n",
      "  7%|\u001b[32m▋         \u001b[0m| 36/500 [05:06<1:05:48,  8.51s/it]\n"
     ]
    },
    {
     "name": "stdout",
     "output_type": "stream",
     "text": [
      "{'OPT': 227, 'GA_BEST value': 230, 'GA_BEST time': 281.02}\n",
      "D: GA_BEST\n"
     ]
    },
    {
     "name": "stderr",
     "output_type": "stream",
     "text": [
      "  7%|\u001b[32m▋         \u001b[0m| 35/500 [05:04<1:07:29,  8.71s/it]\n",
      "  6%|\u001b[32m▋         \u001b[0m| 32/500 [05:05<1:14:34,  9.56s/it]\n",
      "  6%|\u001b[32m▌         \u001b[0m| 29/500 [05:00<1:21:21, 10.36s/it]\n",
      "  6%|\u001b[32m▌         \u001b[0m| 30/500 [05:04<1:19:37, 10.16s/it]\n",
      "  6%|\u001b[32m▌         \u001b[0m| 31/500 [05:00<1:15:46,  9.69s/it]\n"
     ]
    },
    {
     "name": "stdout",
     "output_type": "stream",
     "text": [
      "{'OPT': 60, 'GA_BEST value': 61, 'GA_BEST time': 81.61}\n",
      "E: GA_BEST\n"
     ]
    },
    {
     "name": "stderr",
     "output_type": "stream",
     "text": [
      "  2%|\u001b[32m▏         \u001b[0m| 10/500 [02:45<2:15:24, 16.58s/it]\n",
      "  2%|\u001b[32m▏         \u001b[0m| 11/500 [03:01<2:14:46, 16.54s/it]\n",
      "  4%|\u001b[32m▍         \u001b[0m| 19/500 [05:10<2:11:09, 16.36s/it]\n",
      "  2%|\u001b[32m▏         \u001b[0m| 9/500 [02:33<2:19:14, 17.02s/it]\n",
      "  2%|\u001b[32m▏         \u001b[0m| 11/500 [03:09<2:20:03, 17.18s/it]\n"
     ]
    },
    {
     "name": "stdout",
     "output_type": "stream",
     "text": [
      "{'OPT': 29, 'GA_BEST value': 29, 'GA_BEST time': 153.28}\n",
      "F: GA_BEST\n"
     ]
    },
    {
     "name": "stderr",
     "output_type": "stream",
     "text": [
      "  3%|\u001b[32m▎         \u001b[0m| 17/500 [05:18<2:30:55, 18.75s/it]\n",
      "  4%|\u001b[32m▎         \u001b[0m| 18/500 [05:13<2:19:44, 17.40s/it]\n",
      "  4%|\u001b[32m▍         \u001b[0m| 19/500 [05:13<2:12:25, 16.52s/it]\n",
      "  4%|\u001b[32m▍         \u001b[0m| 19/500 [05:13<2:12:23, 16.52s/it]\n",
      "  3%|\u001b[32m▎         \u001b[0m| 16/500 [05:04<2:33:34, 19.04s/it]\n"
     ]
    },
    {
     "name": "stdout",
     "output_type": "stream",
     "text": [
      "{'OPT': 14, 'GA_BEST value': 15, 'GA_BEST time': 17.53}\n",
      "G: GA_BEST\n"
     ]
    },
    {
     "name": "stderr",
     "output_type": "stream",
     "text": [
      "  1%|\u001b[32m          \u001b[0m| 5/500 [05:03<8:21:00, 60.73s/it]\n",
      "  1%|\u001b[32m          \u001b[0m| 6/500 [05:42<7:49:55, 57.08s/it]\n",
      "  1%|\u001b[32m          \u001b[0m| 6/500 [05:44<7:53:09, 57.47s/it]\n",
      "  1%|\u001b[32m          \u001b[0m| 6/500 [05:54<8:06:17, 59.06s/it]\n",
      "  1%|\u001b[32m          \u001b[0m| 5/500 [05:05<8:24:44, 61.18s/it]\n"
     ]
    },
    {
     "name": "stdout",
     "output_type": "stream",
     "text": [
      "{'OPT': 179, 'GA_BEST value': 219, 'GA_BEST time': 354.69}\n",
      "H: GA_BEST\n"
     ]
    },
    {
     "name": "stderr",
     "output_type": "stream",
     "text": [
      "  1%|\u001b[32m          \u001b[0m| 5/500 [05:08<8:28:29, 61.64s/it]\n",
      "  1%|\u001b[32m          \u001b[0m| 6/500 [05:39<7:46:32, 56.67s/it]\n",
      "  1%|\u001b[32m          \u001b[0m| 6/500 [05:53<8:04:41, 58.87s/it]\n",
      "  1%|\u001b[32m          \u001b[0m| 6/500 [05:56<8:08:41, 59.36s/it]\n",
      "  1%|\u001b[32m          \u001b[0m| 5/500 [05:17<8:43:15, 63.43s/it]\n"
     ]
    },
    {
     "name": "stdout",
     "output_type": "stream",
     "text": [
      "{'OPT': 64, 'GA_BEST value': 75, 'GA_BEST time': 233.39}\n"
     ]
    },
    {
     "data": {
      "text/html": [
       "<div>\n",
       "<style scoped>\n",
       "    .dataframe tbody tr th:only-of-type {\n",
       "        vertical-align: middle;\n",
       "    }\n",
       "\n",
       "    .dataframe tbody tr th {\n",
       "        vertical-align: top;\n",
       "    }\n",
       "\n",
       "    .dataframe thead th {\n",
       "        text-align: right;\n",
       "    }\n",
       "</style>\n",
       "<table border=\"1\" class=\"dataframe\">\n",
       "  <thead>\n",
       "    <tr style=\"text-align: right;\">\n",
       "      <th></th>\n",
       "      <th>OPT</th>\n",
       "      <th>GA_BEST value</th>\n",
       "      <th>GA_BEST time</th>\n",
       "    </tr>\n",
       "  </thead>\n",
       "  <tbody>\n",
       "    <tr>\n",
       "      <th>4</th>\n",
       "      <td>429</td>\n",
       "      <td>430</td>\n",
       "      <td>39.74</td>\n",
       "    </tr>\n",
       "    <tr>\n",
       "      <th>5</th>\n",
       "      <td>253</td>\n",
       "      <td>254</td>\n",
       "      <td>110.45</td>\n",
       "    </tr>\n",
       "    <tr>\n",
       "      <th>6</th>\n",
       "      <td>138</td>\n",
       "      <td>141</td>\n",
       "      <td>20.79</td>\n",
       "    </tr>\n",
       "    <tr>\n",
       "      <th>A</th>\n",
       "      <td>253</td>\n",
       "      <td>254</td>\n",
       "      <td>151.55</td>\n",
       "    </tr>\n",
       "    <tr>\n",
       "      <th>B</th>\n",
       "      <td>69</td>\n",
       "      <td>69</td>\n",
       "      <td>168.85</td>\n",
       "    </tr>\n",
       "    <tr>\n",
       "      <th>C</th>\n",
       "      <td>227</td>\n",
       "      <td>230</td>\n",
       "      <td>281.02</td>\n",
       "    </tr>\n",
       "    <tr>\n",
       "      <th>D</th>\n",
       "      <td>60</td>\n",
       "      <td>61</td>\n",
       "      <td>81.61</td>\n",
       "    </tr>\n",
       "    <tr>\n",
       "      <th>E</th>\n",
       "      <td>29</td>\n",
       "      <td>29</td>\n",
       "      <td>153.28</td>\n",
       "    </tr>\n",
       "    <tr>\n",
       "      <th>F</th>\n",
       "      <td>14</td>\n",
       "      <td>15</td>\n",
       "      <td>17.53</td>\n",
       "    </tr>\n",
       "    <tr>\n",
       "      <th>G</th>\n",
       "      <td>179</td>\n",
       "      <td>219</td>\n",
       "      <td>354.69</td>\n",
       "    </tr>\n",
       "    <tr>\n",
       "      <th>H</th>\n",
       "      <td>64</td>\n",
       "      <td>75</td>\n",
       "      <td>233.39</td>\n",
       "    </tr>\n",
       "  </tbody>\n",
       "</table>\n",
       "</div>"
      ],
      "text/plain": [
       "   OPT  GA_BEST value  GA_BEST time\n",
       "4  429            430         39.74\n",
       "5  253            254        110.45\n",
       "6  138            141         20.79\n",
       "A  253            254        151.55\n",
       "B   69             69        168.85\n",
       "C  227            230        281.02\n",
       "D   60             61         81.61\n",
       "E   29             29        153.28\n",
       "F   14             15         17.53\n",
       "G  179            219        354.69\n",
       "H   64             75        233.39"
      ]
     },
     "execution_count": 10,
     "metadata": {},
     "output_type": "execute_result"
    },
    {
     "data": {
      "text/plain": [
       "<Figure size 640x480 with 0 Axes>"
      ]
     },
     "metadata": {},
     "output_type": "display_data"
    }
   ],
   "source": [
    "algorithms = [{'name': 'GA_BEST', 'params': [20, 0, (50, 50, 0), (100, 0, 0, 0), (0, 0), 500], \n",
    "               'class': GeneticAlgorithm}]\n",
    "\n",
    "files1 = [{'name': '4', 'optimum': 429},\n",
    "         {'name': '5', 'optimum': 253},\n",
    "         {'name': '6', 'optimum': 138},\n",
    "         {'name': 'A', 'optimum': 253},\n",
    "         {'name': 'B', 'optimum': 69},\n",
    "         {'name': 'C', 'optimum': 227},\n",
    "         {'name': 'D', 'optimum': 60},\n",
    "         {'name': 'E', 'optimum': 29},\n",
    "         {'name': 'F', 'optimum': 14},\n",
    "         {'name': 'G', 'optimum': 179},\n",
    "         {'name': 'H', 'optimum': 64}]\n",
    "\n",
    "files2= [{'name': 'test1', 'optimum': None},\n",
    "         {'name': 'test2', 'optimum': None},\n",
    "         {'name': 'test3', 'optimum': None},\n",
    "         {'name': 'test4', 'optimum': None}]\n",
    "\n",
    "start_experiments(algorithms, files2, True)\n",
    "start_experiments(algorithms, files1)"
   ]
  },
  {
   "cell_type": "code",
   "execution_count": 11,
   "metadata": {},
   "outputs": [
    {
     "name": "stdout",
     "output_type": "stream",
     "text": [
      "test1: BH_AD\n"
     ]
    },
    {
     "name": "stderr",
     "output_type": "stream",
     "text": [
      " 21%|\u001b[32m██        \u001b[0m| 104/500 [00:02<00:11, 35.71it/s]\n",
      " 21%|\u001b[32m██        \u001b[0m| 104/500 [00:03<00:11, 33.49it/s]\n",
      " 21%|\u001b[32m██        \u001b[0m| 103/500 [00:03<00:12, 31.23it/s]\n",
      " 21%|\u001b[32m██        \u001b[0m| 105/500 [00:03<00:12, 31.04it/s]\n",
      " 21%|\u001b[32m██        \u001b[0m| 104/500 [00:04<00:16, 23.33it/s]\n"
     ]
    },
    {
     "name": "stdout",
     "output_type": "stream",
     "text": [
      "{'OPT': None, 'BH_AD value': 899, 'BH_AD time': 0.03}\n",
      "test2: BH_AD\n"
     ]
    },
    {
     "name": "stderr",
     "output_type": "stream",
     "text": [
      " 22%|\u001b[32m██▏       \u001b[0m| 108/500 [00:17<01:03,  6.22it/s]\n",
      " 24%|\u001b[32m██▎       \u001b[0m| 118/500 [00:15<00:49,  7.69it/s]\n",
      " 22%|\u001b[32m██▏       \u001b[0m| 108/500 [00:14<00:53,  7.39it/s]\n",
      " 22%|\u001b[32m██▏       \u001b[0m| 110/500 [00:16<00:59,  6.51it/s]\n",
      " 22%|\u001b[32m██▏       \u001b[0m| 111/500 [00:16<00:58,  6.62it/s]\n"
     ]
    },
    {
     "name": "stdout",
     "output_type": "stream",
     "text": [
      "{'OPT': None, 'BH_AD value': 371, 'BH_AD time': 0.43}\n",
      "test3: BH_AD\n"
     ]
    },
    {
     "name": "stderr",
     "output_type": "stream",
     "text": [
      " 22%|\u001b[32m██▏       \u001b[0m| 110/500 [00:13<00:47,  8.22it/s]\n",
      " 22%|\u001b[32m██▏       \u001b[0m| 112/500 [00:12<00:41,  9.24it/s]\n",
      " 22%|\u001b[32m██▏       \u001b[0m| 110/500 [00:14<00:52,  7.38it/s]\n",
      " 23%|\u001b[32m██▎       \u001b[0m| 117/500 [00:15<00:49,  7.69it/s]\n",
      " 22%|\u001b[32m██▏       \u001b[0m| 111/500 [00:12<00:44,  8.70it/s]\n"
     ]
    },
    {
     "name": "stdout",
     "output_type": "stream",
     "text": [
      "{'OPT': None, 'BH_AD value': 1435, 'BH_AD time': 0.34}\n",
      "test4: BH_AD\n"
     ]
    },
    {
     "name": "stderr",
     "output_type": "stream",
     "text": [
      " 27%|\u001b[32m██▋       \u001b[0m| 135/500 [00:35<01:34,  3.86it/s]\n",
      " 29%|\u001b[32m██▉       \u001b[0m| 144/500 [00:52<02:09,  2.75it/s]\n",
      " 30%|\u001b[32m███       \u001b[0m| 150/500 [01:19<03:04,  1.89it/s]\n",
      " 21%|\u001b[32m██        \u001b[0m| 106/500 [00:46<02:53,  2.27it/s]\n",
      " 32%|\u001b[32m███▏      \u001b[0m| 162/500 [01:25<02:58,  1.89it/s]\n"
     ]
    },
    {
     "name": "stdout",
     "output_type": "stream",
     "text": [
      "{'OPT': None, 'BH_AD value': 664, 'BH_AD time': 1.0}\n"
     ]
    },
    {
     "data": {
      "text/html": [
       "<div>\n",
       "<style scoped>\n",
       "    .dataframe tbody tr th:only-of-type {\n",
       "        vertical-align: middle;\n",
       "    }\n",
       "\n",
       "    .dataframe tbody tr th {\n",
       "        vertical-align: top;\n",
       "    }\n",
       "\n",
       "    .dataframe thead th {\n",
       "        text-align: right;\n",
       "    }\n",
       "</style>\n",
       "<table border=\"1\" class=\"dataframe\">\n",
       "  <thead>\n",
       "    <tr style=\"text-align: right;\">\n",
       "      <th></th>\n",
       "      <th>OPT</th>\n",
       "      <th>BH_AD value</th>\n",
       "      <th>BH_AD time</th>\n",
       "    </tr>\n",
       "  </thead>\n",
       "  <tbody>\n",
       "    <tr>\n",
       "      <th>test1</th>\n",
       "      <td>None</td>\n",
       "      <td>899</td>\n",
       "      <td>0.03</td>\n",
       "    </tr>\n",
       "    <tr>\n",
       "      <th>test2</th>\n",
       "      <td>None</td>\n",
       "      <td>371</td>\n",
       "      <td>0.43</td>\n",
       "    </tr>\n",
       "    <tr>\n",
       "      <th>test3</th>\n",
       "      <td>None</td>\n",
       "      <td>1435</td>\n",
       "      <td>0.34</td>\n",
       "    </tr>\n",
       "    <tr>\n",
       "      <th>test4</th>\n",
       "      <td>None</td>\n",
       "      <td>664</td>\n",
       "      <td>1.00</td>\n",
       "    </tr>\n",
       "  </tbody>\n",
       "</table>\n",
       "</div>"
      ],
      "text/plain": [
       "        OPT  BH_AD value  BH_AD time\n",
       "test1  None          899        0.03\n",
       "test2  None          371        0.43\n",
       "test3  None         1435        0.34\n",
       "test4  None          664        1.00"
      ]
     },
     "execution_count": 11,
     "metadata": {},
     "output_type": "execute_result"
    },
    {
     "data": {
      "text/plain": [
       "<Figure size 640x480 with 0 Axes>"
      ]
     },
     "metadata": {},
     "output_type": "display_data"
    }
   ],
   "source": [
    "algorithms = [{'name': 'BH_AD', 'params': [500, 20, True], 'class': BlackHole}]\n",
    "files= [{'name': 'test1', 'optimum': 899},\n",
    "         {'name': 'test2', 'optimum': 371},\n",
    "         {'name': 'test3', 'optimum': 1435},\n",
    "         {'name': 'test4', 'optimum': 664}]\n",
    "start_experiments(algorithms, files, True)"
   ]
  },
  {
   "cell_type": "code",
   "execution_count": 6,
   "metadata": {},
   "outputs": [
    {
     "name": "stdout",
     "output_type": "stream",
     "text": [
      "test1: LH\n"
     ]
    },
    {
     "name": "stderr",
     "output_type": "stream",
     "text": [
      "  0%|\u001b[32m          \u001b[0m| 0/5000 [00:00<?, ?it/s]\n"
     ]
    },
    {
     "name": "stdout",
     "output_type": "stream",
     "text": [
      "{'OPT': 899, 'LH value': 899, 'LH time': 0.01}\n",
      "test2: LH\n"
     ]
    },
    {
     "name": "stderr",
     "output_type": "stream",
     "text": [
      "  0%|\u001b[32m          \u001b[0m| 20/5000 [00:00<00:38, 130.13it/s]\n"
     ]
    },
    {
     "name": "stdout",
     "output_type": "stream",
     "text": [
      "{'OPT': 371, 'LH value': 371, 'LH time': 0.15}\n",
      "test3: LH\n"
     ]
    },
    {
     "name": "stderr",
     "output_type": "stream",
     "text": [
      "  0%|\u001b[32m          \u001b[0m| 5/5000 [00:00<00:32, 151.50it/s]"
     ]
    },
    {
     "name": "stdout",
     "output_type": "stream",
     "text": [
      "{'OPT': 1435, 'LH value': 1435, 'LH time': 0.03}\n"
     ]
    },
    {
     "name": "stderr",
     "output_type": "stream",
     "text": [
      "\n"
     ]
    },
    {
     "name": "stdout",
     "output_type": "stream",
     "text": [
      "test4: LH\n"
     ]
    },
    {
     "name": "stderr",
     "output_type": "stream",
     "text": [
      "  0%|\u001b[32m          \u001b[0m| 21/5000 [00:00<01:01, 81.25it/s]\n"
     ]
    },
    {
     "name": "stdout",
     "output_type": "stream",
     "text": [
      "{'OPT': 664, 'LH value': 664, 'LH time': 0.26}\n",
      "4: LH\n"
     ]
    },
    {
     "name": "stderr",
     "output_type": "stream",
     "text": [
      " 62%|\u001b[32m██████▏   \u001b[0m| 3106/5000 [05:00<03:02, 10.35it/s]\n"
     ]
    },
    {
     "name": "stdout",
     "output_type": "stream",
     "text": [
      "{'OPT': 429, 'LH value': 430, 'LH time': 58.75}\n",
      "5: LH\n"
     ]
    },
    {
     "name": "stderr",
     "output_type": "stream",
     "text": [
      " 30%|\u001b[32m██▉       \u001b[0m| 1481/5000 [05:00<11:53,  4.93it/s]\n"
     ]
    },
    {
     "name": "stdout",
     "output_type": "stream",
     "text": [
      "{'OPT': 253, 'LH value': 257, 'LH time': 45.89}\n",
      "6: LH\n"
     ]
    },
    {
     "name": "stderr",
     "output_type": "stream",
     "text": [
      " 53%|\u001b[32m█████▎    \u001b[0m| 2633/5000 [05:00<04:29,  8.77it/s]\n"
     ]
    },
    {
     "name": "stdout",
     "output_type": "stream",
     "text": [
      "{'OPT': 138, 'LH value': 143, 'LH time': 86.77}\n",
      "A: LH\n"
     ]
    },
    {
     "name": "stderr",
     "output_type": "stream",
     "text": [
      " 17%|\u001b[32m█▋        \u001b[0m| 868/5000 [05:00<23:49,  2.89it/s]\n"
     ]
    },
    {
     "name": "stdout",
     "output_type": "stream",
     "text": [
      "{'OPT': 253, 'LH value': 257, 'LH time': 3.45}\n",
      "B: LH\n"
     ]
    },
    {
     "name": "stderr",
     "output_type": "stream",
     "text": [
      " 26%|\u001b[32m██▋       \u001b[0m| 1324/5000 [05:00<13:53,  4.41it/s]\n"
     ]
    },
    {
     "name": "stdout",
     "output_type": "stream",
     "text": [
      "{'OPT': 69, 'LH value': 70, 'LH time': 43.99}\n",
      "C: LH\n"
     ]
    },
    {
     "name": "stderr",
     "output_type": "stream",
     "text": [
      " 15%|\u001b[32m█▌        \u001b[0m| 754/5000 [05:00<28:10,  2.51it/s]\n"
     ]
    },
    {
     "name": "stdout",
     "output_type": "stream",
     "text": [
      "{'OPT': 227, 'LH value': 233, 'LH time': 31.34}\n",
      "D: LH\n"
     ]
    },
    {
     "name": "stderr",
     "output_type": "stream",
     "text": [
      " 15%|\u001b[32m█▌        \u001b[0m| 766/5000 [05:00<27:38,  2.55it/s]\n"
     ]
    },
    {
     "name": "stdout",
     "output_type": "stream",
     "text": [
      "{'OPT': 60, 'LH value': 61, 'LH time': 17.52}\n",
      "E: LH\n"
     ]
    },
    {
     "name": "stderr",
     "output_type": "stream",
     "text": [
      "  0%|\u001b[32m          \u001b[0m| 9/5000 [00:05<55:07,  1.51it/s]\n"
     ]
    },
    {
     "name": "stdout",
     "output_type": "stream",
     "text": [
      "{'OPT': 29, 'LH value': 29, 'LH time': 5.85}\n",
      "F: LH\n"
     ]
    },
    {
     "name": "stderr",
     "output_type": "stream",
     "text": [
      " 10%|\u001b[32m█         \u001b[0m| 515/5000 [05:00<43:38,  1.71it/s]  \n"
     ]
    },
    {
     "name": "stdout",
     "output_type": "stream",
     "text": [
      "{'OPT': 14, 'LH value': 15, 'LH time': 33.19}\n",
      "G: LH\n"
     ]
    },
    {
     "name": "stderr",
     "output_type": "stream",
     "text": [
      "  2%|\u001b[32m▏         \u001b[0m| 100/5000 [05:01<4:06:05,  3.01s/it]\n"
     ]
    },
    {
     "name": "stdout",
     "output_type": "stream",
     "text": [
      "{'OPT': 179, 'LH value': 193, 'LH time': 236.0}\n",
      "H: LH\n"
     ]
    },
    {
     "name": "stderr",
     "output_type": "stream",
     "text": [
      "  1%|\u001b[32m          \u001b[0m| 57/5000 [05:01<7:15:07,  5.28s/it]\n"
     ]
    },
    {
     "name": "stdout",
     "output_type": "stream",
     "text": [
      "{'OPT': 64, 'LH value': 68, 'LH time': 201.71}\n"
     ]
    },
    {
     "data": {
      "text/html": [
       "<div>\n",
       "<style scoped>\n",
       "    .dataframe tbody tr th:only-of-type {\n",
       "        vertical-align: middle;\n",
       "    }\n",
       "\n",
       "    .dataframe tbody tr th {\n",
       "        vertical-align: top;\n",
       "    }\n",
       "\n",
       "    .dataframe thead th {\n",
       "        text-align: right;\n",
       "    }\n",
       "</style>\n",
       "<table border=\"1\" class=\"dataframe\">\n",
       "  <thead>\n",
       "    <tr style=\"text-align: right;\">\n",
       "      <th></th>\n",
       "      <th>OPT</th>\n",
       "      <th>LH value</th>\n",
       "      <th>LH time</th>\n",
       "    </tr>\n",
       "  </thead>\n",
       "  <tbody>\n",
       "    <tr>\n",
       "      <th>4</th>\n",
       "      <td>429</td>\n",
       "      <td>430</td>\n",
       "      <td>58.75</td>\n",
       "    </tr>\n",
       "    <tr>\n",
       "      <th>5</th>\n",
       "      <td>253</td>\n",
       "      <td>257</td>\n",
       "      <td>45.89</td>\n",
       "    </tr>\n",
       "    <tr>\n",
       "      <th>6</th>\n",
       "      <td>138</td>\n",
       "      <td>143</td>\n",
       "      <td>86.77</td>\n",
       "    </tr>\n",
       "    <tr>\n",
       "      <th>A</th>\n",
       "      <td>253</td>\n",
       "      <td>257</td>\n",
       "      <td>3.45</td>\n",
       "    </tr>\n",
       "    <tr>\n",
       "      <th>B</th>\n",
       "      <td>69</td>\n",
       "      <td>70</td>\n",
       "      <td>43.99</td>\n",
       "    </tr>\n",
       "    <tr>\n",
       "      <th>C</th>\n",
       "      <td>227</td>\n",
       "      <td>233</td>\n",
       "      <td>31.34</td>\n",
       "    </tr>\n",
       "    <tr>\n",
       "      <th>D</th>\n",
       "      <td>60</td>\n",
       "      <td>61</td>\n",
       "      <td>17.52</td>\n",
       "    </tr>\n",
       "    <tr>\n",
       "      <th>E</th>\n",
       "      <td>29</td>\n",
       "      <td>29</td>\n",
       "      <td>5.85</td>\n",
       "    </tr>\n",
       "    <tr>\n",
       "      <th>F</th>\n",
       "      <td>14</td>\n",
       "      <td>15</td>\n",
       "      <td>33.19</td>\n",
       "    </tr>\n",
       "    <tr>\n",
       "      <th>G</th>\n",
       "      <td>179</td>\n",
       "      <td>193</td>\n",
       "      <td>236.00</td>\n",
       "    </tr>\n",
       "    <tr>\n",
       "      <th>H</th>\n",
       "      <td>64</td>\n",
       "      <td>68</td>\n",
       "      <td>201.71</td>\n",
       "    </tr>\n",
       "  </tbody>\n",
       "</table>\n",
       "</div>"
      ],
      "text/plain": [
       "   OPT  LH value  LH time\n",
       "4  429       430    58.75\n",
       "5  253       257    45.89\n",
       "6  138       143    86.77\n",
       "A  253       257     3.45\n",
       "B   69        70    43.99\n",
       "C  227       233    31.34\n",
       "D   60        61    17.52\n",
       "E   29        29     5.85\n",
       "F   14        15    33.19\n",
       "G  179       193   236.00\n",
       "H   64        68   201.71"
      ]
     },
     "execution_count": 6,
     "metadata": {},
     "output_type": "execute_result"
    },
    {
     "data": {
      "text/plain": [
       "<Figure size 640x480 with 0 Axes>"
      ]
     },
     "metadata": {},
     "output_type": "display_data"
    }
   ],
   "source": [
    "algorithms = [{'name': 'LH', 'params': [5000], 'class': LagrangianHeuristics}]\n",
    "files1 = [{'name': 'test1', 'optimum': 899},\n",
    "         {'name': 'test2', 'optimum': 371},\n",
    "         {'name': 'test3', 'optimum': 1435},\n",
    "         {'name': 'test4', 'optimum': 664}\n",
    "         ]\n",
    "\n",
    "files2 = [{'name': '4', 'optimum': 429},\n",
    "         {'name': '5', 'optimum': 253},\n",
    "         {'name': '6', 'optimum': 138},\n",
    "         {'name': 'A', 'optimum': 253},\n",
    "         {'name': 'B', 'optimum': 69},\n",
    "         {'name': 'C', 'optimum': 227},\n",
    "         {'name': 'D', 'optimum': 60},\n",
    "         {'name': 'E', 'optimum': 29},\n",
    "         {'name': 'F', 'optimum': 14},\n",
    "         {'name': 'G', 'optimum': 179},\n",
    "         {'name': 'H', 'optimum': 64}]\n",
    "\n",
    "start_experiments(algorithms, files1, True)\n",
    "start_experiments(algorithms, files2)"
   ]
  },
  {
   "cell_type": "code",
   "execution_count": 8,
   "metadata": {},
   "outputs": [
    {
     "name": "stdout",
     "output_type": "stream",
     "text": [
      "test1: SA\n"
     ]
    },
    {
     "name": "stderr",
     "output_type": "stream",
     "text": [
      "  4%|\u001b[32m▍         \u001b[0m| 396/10000 [00:00<00:04, 2076.75it/s]\n",
      "  1%|\u001b[32m▏         \u001b[0m| 135/10000 [00:00<00:04, 2450.77it/s]\n",
      "  3%|\u001b[32m▎         \u001b[0m| 257/10000 [00:00<00:04, 2335.69it/s]\n",
      "  8%|\u001b[32m▊         \u001b[0m| 845/10000 [00:00<00:03, 2373.32it/s]\n",
      " 10%|\u001b[32m█         \u001b[0m| 1014/10000 [00:00<00:03, 2274.45it/s]\n"
     ]
    },
    {
     "name": "stdout",
     "output_type": "stream",
     "text": [
      "{'OPT': 899, 'SA value': 899, 'SA time': 0.06}\n",
      "test2: SA\n"
     ]
    },
    {
     "name": "stderr",
     "output_type": "stream",
     "text": [
      "100%|\u001b[32m██████████\u001b[0m| 10000/10000 [00:37<00:00, 268.94it/s]\n",
      " 25%|\u001b[32m██▌       \u001b[0m| 2519/10000 [00:10<00:32, 232.60it/s]\n",
      "100%|\u001b[32m██████████\u001b[0m| 10000/10000 [00:42<00:00, 233.37it/s]\n",
      " 59%|\u001b[32m█████▉    \u001b[0m| 5914/10000 [00:27<00:18, 218.45it/s]\n",
      "100%|\u001b[32m██████████\u001b[0m| 10000/10000 [00:42<00:00, 237.41it/s]\n"
     ]
    },
    {
     "name": "stdout",
     "output_type": "stream",
     "text": [
      "{'OPT': 371, 'SA value': 371, 'SA time': 10.84}\n",
      "test3: SA\n"
     ]
    },
    {
     "name": "stderr",
     "output_type": "stream",
     "text": [
      " 17%|\u001b[32m█▋        \u001b[0m| 1748/10000 [00:06<00:29, 280.01it/s]\n",
      " 31%|\u001b[32m███       \u001b[0m| 3079/10000 [00:10<00:22, 302.99it/s]\n",
      "100%|\u001b[32m██████████\u001b[0m| 10000/10000 [00:32<00:00, 303.24it/s]\n",
      " 51%|\u001b[32m█████▏    \u001b[0m| 5147/10000 [00:17<00:16, 302.47it/s]\n",
      " 50%|\u001b[32m█████     \u001b[0m| 5013/10000 [00:16<00:16, 299.92it/s]\n"
     ]
    },
    {
     "name": "stdout",
     "output_type": "stream",
     "text": [
      "{'OPT': 1435, 'SA value': 1435, 'SA time': 6.25}\n",
      "test4: SA\n"
     ]
    },
    {
     "name": "stderr",
     "output_type": "stream",
     "text": [
      "100%|\u001b[32m██████████\u001b[0m| 10000/10000 [01:14<00:00, 135.03it/s]\n",
      "100%|\u001b[32m██████████\u001b[0m| 10000/10000 [01:21<00:00, 122.36it/s]\n",
      " 81%|\u001b[32m████████▏ \u001b[0m| 8137/10000 [01:02<00:14, 131.03it/s]\n",
      "100%|\u001b[32m██████████\u001b[0m| 10000/10000 [01:16<00:00, 131.16it/s]\n",
      "100%|\u001b[32m██████████\u001b[0m| 10000/10000 [01:15<00:00, 132.31it/s]\n"
     ]
    },
    {
     "name": "stdout",
     "output_type": "stream",
     "text": [
      "{'OPT': 664, 'SA value': 672, 'SA time': 29.96}\n",
      "4: SA\n"
     ]
    },
    {
     "name": "stderr",
     "output_type": "stream",
     "text": [
      "100%|\u001b[32m██████████\u001b[0m| 10000/10000 [04:30<00:00, 36.98it/s]\n",
      "100%|\u001b[32m██████████\u001b[0m| 10000/10000 [04:01<00:00, 41.37it/s]\n",
      " 98%|\u001b[32m█████████▊\u001b[0m| 9816/10000 [03:54<00:04, 41.87it/s]\n",
      "100%|\u001b[32m██████████\u001b[0m| 10000/10000 [04:13<00:00, 39.48it/s]\n",
      " 90%|\u001b[32m█████████ \u001b[0m| 9014/10000 [03:47<00:24, 39.59it/s]\n"
     ]
    },
    {
     "name": "stdout",
     "output_type": "stream",
     "text": [
      "{'OPT': 429, 'SA value': 439, 'SA time': 175.26}\n",
      "5: SA\n"
     ]
    },
    {
     "name": "stderr",
     "output_type": "stream",
     "text": [
      " 63%|\u001b[32m██████▎   \u001b[0m| 6307/10000 [04:59<02:55, 21.02it/s]\n",
      " 56%|\u001b[32m█████▋    \u001b[0m| 5625/10000 [04:59<03:53, 18.75it/s]\n",
      " 61%|\u001b[32m██████    \u001b[0m| 6096/10000 [04:59<03:12, 20.32it/s]\n",
      " 61%|\u001b[32m██████▏   \u001b[0m| 6147/10000 [04:59<03:08, 20.49it/s]\n",
      " 63%|\u001b[32m██████▎   \u001b[0m| 6339/10000 [04:59<02:53, 21.13it/s]\n"
     ]
    },
    {
     "name": "stdout",
     "output_type": "stream",
     "text": [
      "{'OPT': 253, 'SA value': 307, 'SA time': 267.87}\n",
      "6: SA\n"
     ]
    },
    {
     "name": "stderr",
     "output_type": "stream",
     "text": [
      "100%|\u001b[32m██████████\u001b[0m| 10000/10000 [04:03<00:00, 41.00it/s]\n",
      "100%|\u001b[32m██████████\u001b[0m| 10000/10000 [04:02<00:00, 41.18it/s]\n",
      "100%|\u001b[32m██████████\u001b[0m| 10000/10000 [04:00<00:00, 41.51it/s]\n",
      " 76%|\u001b[32m███████▋  \u001b[0m| 7647/10000 [03:00<00:55, 42.33it/s]\n",
      " 53%|\u001b[32m█████▎    \u001b[0m| 5280/10000 [02:05<01:52, 42.06it/s]\n"
     ]
    },
    {
     "name": "stdout",
     "output_type": "stream",
     "text": [
      "{'OPT': 138, 'SA value': 152, 'SA time': 183.7}\n",
      "A: SA\n"
     ]
    },
    {
     "name": "stderr",
     "output_type": "stream",
     "text": [
      " 28%|\u001b[32m██▊       \u001b[0m| 2801/10000 [04:59<12:50,  9.34it/s]\n",
      " 23%|\u001b[32m██▎       \u001b[0m| 2290/10000 [04:38<15:38,  8.21it/s]\n",
      " 26%|\u001b[32m██▌       \u001b[0m| 2566/10000 [04:59<14:29,  8.55it/s]\n",
      " 14%|\u001b[32m█▍        \u001b[0m| 1417/10000 [02:46<16:45,  8.53it/s]\n",
      " 26%|\u001b[32m██▌       \u001b[0m| 2624/10000 [04:59<14:03,  8.75it/s]\n"
     ]
    },
    {
     "name": "stdout",
     "output_type": "stream",
     "text": [
      "{'OPT': 253, 'SA value': 398, 'SA time': 165.94}\n",
      "B: SA\n"
     ]
    },
    {
     "name": "stderr",
     "output_type": "stream",
     "text": [
      " 25%|\u001b[32m██▌       \u001b[0m| 2523/10000 [04:59<14:48,  8.41it/s]\n",
      " 25%|\u001b[32m██▌       \u001b[0m| 2541/10000 [04:59<14:40,  8.47it/s]\n",
      " 26%|\u001b[32m██▌       \u001b[0m| 2611/10000 [04:59<14:08,  8.71it/s]\n",
      " 26%|\u001b[32m██▌       \u001b[0m| 2565/10000 [04:59<14:29,  8.55it/s]\n",
      " 26%|\u001b[32m██▌       \u001b[0m| 2569/10000 [04:59<14:27,  8.57it/s]\n"
     ]
    },
    {
     "name": "stdout",
     "output_type": "stream",
     "text": [
      "{'OPT': 69, 'SA value': 107, 'SA time': 218.28}\n",
      "C: SA\n"
     ]
    },
    {
     "name": "stderr",
     "output_type": "stream",
     "text": [
      " 15%|\u001b[32m█▍        \u001b[0m| 1487/10000 [04:59<28:36,  4.96it/s]\n",
      " 15%|\u001b[32m█▌        \u001b[0m| 1513/10000 [04:59<28:02,  5.04it/s]\n",
      " 15%|\u001b[32m█▌        \u001b[0m| 1521/10000 [04:59<27:52,  5.07it/s]\n",
      " 15%|\u001b[32m█▍        \u001b[0m| 1497/10000 [04:59<28:23,  4.99it/s]\n",
      " 15%|\u001b[32m█▍        \u001b[0m| 1471/10000 [04:59<28:58,  4.91it/s]\n"
     ]
    },
    {
     "name": "stdout",
     "output_type": "stream",
     "text": [
      "{'OPT': 227, 'SA value': 381, 'SA time': 231.68}\n",
      "D: SA\n"
     ]
    },
    {
     "name": "stderr",
     "output_type": "stream",
     "text": [
      " 15%|\u001b[32m█▍        \u001b[0m| 1486/10000 [04:59<28:38,  4.96it/s]\n",
      " 16%|\u001b[32m█▌        \u001b[0m| 1605/10000 [04:59<26:08,  5.35it/s]\n",
      " 18%|\u001b[32m█▊        \u001b[0m| 1805/10000 [04:59<22:41,  6.02it/s]\n",
      " 16%|\u001b[32m█▌        \u001b[0m| 1565/10000 [04:59<26:55,  5.22it/s]\n",
      " 16%|\u001b[32m█▌        \u001b[0m| 1570/10000 [04:59<26:50,  5.23it/s]\n"
     ]
    },
    {
     "name": "stdout",
     "output_type": "stream",
     "text": [
      "{'OPT': 60, 'SA value': 100, 'SA time': 234.86}\n",
      "E: SA\n"
     ]
    },
    {
     "name": "stderr",
     "output_type": "stream",
     "text": [
      " 10%|\u001b[32m▉         \u001b[0m| 991/10000 [04:59<45:25,  3.31it/s]\n",
      "  9%|\u001b[32m▉         \u001b[0m| 942/10000 [04:59<48:01,  3.14it/s]  \n",
      " 10%|\u001b[32m█         \u001b[0m| 1007/10000 [04:59<44:37,  3.36it/s] \n",
      " 11%|\u001b[32m█         \u001b[0m| 1078/10000 [04:59<41:20,  3.60it/s] \n",
      " 19%|\u001b[32m█▉        \u001b[0m| 1888/10000 [04:59<21:27,  6.30it/s]\n"
     ]
    },
    {
     "name": "stdout",
     "output_type": "stream",
     "text": [
      "{'OPT': 29, 'SA value': 44, 'SA time': 0.67}\n",
      "F: SA\n"
     ]
    },
    {
     "name": "stderr",
     "output_type": "stream",
     "text": [
      " 14%|\u001b[32m█▍        \u001b[0m| 1442/10000 [05:00<29:40,  4.81it/s]\n",
      " 11%|\u001b[32m█         \u001b[0m| 1097/10000 [04:59<40:33,  3.66it/s] \n",
      " 11%|\u001b[32m█▏        \u001b[0m| 1131/10000 [04:59<39:10,  3.77it/s]\n",
      " 11%|\u001b[32m█         \u001b[0m| 1107/10000 [04:59<40:08,  3.69it/s] \n",
      " 12%|\u001b[32m█▏        \u001b[0m| 1158/10000 [04:59<38:08,  3.86it/s]\n"
     ]
    },
    {
     "name": "stdout",
     "output_type": "stream",
     "text": [
      "{'OPT': 14, 'SA value': 18, 'SA time': 0.59}\n",
      "G: SA\n"
     ]
    },
    {
     "name": "stderr",
     "output_type": "stream",
     "text": [
      "  3%|\u001b[32m▎         \u001b[0m| 292/10000 [04:59<2:45:58,  1.03s/it]\n",
      "  3%|\u001b[32m▎         \u001b[0m| 292/10000 [04:59<2:46:00,  1.03s/it]\n",
      "  3%|\u001b[32m▎         \u001b[0m| 292/10000 [04:59<2:45:58,  1.03s/it]\n",
      "  3%|\u001b[32m▎         \u001b[0m| 285/10000 [04:59<2:50:12,  1.05s/it]\n",
      "  3%|\u001b[32m▎         \u001b[0m| 280/10000 [04:59<2:53:05,  1.07s/it]\n"
     ]
    },
    {
     "name": "stdout",
     "output_type": "stream",
     "text": [
      "{'OPT': 179, 'SA value': 306, 'SA time': 2.05}\n",
      "H: SA\n"
     ]
    },
    {
     "name": "stderr",
     "output_type": "stream",
     "text": [
      "  3%|\u001b[32m▎         \u001b[0m| 283/10000 [04:58<2:50:46,  1.05s/it]\n",
      "  3%|\u001b[32m▎         \u001b[0m| 298/10000 [04:59<2:42:37,  1.01s/it]\n",
      "  3%|\u001b[32m▎         \u001b[0m| 294/10000 [04:59<2:44:33,  1.02s/it]\n",
      "  3%|\u001b[32m▎         \u001b[0m| 297/10000 [04:59<2:43:04,  1.01s/it]\n",
      "  3%|\u001b[32m▎         \u001b[0m| 295/10000 [04:58<2:43:56,  1.01s/it]\n"
     ]
    },
    {
     "name": "stdout",
     "output_type": "stream",
     "text": [
      "{'OPT': 64, 'SA value': 104, 'SA time': 2.07}\n"
     ]
    },
    {
     "data": {
      "text/html": [
       "<div>\n",
       "<style scoped>\n",
       "    .dataframe tbody tr th:only-of-type {\n",
       "        vertical-align: middle;\n",
       "    }\n",
       "\n",
       "    .dataframe tbody tr th {\n",
       "        vertical-align: top;\n",
       "    }\n",
       "\n",
       "    .dataframe thead th {\n",
       "        text-align: right;\n",
       "    }\n",
       "</style>\n",
       "<table border=\"1\" class=\"dataframe\">\n",
       "  <thead>\n",
       "    <tr style=\"text-align: right;\">\n",
       "      <th></th>\n",
       "      <th>OPT</th>\n",
       "      <th>SA value</th>\n",
       "      <th>SA time</th>\n",
       "    </tr>\n",
       "  </thead>\n",
       "  <tbody>\n",
       "    <tr>\n",
       "      <th>4</th>\n",
       "      <td>429</td>\n",
       "      <td>439</td>\n",
       "      <td>175.26</td>\n",
       "    </tr>\n",
       "    <tr>\n",
       "      <th>5</th>\n",
       "      <td>253</td>\n",
       "      <td>307</td>\n",
       "      <td>267.87</td>\n",
       "    </tr>\n",
       "    <tr>\n",
       "      <th>6</th>\n",
       "      <td>138</td>\n",
       "      <td>152</td>\n",
       "      <td>183.70</td>\n",
       "    </tr>\n",
       "    <tr>\n",
       "      <th>A</th>\n",
       "      <td>253</td>\n",
       "      <td>398</td>\n",
       "      <td>165.94</td>\n",
       "    </tr>\n",
       "    <tr>\n",
       "      <th>B</th>\n",
       "      <td>69</td>\n",
       "      <td>107</td>\n",
       "      <td>218.28</td>\n",
       "    </tr>\n",
       "    <tr>\n",
       "      <th>C</th>\n",
       "      <td>227</td>\n",
       "      <td>381</td>\n",
       "      <td>231.68</td>\n",
       "    </tr>\n",
       "    <tr>\n",
       "      <th>D</th>\n",
       "      <td>60</td>\n",
       "      <td>100</td>\n",
       "      <td>234.86</td>\n",
       "    </tr>\n",
       "    <tr>\n",
       "      <th>E</th>\n",
       "      <td>29</td>\n",
       "      <td>44</td>\n",
       "      <td>0.67</td>\n",
       "    </tr>\n",
       "    <tr>\n",
       "      <th>F</th>\n",
       "      <td>14</td>\n",
       "      <td>18</td>\n",
       "      <td>0.59</td>\n",
       "    </tr>\n",
       "    <tr>\n",
       "      <th>G</th>\n",
       "      <td>179</td>\n",
       "      <td>306</td>\n",
       "      <td>2.05</td>\n",
       "    </tr>\n",
       "    <tr>\n",
       "      <th>H</th>\n",
       "      <td>64</td>\n",
       "      <td>104</td>\n",
       "      <td>2.07</td>\n",
       "    </tr>\n",
       "  </tbody>\n",
       "</table>\n",
       "</div>"
      ],
      "text/plain": [
       "   OPT  SA value  SA time\n",
       "4  429       439   175.26\n",
       "5  253       307   267.87\n",
       "6  138       152   183.70\n",
       "A  253       398   165.94\n",
       "B   69       107   218.28\n",
       "C  227       381   231.68\n",
       "D   60       100   234.86\n",
       "E   29        44     0.67\n",
       "F   14        18     0.59\n",
       "G  179       306     2.05\n",
       "H   64       104     2.07"
      ]
     },
     "execution_count": 8,
     "metadata": {},
     "output_type": "execute_result"
    },
    {
     "data": {
      "text/plain": [
       "<Figure size 640x480 with 0 Axes>"
      ]
     },
     "metadata": {},
     "output_type": "display_data"
    }
   ],
   "source": [
    "algorithms = [{'name': 'SA', 'params': [500, 10000], 'class': SimulatedAnnealing}, ]\n",
    "files1 = [{'name': 'test1', 'optimum': 899},\n",
    "         {'name': 'test2', 'optimum': 371},\n",
    "         {'name': 'test3', 'optimum': 1435},\n",
    "         {'name': 'test4', 'optimum': 664}]\n",
    "\n",
    "files2 = [{'name': '4', 'optimum': 429},\n",
    "         {'name': '5', 'optimum': 253},\n",
    "         {'name': '6', 'optimum': 138},\n",
    "         {'name': 'A', 'optimum': 253},\n",
    "         {'name': 'B', 'optimum': 69},\n",
    "         {'name': 'C', 'optimum': 227},\n",
    "         {'name': 'D', 'optimum': 60},\n",
    "         {'name': 'E', 'optimum': 29},\n",
    "         {'name': 'F', 'optimum': 14},\n",
    "         {'name': 'G', 'optimum': 179},\n",
    "         {'name': 'H', 'optimum': 64}]\n",
    "\n",
    "start_experiments(algorithms, files1, True)\n",
    "start_experiments(algorithms, files2)"
   ]
  },
  {
   "cell_type": "code",
   "execution_count": 5,
   "metadata": {},
   "outputs": [
    {
     "name": "stdout",
     "output_type": "stream",
     "text": [
      "4: GA_SA\n"
     ]
    },
    {
     "name": "stderr",
     "output_type": "stream",
     "text": [
      " 57%|\u001b[32m█████▋    \u001b[0m| 143/250 [02:27<01:50,  1.03s/it]\n",
      " 55%|\u001b[32m█████▌    \u001b[0m| 2764/5000 [01:05<00:52, 42.24it/s]\n",
      " 51%|\u001b[32m█████     \u001b[0m| 127/250 [02:12<02:07,  1.04s/it]\n",
      "100%|\u001b[32m██████████\u001b[0m| 5000/5000 [01:58<00:00, 42.28it/s]\n",
      " 58%|\u001b[32m█████▊    \u001b[0m| 145/250 [02:30<01:48,  1.04s/it]\n",
      " 71%|\u001b[32m███████▏  \u001b[0m| 3564/5000 [01:24<00:33, 42.25it/s]\n",
      " 52%|\u001b[32m█████▏    \u001b[0m| 131/250 [02:16<02:03,  1.04s/it]\n",
      "100%|\u001b[32m██████████\u001b[0m| 5000/5000 [01:58<00:00, 42.34it/s]\n",
      " 55%|\u001b[32m█████▍    \u001b[0m| 137/250 [02:25<01:59,  1.06s/it]\n",
      "100%|\u001b[32m██████████\u001b[0m| 5000/5000 [01:59<00:00, 41.68it/s]\n"
     ]
    },
    {
     "name": "stdout",
     "output_type": "stream",
     "text": [
      "431 431\n",
      "{'OPT': 429, 'GA_SA value': 431, 'GA_SA time': 27.87}\n",
      "5: GA_SA\n"
     ]
    },
    {
     "name": "stderr",
     "output_type": "stream",
     "text": [
      " 28%|\u001b[32m██▊       \u001b[0m| 71/250 [02:31<06:21,  2.13s/it]\n",
      " 65%|\u001b[32m██████▍   \u001b[0m| 3246/5000 [02:30<01:21, 21.63it/s]\n",
      " 28%|\u001b[32m██▊       \u001b[0m| 71/250 [02:31<06:21,  2.13s/it]\n",
      " 64%|\u001b[32m██████▍   \u001b[0m| 3220/5000 [02:30<01:22, 21.46it/s]\n",
      " 29%|\u001b[32m██▉       \u001b[0m| 73/250 [02:31<06:06,  2.07s/it]\n",
      " 68%|\u001b[32m██████▊   \u001b[0m| 3384/5000 [02:30<01:11, 22.55it/s]\n",
      " 30%|\u001b[32m██▉       \u001b[0m| 74/250 [02:30<05:58,  2.03s/it]\n",
      " 68%|\u001b[32m██████▊   \u001b[0m| 3375/5000 [02:30<01:12, 22.50it/s]\n",
      " 30%|\u001b[32m██▉       \u001b[0m| 74/250 [02:31<06:00,  2.05s/it]\n",
      " 56%|\u001b[32m█████▋    \u001b[0m| 2824/5000 [02:05<01:36, 22.54it/s]\n"
     ]
    },
    {
     "name": "stdout",
     "output_type": "stream",
     "text": [
      "256 256\n",
      "{'OPT': 253, 'GA_SA value': 256, 'GA_SA time': 56.21}\n",
      "6: GA_SA\n"
     ]
    },
    {
     "name": "stderr",
     "output_type": "stream",
     "text": [
      " 57%|\u001b[32m█████▋    \u001b[0m| 142/250 [02:29<01:54,  1.06s/it]\n",
      "100%|\u001b[32m██████████\u001b[0m| 5000/5000 [01:54<00:00, 43.73it/s]\n",
      " 54%|\u001b[32m█████▍    \u001b[0m| 135/250 [02:21<02:00,  1.05s/it]\n",
      "100%|\u001b[32m██████████\u001b[0m| 5000/5000 [01:53<00:00, 43.89it/s]\n",
      " 57%|\u001b[32m█████▋    \u001b[0m| 143/250 [02:30<01:52,  1.05s/it]\n",
      "100%|\u001b[32m██████████\u001b[0m| 5000/5000 [01:54<00:00, 43.72it/s]\n",
      " 57%|\u001b[32m█████▋    \u001b[0m| 143/250 [02:30<01:52,  1.05s/it]\n",
      "100%|\u001b[32m██████████\u001b[0m| 5000/5000 [01:55<00:00, 43.41it/s]\n",
      " 57%|\u001b[32m█████▋    \u001b[0m| 142/250 [02:30<01:54,  1.06s/it]\n",
      "100%|\u001b[32m██████████\u001b[0m| 5000/5000 [01:55<00:00, 43.30it/s]\n"
     ]
    },
    {
     "name": "stdout",
     "output_type": "stream",
     "text": [
      "140 140\n",
      "{'OPT': 138, 'GA_SA value': 140, 'GA_SA time': 19.66}\n",
      "A: GA_SA\n"
     ]
    },
    {
     "name": "stderr",
     "output_type": "stream",
     "text": [
      " 13%|\u001b[32m█▎        \u001b[0m| 33/250 [02:31<16:33,  4.58s/it]\n",
      " 31%|\u001b[32m███       \u001b[0m| 1531/5000 [02:30<05:40, 10.20it/s]\n",
      " 13%|\u001b[32m█▎        \u001b[0m| 33/250 [02:30<16:30,  4.56s/it]\n",
      " 31%|\u001b[32m███       \u001b[0m| 1536/5000 [02:30<05:38, 10.24it/s]\n",
      " 13%|\u001b[32m█▎        \u001b[0m| 33/250 [02:31<16:36,  4.59s/it]\n",
      " 31%|\u001b[32m███       \u001b[0m| 1532/5000 [02:30<05:39, 10.21it/s]\n",
      " 13%|\u001b[32m█▎        \u001b[0m| 33/250 [02:30<16:31,  4.57s/it]\n",
      " 31%|\u001b[32m███       \u001b[0m| 1535/5000 [02:30<05:38, 10.23it/s]\n",
      " 13%|\u001b[32m█▎        \u001b[0m| 33/250 [02:30<16:30,  4.57s/it]\n",
      " 31%|\u001b[32m███       \u001b[0m| 1536/5000 [02:30<05:38, 10.23it/s]\n"
     ]
    },
    {
     "name": "stdout",
     "output_type": "stream",
     "text": [
      "256 256\n",
      "{'OPT': 253, 'GA_SA value': 256, 'GA_SA time': 91.33}\n",
      "C: GA_SA\n"
     ]
    },
    {
     "name": "stderr",
     "output_type": "stream",
     "text": [
      "  8%|\u001b[32m▊         \u001b[0m| 19/250 [02:34<31:15,  8.12s/it]\n",
      " 18%|\u001b[32m█▊        \u001b[0m| 881/5000 [02:30<11:41,  5.87it/s]\n",
      "  8%|\u001b[32m▊         \u001b[0m| 19/250 [02:33<31:00,  8.06s/it]\n",
      " 18%|\u001b[32m█▊        \u001b[0m| 882/5000 [02:30<11:41,  5.87it/s]\n",
      "  8%|\u001b[32m▊         \u001b[0m| 19/250 [02:33<31:04,  8.07s/it]\n",
      " 18%|\u001b[32m█▊        \u001b[0m| 882/5000 [02:30<11:40,  5.88it/s]\n",
      "  8%|\u001b[32m▊         \u001b[0m| 19/250 [02:33<31:12,  8.10s/it]\n",
      " 18%|\u001b[32m█▊        \u001b[0m| 879/5000 [02:30<11:43,  5.86it/s]\n",
      "  8%|\u001b[32m▊         \u001b[0m| 19/250 [02:33<31:09,  8.09s/it]\n",
      " 18%|\u001b[32m█▊        \u001b[0m| 882/5000 [02:30<11:40,  5.88it/s]\n"
     ]
    },
    {
     "name": "stdout",
     "output_type": "stream",
     "text": [
      "234 234\n",
      "{'OPT': 227, 'GA_SA value': 234, 'GA_SA time': 146.06}\n",
      "D: GA_SA\n"
     ]
    },
    {
     "name": "stderr",
     "output_type": "stream",
     "text": [
      "  7%|\u001b[32m▋         \u001b[0m| 18/250 [02:31<32:35,  8.43s/it]\n",
      " 18%|\u001b[32m█▊        \u001b[0m| 879/5000 [02:30<11:43,  5.86it/s]\n",
      "  7%|\u001b[32m▋         \u001b[0m| 18/250 [02:31<32:32,  8.42s/it]\n",
      " 18%|\u001b[32m█▊        \u001b[0m| 883/5000 [02:30<11:40,  5.88it/s]\n",
      "  6%|\u001b[32m▌         \u001b[0m| 15/250 [02:06<33:02,  8.44s/it]\n",
      "  0%|\u001b[32m          \u001b[0m| 1/5000 [00:00<14:09,  5.89it/s]\n",
      "  7%|\u001b[32m▋         \u001b[0m| 18/250 [02:31<32:32,  8.42s/it]\n",
      " 17%|\u001b[32m█▋        \u001b[0m| 864/5000 [02:30<11:58,  5.75it/s]\n",
      "  7%|\u001b[32m▋         \u001b[0m| 18/250 [02:32<32:40,  8.45s/it]\n",
      " 17%|\u001b[32m█▋        \u001b[0m| 873/5000 [02:30<11:49,  5.81it/s]\n"
     ]
    },
    {
     "name": "stdout",
     "output_type": "stream",
     "text": [
      "60 60\n",
      "{'OPT': 60, 'GA_SA value': 60, 'GA_SA time': 126.67}\n",
      "F: GA_SA\n"
     ]
    },
    {
     "name": "stderr",
     "output_type": "stream",
     "text": [
      "  4%|\u001b[32m▍         \u001b[0m| 10/250 [02:38<1:03:20, 15.84s/it]\n",
      " 11%|\u001b[32m█▏        \u001b[0m| 571/5000 [02:29<19:23,  3.81it/s]\n",
      "  4%|\u001b[32m▍         \u001b[0m| 10/250 [02:37<1:03:01, 15.76s/it]\n",
      " 11%|\u001b[32m█▏        \u001b[0m| 570/5000 [02:30<19:27,  3.80it/s]\n",
      "  4%|\u001b[32m▍         \u001b[0m| 10/250 [02:37<1:02:56, 15.73s/it]\n",
      " 11%|\u001b[32m█▏        \u001b[0m| 570/5000 [02:30<19:26,  3.80it/s]\n",
      "  4%|\u001b[32m▍         \u001b[0m| 10/250 [02:37<1:03:02, 15.76s/it]\n",
      " 11%|\u001b[32m█▏        \u001b[0m| 572/5000 [02:30<19:21,  3.81it/s]\n",
      "  4%|\u001b[32m▍         \u001b[0m| 10/250 [02:36<1:02:29, 15.62s/it]\n",
      " 11%|\u001b[32m█▏        \u001b[0m| 574/5000 [02:30<19:17,  3.82it/s]\n"
     ]
    },
    {
     "name": "stdout",
     "output_type": "stream",
     "text": [
      "15 15\n",
      "{'OPT': 14, 'GA_SA value': 15, 'GA_SA time': 111.36}\n",
      "G: GA_SA\n"
     ]
    },
    {
     "name": "stderr",
     "output_type": "stream",
     "text": [
      "  1%|\u001b[32m          \u001b[0m| 3/250 [02:31<3:28:08, 50.56s/it]\n",
      "  3%|\u001b[32m▎         \u001b[0m| 149/5000 [02:30<1:21:44,  1.01s/it]\n",
      "  1%|\u001b[32m          \u001b[0m| 3/250 [02:31<3:27:52, 50.50s/it]\n",
      "  3%|\u001b[32m▎         \u001b[0m| 145/5000 [02:30<1:23:59,  1.04s/it]\n",
      "  1%|\u001b[32m          \u001b[0m| 3/250 [02:32<3:28:57, 50.76s/it]\n",
      "  3%|\u001b[32m▎         \u001b[0m| 149/5000 [02:30<1:21:41,  1.01s/it]\n",
      "  1%|\u001b[32m          \u001b[0m| 3/250 [02:31<3:28:21, 50.61s/it]\n",
      "  3%|\u001b[32m▎         \u001b[0m| 147/5000 [02:30<1:22:36,  1.02s/it]\n",
      "  1%|\u001b[32m          \u001b[0m| 3/250 [02:32<3:28:37, 50.68s/it]\n",
      "  3%|\u001b[32m▎         \u001b[0m| 149/5000 [02:30<1:21:36,  1.01s/it]\n"
     ]
    },
    {
     "name": "stdout",
     "output_type": "stream",
     "text": [
      "247 245\n",
      "{'OPT': 179, 'GA_SA value': 245, 'GA_SA time': 278.59}\n",
      "H: GA_SA\n"
     ]
    },
    {
     "name": "stderr",
     "output_type": "stream",
     "text": [
      "  1%|\u001b[32m          \u001b[0m| 3/250 [02:41<3:41:08, 53.72s/it]\n",
      "  3%|\u001b[32m▎         \u001b[0m| 148/5000 [02:30<1:21:57,  1.01s/it]\n",
      "  1%|\u001b[32m          \u001b[0m| 3/250 [02:40<3:40:17, 53.51s/it]\n",
      "  3%|\u001b[32m▎         \u001b[0m| 149/5000 [02:30<1:21:52,  1.01s/it]\n",
      "  1%|\u001b[32m          \u001b[0m| 3/250 [02:40<3:39:46, 53.39s/it]\n",
      "  3%|\u001b[32m▎         \u001b[0m| 148/5000 [02:30<1:22:21,  1.02s/it]\n",
      "  1%|\u001b[32m          \u001b[0m| 3/250 [02:40<3:39:43, 53.38s/it]\n",
      "  3%|\u001b[32m▎         \u001b[0m| 148/5000 [02:30<1:21:59,  1.01s/it]\n",
      "  1%|\u001b[32m          \u001b[0m| 3/250 [02:39<3:38:53, 53.17s/it]\n",
      "  3%|\u001b[32m▎         \u001b[0m| 149/5000 [02:30<1:21:35,  1.01s/it]\n"
     ]
    },
    {
     "name": "stdout",
     "output_type": "stream",
     "text": [
      "82 82\n",
      "{'OPT': 64, 'GA_SA value': 82, 'GA_SA time': 160.42}\n"
     ]
    },
    {
     "data": {
      "text/html": [
       "<div>\n",
       "<style scoped>\n",
       "    .dataframe tbody tr th:only-of-type {\n",
       "        vertical-align: middle;\n",
       "    }\n",
       "\n",
       "    .dataframe tbody tr th {\n",
       "        vertical-align: top;\n",
       "    }\n",
       "\n",
       "    .dataframe thead th {\n",
       "        text-align: right;\n",
       "    }\n",
       "</style>\n",
       "<table border=\"1\" class=\"dataframe\">\n",
       "  <thead>\n",
       "    <tr style=\"text-align: right;\">\n",
       "      <th></th>\n",
       "      <th>OPT</th>\n",
       "      <th>GA_SA value</th>\n",
       "      <th>GA_SA time</th>\n",
       "    </tr>\n",
       "  </thead>\n",
       "  <tbody>\n",
       "    <tr>\n",
       "      <th>4</th>\n",
       "      <td>429</td>\n",
       "      <td>431</td>\n",
       "      <td>27.87</td>\n",
       "    </tr>\n",
       "    <tr>\n",
       "      <th>5</th>\n",
       "      <td>253</td>\n",
       "      <td>256</td>\n",
       "      <td>56.21</td>\n",
       "    </tr>\n",
       "    <tr>\n",
       "      <th>6</th>\n",
       "      <td>138</td>\n",
       "      <td>140</td>\n",
       "      <td>19.66</td>\n",
       "    </tr>\n",
       "    <tr>\n",
       "      <th>A</th>\n",
       "      <td>253</td>\n",
       "      <td>256</td>\n",
       "      <td>91.33</td>\n",
       "    </tr>\n",
       "    <tr>\n",
       "      <th>C</th>\n",
       "      <td>227</td>\n",
       "      <td>234</td>\n",
       "      <td>146.06</td>\n",
       "    </tr>\n",
       "    <tr>\n",
       "      <th>D</th>\n",
       "      <td>60</td>\n",
       "      <td>60</td>\n",
       "      <td>126.67</td>\n",
       "    </tr>\n",
       "    <tr>\n",
       "      <th>F</th>\n",
       "      <td>14</td>\n",
       "      <td>15</td>\n",
       "      <td>111.36</td>\n",
       "    </tr>\n",
       "    <tr>\n",
       "      <th>G</th>\n",
       "      <td>179</td>\n",
       "      <td>245</td>\n",
       "      <td>278.59</td>\n",
       "    </tr>\n",
       "    <tr>\n",
       "      <th>H</th>\n",
       "      <td>64</td>\n",
       "      <td>82</td>\n",
       "      <td>160.42</td>\n",
       "    </tr>\n",
       "  </tbody>\n",
       "</table>\n",
       "</div>"
      ],
      "text/plain": [
       "   OPT  GA_SA value  GA_SA time\n",
       "4  429          431       27.87\n",
       "5  253          256       56.21\n",
       "6  138          140       19.66\n",
       "A  253          256       91.33\n",
       "C  227          234      146.06\n",
       "D   60           60      126.67\n",
       "F   14           15      111.36\n",
       "G  179          245      278.59\n",
       "H   64           82      160.42"
      ]
     },
     "execution_count": 5,
     "metadata": {},
     "output_type": "execute_result"
    },
    {
     "data": {
      "text/plain": [
       "<Figure size 640x480 with 0 Axes>"
      ]
     },
     "metadata": {},
     "output_type": "display_data"
    }
   ],
   "source": [
    "algorithms = [{'name': 'GA_SA', 'params': [20, 0, (50, 50, 0), (100, 0, 0, 0), (0, 0), 250, 500, 5000], \n",
    "               'class': GA_SA}, ]\n",
    "\n",
    "files = [{'name': '4', 'optimum': 429},\n",
    "         {'name': '5', 'optimum': 253},\n",
    "         {'name': '6', 'optimum': 138},\n",
    "         {'name': 'A', 'optimum': 253},\n",
    "         {'name': 'C', 'optimum': 227},\n",
    "         {'name': 'D', 'optimum': 60},\n",
    "         {'name': 'F', 'optimum': 14},\n",
    "         {'name': 'G', 'optimum': 179},\n",
    "         {'name': 'H', 'optimum': 64}\n",
    "         ]\n",
    "\n",
    "start_experiments(algorithms, files)"
   ]
  },
  {
   "cell_type": "code",
   "execution_count": 17,
   "metadata": {},
   "outputs": [
    {
     "name": "stdout",
     "output_type": "stream",
     "text": [
      "4: LH_SA\n"
     ]
    },
    {
     "name": "stderr",
     "output_type": "stream",
     "text": []
    },
    {
     "name": "stderr",
     "output_type": "stream",
     "text": [
      " 40%|\u001b[32m████      \u001b[0m| 1000/2500 [01:37<02:26, 10.24it/s]\n",
      " 49%|\u001b[32m████▉     \u001b[0m| 4881/10000 [02:00<02:05, 40.63it/s]\n",
      " 40%|\u001b[32m████      \u001b[0m| 1000/2500 [01:40<02:31,  9.91it/s]\n",
      " 11%|\u001b[32m█         \u001b[0m| 1076/10000 [00:26<03:40, 40.50it/s]\n",
      " 40%|\u001b[32m████      \u001b[0m| 1000/2500 [01:40<02:30,  9.94it/s]\n",
      " 61%|\u001b[32m██████▏   \u001b[0m| 6148/10000 [02:30<01:33, 40.99it/s]\n",
      " 40%|\u001b[32m████      \u001b[0m| 1000/2500 [01:33<02:19, 10.73it/s]\n",
      " 64%|\u001b[32m██████▍   \u001b[0m| 6398/10000 [02:30<01:24, 42.65it/s]\n",
      " 40%|\u001b[32m████      \u001b[0m| 1000/2500 [01:37<02:26, 10.22it/s]\n",
      " 15%|\u001b[32m█▌        \u001b[0m| 1531/10000 [00:37<03:25, 41.16it/s]\n"
     ]
    },
    {
     "name": "stdout",
     "output_type": "stream",
     "text": [
      "430 430\n",
      "{'OPT': 429, 'LH_SA value': 430, 'LH_SA time': 60.75}\n",
      "5: LH_SA\n"
     ]
    },
    {
     "name": "stderr",
     "output_type": "stream",
     "text": [
      " 36%|\u001b[32m███▌      \u001b[0m| 889/2500 [02:30<04:32,  5.92it/s]\n",
      " 34%|\u001b[32m███▎      \u001b[0m| 3373/10000 [02:30<04:54, 22.48it/s]\n",
      " 35%|\u001b[32m███▍      \u001b[0m| 872/2500 [02:30<04:40,  5.81it/s]\n",
      " 37%|\u001b[32m███▋      \u001b[0m| 3672/10000 [02:30<04:18, 24.47it/s]\n",
      " 33%|\u001b[32m███▎      \u001b[0m| 816/2500 [02:30<05:09,  5.44it/s]\n",
      " 36%|\u001b[32m███▌      \u001b[0m| 3585/10000 [02:30<04:28, 23.90it/s]\n",
      " 35%|\u001b[32m███▍      \u001b[0m| 873/2500 [02:30<04:39,  5.82it/s]\n",
      " 36%|\u001b[32m███▌      \u001b[0m| 3586/10000 [02:29<04:28, 23.91it/s]\n",
      " 35%|\u001b[32m███▌      \u001b[0m| 876/2500 [02:30<04:38,  5.83it/s]\n",
      " 36%|\u001b[32m███▌      \u001b[0m| 3590/10000 [02:29<04:27, 23.93it/s]\n"
     ]
    },
    {
     "name": "stdout",
     "output_type": "stream",
     "text": [
      "257 257\n",
      "{'OPT': 253, 'LH_SA value': 257, 'LH_SA time': 41.95}\n",
      "6: LH_SA\n"
     ]
    },
    {
     "name": "stderr",
     "output_type": "stream",
     "text": [
      " 40%|\u001b[32m████      \u001b[0m| 1000/2500 [01:32<02:19, 10.77it/s]\n",
      " 73%|\u001b[32m███████▎  \u001b[0m| 7281/10000 [02:29<00:56, 48.54it/s]\n",
      " 40%|\u001b[32m████      \u001b[0m| 1000/2500 [01:06<01:39, 15.06it/s]\n",
      " 73%|\u001b[32m███████▎  \u001b[0m| 7301/10000 [02:30<00:55, 48.67it/s]\n",
      " 40%|\u001b[32m████      \u001b[0m| 1000/2500 [01:26<02:10, 11.53it/s]\n",
      " 40%|\u001b[32m███▉      \u001b[0m| 3993/10000 [01:31<02:17, 43.71it/s]\n",
      " 40%|\u001b[32m████      \u001b[0m| 1000/2500 [01:26<02:10, 11.51it/s]\n",
      " 68%|\u001b[32m██████▊   \u001b[0m| 6789/10000 [02:30<01:10, 45.26it/s]\n",
      " 40%|\u001b[32m████      \u001b[0m| 1000/2500 [01:20<02:00, 12.43it/s]\n",
      " 69%|\u001b[32m██████▉   \u001b[0m| 6886/10000 [02:29<01:07, 45.91it/s]\n"
     ]
    },
    {
     "name": "stdout",
     "output_type": "stream",
     "text": [
      "143 141\n",
      "{'OPT': 138, 'LH_SA value': 141, 'LH_SA time': 106.77}\n",
      "A: LH_SA\n"
     ]
    },
    {
     "name": "stderr",
     "output_type": "stream",
     "text": [
      " 16%|\u001b[32m█▌        \u001b[0m| 405/2500 [02:30<12:57,  2.69it/s]\n",
      " 16%|\u001b[32m█▋        \u001b[0m| 1639/10000 [02:30<12:45, 10.92it/s]\n",
      " 16%|\u001b[32m█▌        \u001b[0m| 404/2500 [02:30<12:58,  2.69it/s]\n",
      " 17%|\u001b[32m█▋        \u001b[0m| 1673/10000 [02:29<12:26, 11.15it/s]\n",
      " 16%|\u001b[32m█▌        \u001b[0m| 391/2500 [02:30<13:30,  2.60it/s]\n",
      " 16%|\u001b[32m█▋        \u001b[0m| 1636/10000 [02:30<12:47, 10.90it/s]\n",
      " 16%|\u001b[32m█▋        \u001b[0m| 412/2500 [02:30<12:41,  2.74it/s]\n",
      " 17%|\u001b[32m█▋        \u001b[0m| 1694/10000 [02:30<12:15, 11.29it/s]\n",
      " 17%|\u001b[32m█▋        \u001b[0m| 424/2500 [02:30<12:15,  2.82it/s]\n",
      " 16%|\u001b[32m█▋        \u001b[0m| 1633/10000 [02:30<12:48, 10.89it/s]\n"
     ]
    },
    {
     "name": "stdout",
     "output_type": "stream",
     "text": [
      "257 257\n",
      "{'OPT': 253, 'LH_SA value': 257, 'LH_SA time': 1.32}\n",
      "B: LH_SA\n"
     ]
    },
    {
     "name": "stderr",
     "output_type": "stream",
     "text": [
      " 17%|\u001b[32m█▋        \u001b[0m| 421/2500 [02:30<12:21,  2.80it/s]\n",
      " 16%|\u001b[32m█▌        \u001b[0m| 1585/10000 [02:30<13:16, 10.56it/s]\n",
      " 16%|\u001b[32m█▌        \u001b[0m| 396/2500 [02:30<13:18,  2.64it/s]\n",
      " 17%|\u001b[32m█▋        \u001b[0m| 1740/10000 [02:30<11:52, 11.59it/s]\n",
      " 16%|\u001b[32m█▋        \u001b[0m| 409/2500 [02:30<12:49,  2.72it/s]\n",
      " 16%|\u001b[32m█▋        \u001b[0m| 1642/10000 [02:30<12:43, 10.95it/s]\n",
      " 17%|\u001b[32m█▋        \u001b[0m| 433/2500 [02:30<11:56,  2.88it/s]\n",
      " 17%|\u001b[32m█▋        \u001b[0m| 1698/10000 [02:29<12:13, 11.32it/s]\n",
      " 16%|\u001b[32m█▌        \u001b[0m| 391/2500 [02:30<13:29,  2.60it/s]\n",
      " 18%|\u001b[32m█▊        \u001b[0m| 1837/10000 [02:30<11:06, 12.25it/s]\n"
     ]
    },
    {
     "name": "stdout",
     "output_type": "stream",
     "text": [
      "70 70\n",
      "{'OPT': 69, 'LH_SA value': 70, 'LH_SA time': 70.83}\n",
      "C: LH_SA\n"
     ]
    },
    {
     "name": "stderr",
     "output_type": "stream",
     "text": [
      "  9%|\u001b[32m▉         \u001b[0m| 227/2500 [02:30<25:03,  1.51it/s]\n",
      " 10%|\u001b[32m▉         \u001b[0m| 982/10000 [02:30<22:58,  6.54it/s]\n",
      " 10%|\u001b[32m▉         \u001b[0m| 241/2500 [02:30<23:28,  1.60it/s]\n",
      " 10%|\u001b[32m▉         \u001b[0m| 980/10000 [02:30<23:01,  6.53it/s]\n",
      " 10%|\u001b[32m▉         \u001b[0m| 240/2500 [02:30<23:33,  1.60it/s]\n",
      " 10%|\u001b[32m▉         \u001b[0m| 966/10000 [02:30<23:24,  6.43it/s]\n",
      "  9%|\u001b[32m▉         \u001b[0m| 223/2500 [02:30<25:38,  1.48it/s]\n",
      "  8%|\u001b[32m▊         \u001b[0m| 790/10000 [02:30<29:09,  5.26it/s]\n",
      "  6%|\u001b[32m▌         \u001b[0m| 155/2500 [02:30<38:04,  1.03it/s]\n",
      "  7%|\u001b[32m▋         \u001b[0m| 660/10000 [02:30<35:24,  4.40it/s]\n"
     ]
    },
    {
     "name": "stdout",
     "output_type": "stream",
     "text": [
      "233 233\n",
      "{'OPT': 227, 'LH_SA value': 233, 'LH_SA time': 51.54}\n",
      "D: LH_SA\n"
     ]
    },
    {
     "name": "stderr",
     "output_type": "stream",
     "text": [
      "  7%|\u001b[32m▋         \u001b[0m| 183/2500 [02:30<31:46,  1.22it/s]\n",
      "  9%|\u001b[32m▊         \u001b[0m| 851/10000 [02:30<26:56,  5.66it/s]\n",
      " 11%|\u001b[32m█         \u001b[0m| 270/2500 [02:30<20:40,  1.80it/s]\n",
      " 11%|\u001b[32m█         \u001b[0m| 1120/10000 [02:30<19:50,  7.46it/s]\n",
      "  7%|\u001b[32m▋         \u001b[0m| 181/2500 [02:30<32:08,  1.20it/s]\n",
      "  8%|\u001b[32m▊         \u001b[0m| 750/10000 [02:30<30:51,  5.00it/s]\n",
      "  7%|\u001b[32m▋         \u001b[0m| 181/2500 [02:30<32:05,  1.20it/s]\n",
      "  8%|\u001b[32m▊         \u001b[0m| 782/10000 [02:30<29:30,  5.21it/s]\n",
      "  7%|\u001b[32m▋         \u001b[0m| 183/2500 [02:30<31:49,  1.21it/s]\n",
      "  8%|\u001b[32m▊         \u001b[0m| 755/10000 [02:30<30:39,  5.03it/s]\n"
     ]
    },
    {
     "name": "stdout",
     "output_type": "stream",
     "text": [
      "61 61\n",
      "{'OPT': 60, 'LH_SA value': 61, 'LH_SA time': 40.22}\n",
      "F: LH_SA\n"
     ]
    },
    {
     "name": "stderr",
     "output_type": "stream",
     "text": [
      "  4%|\u001b[32m▍         \u001b[0m| 106/2500 [02:30<56:39,  1.42s/it]\n",
      "  5%|\u001b[32m▍         \u001b[0m| 496/10000 [02:30<47:58,  3.30it/s]\n",
      "  4%|\u001b[32m▍         \u001b[0m| 106/2500 [02:30<56:45,  1.42s/it]\n",
      "  5%|\u001b[32m▍         \u001b[0m| 483/10000 [02:30<49:17,  3.22it/s]\n",
      "  4%|\u001b[32m▍         \u001b[0m| 106/2500 [02:31<56:53,  1.43s/it]\n",
      "  5%|\u001b[32m▍         \u001b[0m| 474/10000 [02:30<50:15,  3.16it/s]\n",
      "  4%|\u001b[32m▍         \u001b[0m| 103/2500 [02:30<58:27,  1.46s/it]\n",
      "  5%|\u001b[32m▍         \u001b[0m| 492/10000 [02:30<48:21,  3.28it/s]\n",
      "  5%|\u001b[32m▍         \u001b[0m| 122/2500 [02:30<48:59,  1.24s/it]\n",
      "  6%|\u001b[32m▌         \u001b[0m| 584/10000 [02:30<40:21,  3.89it/s]\n"
     ]
    },
    {
     "name": "stdout",
     "output_type": "stream",
     "text": [
      "15 15\n",
      "{'OPT': 14, 'LH_SA value': 15, 'LH_SA time': 78.04}\n",
      "G: LH_SA\n"
     ]
    },
    {
     "name": "stderr",
     "output_type": "stream",
     "text": [
      "  1%|\u001b[32m          \u001b[0m| 27/2500 [02:38<4:01:29,  5.86s/it]\n",
      "  1%|\u001b[32m▏         \u001b[0m| 135/10000 [02:30<3:02:54,  1.11s/it]\n",
      "  1%|\u001b[32m          \u001b[0m| 27/2500 [02:32<3:52:17,  5.64s/it]\n",
      "  2%|\u001b[32m▏         \u001b[0m| 170/10000 [02:30<2:24:49,  1.13it/s]\n",
      "  1%|\u001b[32m▏         \u001b[0m| 32/2500 [02:33<3:17:24,  4.80s/it]\n",
      "  2%|\u001b[32m▏         \u001b[0m| 157/10000 [02:30<2:36:55,  1.05it/s]\n",
      "  1%|\u001b[32m          \u001b[0m| 28/2500 [02:33<3:46:23,  5.50s/it]\n",
      "  1%|\u001b[32m▏         \u001b[0m| 131/10000 [02:30<3:09:09,  1.15s/it]\n",
      "  1%|\u001b[32m          \u001b[0m| 26/2500 [02:35<4:06:02,  5.97s/it]\n",
      "  1%|\u001b[32m▏         \u001b[0m| 125/10000 [02:30<3:17:37,  1.20s/it]\n"
     ]
    },
    {
     "name": "stdout",
     "output_type": "stream",
     "text": [
      "194 194\n",
      "{'OPT': 179, 'LH_SA value': 194, 'LH_SA time': 152.55}\n",
      "H: LH_SA\n"
     ]
    },
    {
     "name": "stderr",
     "output_type": "stream",
     "text": [
      "  1%|\u001b[32m          \u001b[0m| 29/2500 [02:33<3:37:18,  5.28s/it]\n",
      "  1%|\u001b[32m▏         \u001b[0m| 129/10000 [02:30<3:12:15,  1.17s/it]\n",
      "  1%|\u001b[32m▏         \u001b[0m| 32/2500 [02:33<3:17:14,  4.80s/it]\n",
      "  2%|\u001b[32m▏         \u001b[0m| 170/10000 [02:30<2:24:45,  1.13it/s]\n",
      "  1%|\u001b[32m          \u001b[0m| 29/2500 [02:35<3:40:19,  5.35s/it]\n",
      "  1%|\u001b[32m          \u001b[0m| 119/10000 [02:30<3:27:44,  1.26s/it]\n",
      "  1%|\u001b[32m          \u001b[0m| 25/2500 [02:31<4:10:30,  6.07s/it]\n",
      "  1%|\u001b[32m▏         \u001b[0m| 128/10000 [02:30<3:13:44,  1.18s/it]\n",
      "  1%|\u001b[32m          \u001b[0m| 25/2500 [02:31<4:09:51,  6.06s/it]\n",
      "  1%|\u001b[32m▏         \u001b[0m| 144/10000 [02:30<2:51:53,  1.05s/it]\n"
     ]
    },
    {
     "name": "stdout",
     "output_type": "stream",
     "text": [
      "69 69\n",
      "{'OPT': 64, 'LH_SA value': 69, 'LH_SA time': 68.37}\n"
     ]
    },
    {
     "data": {
      "text/html": [
       "<div>\n",
       "<style scoped>\n",
       "    .dataframe tbody tr th:only-of-type {\n",
       "        vertical-align: middle;\n",
       "    }\n",
       "\n",
       "    .dataframe tbody tr th {\n",
       "        vertical-align: top;\n",
       "    }\n",
       "\n",
       "    .dataframe thead th {\n",
       "        text-align: right;\n",
       "    }\n",
       "</style>\n",
       "<table border=\"1\" class=\"dataframe\">\n",
       "  <thead>\n",
       "    <tr style=\"text-align: right;\">\n",
       "      <th></th>\n",
       "      <th>OPT</th>\n",
       "      <th>LH_SA value</th>\n",
       "      <th>LH_SA time</th>\n",
       "    </tr>\n",
       "  </thead>\n",
       "  <tbody>\n",
       "    <tr>\n",
       "      <th>4</th>\n",
       "      <td>429</td>\n",
       "      <td>430</td>\n",
       "      <td>60.75</td>\n",
       "    </tr>\n",
       "    <tr>\n",
       "      <th>5</th>\n",
       "      <td>253</td>\n",
       "      <td>257</td>\n",
       "      <td>41.95</td>\n",
       "    </tr>\n",
       "    <tr>\n",
       "      <th>6</th>\n",
       "      <td>138</td>\n",
       "      <td>141</td>\n",
       "      <td>106.77</td>\n",
       "    </tr>\n",
       "    <tr>\n",
       "      <th>A</th>\n",
       "      <td>253</td>\n",
       "      <td>257</td>\n",
       "      <td>1.32</td>\n",
       "    </tr>\n",
       "    <tr>\n",
       "      <th>B</th>\n",
       "      <td>69</td>\n",
       "      <td>70</td>\n",
       "      <td>70.83</td>\n",
       "    </tr>\n",
       "    <tr>\n",
       "      <th>C</th>\n",
       "      <td>227</td>\n",
       "      <td>233</td>\n",
       "      <td>51.54</td>\n",
       "    </tr>\n",
       "    <tr>\n",
       "      <th>D</th>\n",
       "      <td>60</td>\n",
       "      <td>61</td>\n",
       "      <td>40.22</td>\n",
       "    </tr>\n",
       "    <tr>\n",
       "      <th>F</th>\n",
       "      <td>14</td>\n",
       "      <td>15</td>\n",
       "      <td>78.04</td>\n",
       "    </tr>\n",
       "    <tr>\n",
       "      <th>G</th>\n",
       "      <td>179</td>\n",
       "      <td>194</td>\n",
       "      <td>152.55</td>\n",
       "    </tr>\n",
       "    <tr>\n",
       "      <th>H</th>\n",
       "      <td>64</td>\n",
       "      <td>69</td>\n",
       "      <td>68.37</td>\n",
       "    </tr>\n",
       "  </tbody>\n",
       "</table>\n",
       "</div>"
      ],
      "text/plain": [
       "   OPT  LH_SA value  LH_SA time\n",
       "4  429          430       60.75\n",
       "5  253          257       41.95\n",
       "6  138          141      106.77\n",
       "A  253          257        1.32\n",
       "B   69           70       70.83\n",
       "C  227          233       51.54\n",
       "D   60           61       40.22\n",
       "F   14           15       78.04\n",
       "G  179          194      152.55\n",
       "H   64           69       68.37"
      ]
     },
     "execution_count": 17,
     "metadata": {},
     "output_type": "execute_result"
    },
    {
     "data": {
      "text/plain": [
       "<Figure size 640x480 with 0 Axes>"
      ]
     },
     "metadata": {},
     "output_type": "display_data"
    }
   ],
   "source": [
    "algorithms = [{'name': 'LH_SA', 'params': [2500, 500, 10000], \n",
    "               'class': LH_SA}, ]\n",
    "\n",
    "files = [{'name': '4', 'optimum': 429},\n",
    "         {'name': '5', 'optimum': 253},\n",
    "         {'name': '6', 'optimum': 138},\n",
    "         {'name': 'A', 'optimum': 253},\n",
    "         {'name': 'B', 'optimum': 69},\n",
    "         {'name': 'C', 'optimum': 227},\n",
    "         {'name': 'D', 'optimum': 60},\n",
    "         {'name': 'F', 'optimum': 14},\n",
    "         {'name': 'G', 'optimum': 179},\n",
    "         {'name': 'H', 'optimum': 64}\n",
    "         ]\n",
    "\n",
    "start_experiments(algorithms, files)"
   ]
  },
  {
   "cell_type": "code",
   "execution_count": 16,
   "metadata": {},
   "outputs": [
    {
     "name": "stdout",
     "output_type": "stream",
     "text": [
      "4: BH_SA\n"
     ]
    },
    {
     "name": "stderr",
     "output_type": "stream",
     "text": [
      " 23%|\u001b[32m██▎       \u001b[0m| 113/500 [02:29<08:32,  1.32s/it]\n",
      " 64%|\u001b[32m██████▍   \u001b[0m| 3197/5000 [01:16<00:43, 41.54it/s]\n",
      " 23%|\u001b[32m██▎       \u001b[0m| 117/500 [02:29<08:09,  1.28s/it]\n",
      "100%|\u001b[32m██████████\u001b[0m| 5000/5000 [02:00<00:00, 41.49it/s]\n",
      " 30%|\u001b[32m███       \u001b[0m| 151/500 [02:30<05:47,  1.00it/s]\n",
      "100%|\u001b[32m██████████\u001b[0m| 5000/5000 [01:56<00:00, 42.75it/s]\n",
      " 29%|\u001b[32m██▉       \u001b[0m| 145/500 [02:31<06:10,  1.04s/it]\n",
      " 87%|\u001b[32m████████▋ \u001b[0m| 4330/5000 [01:44<00:16, 41.43it/s]\n",
      " 25%|\u001b[32m██▍       \u001b[0m| 123/500 [02:29<07:38,  1.22s/it]\n",
      "100%|\u001b[32m██████████\u001b[0m| 5000/5000 [02:00<00:00, 41.65it/s]\n"
     ]
    },
    {
     "name": "stdout",
     "output_type": "stream",
     "text": [
      "433 432\n",
      "{'OPT': 429, 'BH_SA value': 432, 'BH_SA time': 230.71}\n",
      "5: BH_SA\n"
     ]
    },
    {
     "name": "stderr",
     "output_type": "stream",
     "text": [
      " 19%|\u001b[32m█▉        \u001b[0m| 97/500 [02:29<10:19,  1.54s/it]\n",
      " 65%|\u001b[32m██████▍   \u001b[0m| 3248/5000 [02:30<01:20, 21.65it/s]\n",
      " 17%|\u001b[32m█▋        \u001b[0m| 87/500 [02:30<11:56,  1.73s/it]\n",
      " 65%|\u001b[32m██████▍   \u001b[0m| 3240/5000 [02:30<01:21, 21.60it/s]\n",
      " 17%|\u001b[32m█▋        \u001b[0m| 84/500 [02:30<12:26,  1.79s/it]\n",
      " 64%|\u001b[32m██████▍   \u001b[0m| 3197/5000 [02:30<01:24, 21.31it/s]\n",
      " 17%|\u001b[32m█▋        \u001b[0m| 83/500 [02:30<12:34,  1.81s/it]\n",
      " 64%|\u001b[32m██████▍   \u001b[0m| 3220/5000 [02:30<01:22, 21.46it/s]\n",
      " 15%|\u001b[32m█▌        \u001b[0m| 77/500 [02:30<13:44,  1.95s/it]\n",
      " 65%|\u001b[32m██████▍   \u001b[0m| 3243/5000 [02:29<01:21, 21.62it/s]\n"
     ]
    },
    {
     "name": "stdout",
     "output_type": "stream",
     "text": [
      "261 261\n",
      "{'OPT': 253, 'BH_SA value': 261, 'BH_SA time': 79.22}\n",
      "A: BH_SA\n"
     ]
    },
    {
     "name": "stderr",
     "output_type": "stream",
     "text": [
      " 10%|\u001b[32m█         \u001b[0m| 52/500 [02:28<21:21,  2.86s/it]\n",
      " 29%|\u001b[32m██▊       \u001b[0m| 1435/5000 [02:30<06:12,  9.56it/s]\n",
      " 11%|\u001b[32m█         \u001b[0m| 53/500 [02:32<21:25,  2.88s/it]\n",
      " 30%|\u001b[32m██▉       \u001b[0m| 1487/5000 [02:30<05:54,  9.91it/s]\n",
      " 12%|\u001b[32m█▏        \u001b[0m| 59/500 [02:31<18:49,  2.56s/it]\n",
      " 29%|\u001b[32m██▉       \u001b[0m| 1441/5000 [02:30<06:10,  9.60it/s]\n",
      " 12%|\u001b[32m█▏        \u001b[0m| 58/500 [02:29<18:57,  2.57s/it]\n",
      " 29%|\u001b[32m██▉       \u001b[0m| 1438/5000 [02:30<06:11,  9.58it/s]\n",
      " 12%|\u001b[32m█▏        \u001b[0m| 60/500 [02:30<18:25,  2.51s/it]\n",
      " 30%|\u001b[32m██▉       \u001b[0m| 1486/5000 [02:30<05:54,  9.91it/s]\n"
     ]
    },
    {
     "name": "stdout",
     "output_type": "stream",
     "text": [
      "256 256\n",
      "{'OPT': 253, 'BH_SA value': 256, 'BH_SA time': 133.76}\n",
      "C: BH_SA\n"
     ]
    },
    {
     "name": "stderr",
     "output_type": "stream",
     "text": [
      "  8%|\u001b[32m▊         \u001b[0m| 42/500 [02:29<27:05,  3.55s/it]\n",
      " 17%|\u001b[32m█▋        \u001b[0m| 842/5000 [02:30<12:20,  5.61it/s]\n",
      "  8%|\u001b[32m▊         \u001b[0m| 38/500 [02:29<30:16,  3.93s/it]\n",
      " 17%|\u001b[32m█▋        \u001b[0m| 845/5000 [02:30<12:17,  5.63it/s]\n",
      "  7%|\u001b[32m▋         \u001b[0m| 34/500 [02:26<33:28,  4.31s/it]\n",
      " 15%|\u001b[32m█▌        \u001b[0m| 773/5000 [02:30<13:40,  5.15it/s]\n",
      "  7%|\u001b[32m▋         \u001b[0m| 36/500 [02:28<31:50,  4.12s/it]\n",
      " 16%|\u001b[32m█▌        \u001b[0m| 788/5000 [02:30<13:22,  5.25it/s]\n",
      "  8%|\u001b[32m▊         \u001b[0m| 39/500 [02:27<29:05,  3.79s/it]\n",
      " 17%|\u001b[32m█▋        \u001b[0m| 870/5000 [02:30<11:52,  5.80it/s]\n"
     ]
    },
    {
     "name": "stdout",
     "output_type": "stream",
     "text": [
      "234 234\n",
      "{'OPT': 227, 'BH_SA value': 234, 'BH_SA time': 40.65}\n",
      "G: BH_SA\n"
     ]
    },
    {
     "name": "stderr",
     "output_type": "stream",
     "text": [
      "  1%|\u001b[32m          \u001b[0m| 6/500 [02:08<2:56:49, 21.48s/it]\n",
      "  3%|\u001b[32m▎         \u001b[0m| 166/5000 [02:30<1:13:03,  1.10it/s]\n",
      "  1%|\u001b[32m          \u001b[0m| 6/500 [02:13<3:03:42, 22.31s/it]\n",
      "  3%|\u001b[32m▎         \u001b[0m| 142/5000 [02:30<1:25:32,  1.06s/it]\n",
      "  1%|\u001b[32m          \u001b[0m| 6/500 [02:13<3:03:40, 22.31s/it]\n",
      "  3%|\u001b[32m▎         \u001b[0m| 142/5000 [02:30<1:25:41,  1.06s/it]\n",
      "  1%|\u001b[32m          \u001b[0m| 6/500 [02:22<3:15:36, 23.76s/it]\n",
      "  3%|\u001b[32m▎         \u001b[0m| 132/5000 [02:30<1:32:45,  1.14s/it]\n",
      "  1%|\u001b[32m          \u001b[0m| 6/500 [02:21<3:14:41, 23.65s/it]\n",
      "  3%|\u001b[32m▎         \u001b[0m| 134/5000 [02:30<1:31:17,  1.13s/it]\n"
     ]
    },
    {
     "name": "stdout",
     "output_type": "stream",
     "text": [
      "198 198\n",
      "{'OPT': 179, 'BH_SA value': 198, 'BH_SA time': 164.97}\n",
      "H: BH_SA\n"
     ]
    },
    {
     "name": "stderr",
     "output_type": "stream",
     "text": [
      "  1%|\u001b[32m          \u001b[0m| 6/500 [02:16<3:07:31, 22.78s/it]\n",
      "  3%|\u001b[32m▎         \u001b[0m| 139/5000 [02:30<1:27:29,  1.08s/it]\n",
      "  1%|\u001b[32m          \u001b[0m| 6/500 [02:17<3:08:29, 22.89s/it]\n",
      "  3%|\u001b[32m▎         \u001b[0m| 138/5000 [02:30<1:28:20,  1.09s/it]\n",
      "  1%|\u001b[32m          \u001b[0m| 6/500 [02:17<3:08:57, 22.95s/it]\n",
      "  3%|\u001b[32m▎         \u001b[0m| 139/5000 [02:30<1:27:56,  1.09s/it]\n",
      "  1%|\u001b[32m          \u001b[0m| 6/500 [02:18<3:10:39, 23.16s/it]\n",
      "  3%|\u001b[32m▎         \u001b[0m| 139/5000 [02:30<1:27:57,  1.09s/it]\n",
      "  1%|\u001b[32m          \u001b[0m| 6/500 [02:16<3:07:35, 22.78s/it]\n",
      "  3%|\u001b[32m▎         \u001b[0m| 138/5000 [02:30<1:28:25,  1.09s/it]\n"
     ]
    },
    {
     "name": "stdout",
     "output_type": "stream",
     "text": [
      "68 68\n",
      "{'OPT': 64, 'BH_SA value': 68, 'BH_SA time': 114.06}\n"
     ]
    },
    {
     "data": {
      "text/html": [
       "<div>\n",
       "<style scoped>\n",
       "    .dataframe tbody tr th:only-of-type {\n",
       "        vertical-align: middle;\n",
       "    }\n",
       "\n",
       "    .dataframe tbody tr th {\n",
       "        vertical-align: top;\n",
       "    }\n",
       "\n",
       "    .dataframe thead th {\n",
       "        text-align: right;\n",
       "    }\n",
       "</style>\n",
       "<table border=\"1\" class=\"dataframe\">\n",
       "  <thead>\n",
       "    <tr style=\"text-align: right;\">\n",
       "      <th></th>\n",
       "      <th>OPT</th>\n",
       "      <th>BH_SA value</th>\n",
       "      <th>BH_SA time</th>\n",
       "    </tr>\n",
       "  </thead>\n",
       "  <tbody>\n",
       "    <tr>\n",
       "      <th>4</th>\n",
       "      <td>429</td>\n",
       "      <td>432</td>\n",
       "      <td>230.71</td>\n",
       "    </tr>\n",
       "    <tr>\n",
       "      <th>5</th>\n",
       "      <td>253</td>\n",
       "      <td>261</td>\n",
       "      <td>79.22</td>\n",
       "    </tr>\n",
       "    <tr>\n",
       "      <th>A</th>\n",
       "      <td>253</td>\n",
       "      <td>256</td>\n",
       "      <td>133.76</td>\n",
       "    </tr>\n",
       "    <tr>\n",
       "      <th>C</th>\n",
       "      <td>227</td>\n",
       "      <td>234</td>\n",
       "      <td>40.65</td>\n",
       "    </tr>\n",
       "    <tr>\n",
       "      <th>G</th>\n",
       "      <td>179</td>\n",
       "      <td>198</td>\n",
       "      <td>164.97</td>\n",
       "    </tr>\n",
       "    <tr>\n",
       "      <th>H</th>\n",
       "      <td>64</td>\n",
       "      <td>68</td>\n",
       "      <td>114.06</td>\n",
       "    </tr>\n",
       "  </tbody>\n",
       "</table>\n",
       "</div>"
      ],
      "text/plain": [
       "   OPT  BH_SA value  BH_SA time\n",
       "4  429          432      230.71\n",
       "5  253          261       79.22\n",
       "A  253          256      133.76\n",
       "C  227          234       40.65\n",
       "G  179          198      164.97\n",
       "H   64           68      114.06"
      ]
     },
     "execution_count": 16,
     "metadata": {},
     "output_type": "execute_result"
    },
    {
     "data": {
      "text/plain": [
       "<Figure size 640x480 with 0 Axes>"
      ]
     },
     "metadata": {},
     "output_type": "display_data"
    }
   ],
   "source": [
    "algorithms = [{'name': 'BH_SA', 'params': [500, 20, 500, 5000], \n",
    "               'class': BH_SA}, ]\n",
    "\n",
    "files = [{'name': '4', 'optimum': 429},\n",
    "         {'name': '5', 'optimum': 253},\n",
    "         {'name': 'A', 'optimum': 253},\n",
    "         {'name': 'C', 'optimum': 227},\n",
    "         {'name': 'G', 'optimum': 179},\n",
    "         {'name': 'H', 'optimum': 64}\n",
    "         ]\n",
    "\n",
    "start_experiments(algorithms, files)"
   ]
  },
  {
   "cell_type": "code",
   "execution_count": 7,
   "metadata": {},
   "outputs": [
    {
     "name": "stdout",
     "output_type": "stream",
     "text": [
      "4: LH_BH\n"
     ]
    },
    {
     "name": "stderr",
     "output_type": "stream",
     "text": [
      "  7%|\u001b[32m▋         \u001b[0m| 344/5000 [00:30<06:47, 11.43it/s]\n",
      " 27%|\u001b[32m██▋       \u001b[0m| 133/500 [04:31<12:29,  2.04s/it]\n",
      "  5%|\u001b[32m▌         \u001b[0m| 274/5000 [00:30<08:38,  9.11it/s]\n",
      " 26%|\u001b[32m██▌       \u001b[0m| 128/500 [04:30<13:07,  2.12s/it]\n",
      "  4%|\u001b[32m▍         \u001b[0m| 215/5000 [00:30<11:09,  7.14it/s]\n",
      " 26%|\u001b[32m██▌       \u001b[0m| 129/500 [04:31<13:00,  2.10s/it]\n",
      "  5%|\u001b[32m▌         \u001b[0m| 258/5000 [00:30<09:12,  8.58it/s]\n",
      " 25%|\u001b[32m██▌       \u001b[0m| 127/500 [04:32<13:20,  2.15s/it]\n",
      "  5%|\u001b[32m▍         \u001b[0m| 241/5000 [00:30<09:53,  8.02it/s]\n",
      " 25%|\u001b[32m██▌       \u001b[0m| 127/500 [04:29<13:12,  2.13s/it]\n"
     ]
    },
    {
     "name": "stdout",
     "output_type": "stream",
     "text": [
      "432 432\n",
      "{'OPT': 429, 'LH_BH value': 432, 'LH_BH time': 22.04}\n",
      "5: LH_BH\n"
     ]
    },
    {
     "name": "stderr",
     "output_type": "stream",
     "text": [
      "  3%|\u001b[32m▎         \u001b[0m| 133/5000 [00:30<18:23,  4.41it/s]\n",
      " 18%|\u001b[32m█▊        \u001b[0m| 90/500 [04:31<20:37,  3.02s/it]\n",
      "  3%|\u001b[32m▎         \u001b[0m| 145/5000 [00:30<16:46,  4.82it/s]\n",
      " 18%|\u001b[32m█▊        \u001b[0m| 89/500 [04:29<20:45,  3.03s/it]\n",
      "  3%|\u001b[32m▎         \u001b[0m| 131/5000 [00:30<18:39,  4.35it/s]\n",
      " 18%|\u001b[32m█▊        \u001b[0m| 92/500 [04:32<20:10,  2.97s/it]\n",
      "  3%|\u001b[32m▎         \u001b[0m| 138/5000 [00:30<17:43,  4.57it/s]\n",
      " 21%|\u001b[32m██        \u001b[0m| 104/500 [04:30<17:10,  2.60s/it]\n",
      "  4%|\u001b[32m▎         \u001b[0m| 180/5000 [00:30<13:26,  5.97it/s]\n",
      " 23%|\u001b[32m██▎       \u001b[0m| 113/500 [04:33<15:36,  2.42s/it]\n"
     ]
    },
    {
     "name": "stdout",
     "output_type": "stream",
     "text": [
      "259 259\n",
      "{'OPT': 253, 'LH_BH value': 259, 'LH_BH time': 29.65}\n",
      "A: LH_BH\n"
     ]
    },
    {
     "name": "stderr",
     "output_type": "stream",
     "text": [
      "  2%|\u001b[32m▏         \u001b[0m| 80/5000 [00:30<30:57,  2.65it/s]\n",
      " 14%|\u001b[32m█▍        \u001b[0m| 71/500 [04:33<27:32,  3.85s/it]\n",
      "  2%|\u001b[32m▏         \u001b[0m| 79/5000 [00:30<31:23,  2.61it/s]\n",
      " 14%|\u001b[32m█▍        \u001b[0m| 70/500 [04:34<28:04,  3.92s/it]  \n",
      "  2%|\u001b[32m▏         \u001b[0m| 83/5000 [00:30<30:07,  2.72it/s]\n",
      " 14%|\u001b[32m█▍        \u001b[0m| 70/500 [04:32<27:50,  3.89s/it]\n",
      "  2%|\u001b[32m▏         \u001b[0m| 76/5000 [00:30<32:40,  2.51it/s]\n",
      " 14%|\u001b[32m█▍        \u001b[0m| 71/500 [04:32<27:29,  3.84s/it]\n",
      "  2%|\u001b[32m▏         \u001b[0m| 79/5000 [00:30<31:42,  2.59it/s]\n",
      " 14%|\u001b[32m█▍        \u001b[0m| 71/500 [04:32<27:24,  3.83s/it]\n"
     ]
    },
    {
     "name": "stdout",
     "output_type": "stream",
     "text": [
      "257 257\n",
      "{'OPT': 253, 'LH_BH value': 257, 'LH_BH time': 2.12}\n",
      "C: LH_BH\n"
     ]
    },
    {
     "name": "stderr",
     "output_type": "stream",
     "text": [
      "  1%|\u001b[32m          \u001b[0m| 46/5000 [00:30<55:24,  1.49it/s]  \n",
      " 12%|\u001b[32m█▏        \u001b[0m| 58/500 [04:28<34:03,  4.62s/it]\n",
      "  1%|\u001b[32m          \u001b[0m| 41/5000 [00:30<1:01:44,  1.34it/s]\n",
      " 10%|\u001b[32m█         \u001b[0m| 52/500 [04:34<39:28,  5.29s/it]\n",
      "  1%|\u001b[32m          \u001b[0m| 45/5000 [00:31<56:59,  1.45it/s]  \n",
      " 10%|\u001b[32m█         \u001b[0m| 50/500 [04:30<40:35,  5.41s/it]  \n",
      "  1%|\u001b[32m          \u001b[0m| 43/5000 [00:30<58:32,  1.41it/s]  \n",
      " 11%|\u001b[32m█         \u001b[0m| 53/500 [04:35<38:40,  5.19s/it]\n",
      "  1%|\u001b[32m          \u001b[0m| 44/5000 [00:30<57:15,  1.44it/s]\n"
     ]
    },
    {
     "ename": "KeyboardInterrupt",
     "evalue": "",
     "output_type": "error",
     "traceback": [
      "\u001b[1;31m---------------------------------------------------------------------------\u001b[0m",
      "\u001b[1;31mKeyboardInterrupt\u001b[0m                         Traceback (most recent call last)",
      "Cell \u001b[1;32mIn[7], line 13\u001b[0m\n\u001b[0;32m      1\u001b[0m algorithms \u001b[38;5;241m=\u001b[39m [{\u001b[38;5;124m'\u001b[39m\u001b[38;5;124mname\u001b[39m\u001b[38;5;124m'\u001b[39m: \u001b[38;5;124m'\u001b[39m\u001b[38;5;124mLH_BH\u001b[39m\u001b[38;5;124m'\u001b[39m, \u001b[38;5;124m'\u001b[39m\u001b[38;5;124mparams\u001b[39m\u001b[38;5;124m'\u001b[39m: [\u001b[38;5;241m5000\u001b[39m, \u001b[38;5;241m500\u001b[39m, \u001b[38;5;241m20\u001b[39m], \n\u001b[0;32m      2\u001b[0m                \u001b[38;5;124m'\u001b[39m\u001b[38;5;124mclass\u001b[39m\u001b[38;5;124m'\u001b[39m: LH_BH}, ]\n\u001b[0;32m      4\u001b[0m files \u001b[38;5;241m=\u001b[39m [{\u001b[38;5;124m'\u001b[39m\u001b[38;5;124mname\u001b[39m\u001b[38;5;124m'\u001b[39m: \u001b[38;5;124m'\u001b[39m\u001b[38;5;124m4\u001b[39m\u001b[38;5;124m'\u001b[39m, \u001b[38;5;124m'\u001b[39m\u001b[38;5;124moptimum\u001b[39m\u001b[38;5;124m'\u001b[39m: \u001b[38;5;241m429\u001b[39m},\n\u001b[0;32m      5\u001b[0m          {\u001b[38;5;124m'\u001b[39m\u001b[38;5;124mname\u001b[39m\u001b[38;5;124m'\u001b[39m: \u001b[38;5;124m'\u001b[39m\u001b[38;5;124m5\u001b[39m\u001b[38;5;124m'\u001b[39m, \u001b[38;5;124m'\u001b[39m\u001b[38;5;124moptimum\u001b[39m\u001b[38;5;124m'\u001b[39m: \u001b[38;5;241m253\u001b[39m},\n\u001b[0;32m      6\u001b[0m          {\u001b[38;5;124m'\u001b[39m\u001b[38;5;124mname\u001b[39m\u001b[38;5;124m'\u001b[39m: \u001b[38;5;124m'\u001b[39m\u001b[38;5;124mA\u001b[39m\u001b[38;5;124m'\u001b[39m, \u001b[38;5;124m'\u001b[39m\u001b[38;5;124moptimum\u001b[39m\u001b[38;5;124m'\u001b[39m: \u001b[38;5;241m253\u001b[39m},\n\u001b[1;32m   (...)\u001b[0m\n\u001b[0;32m     10\u001b[0m          {\u001b[38;5;124m'\u001b[39m\u001b[38;5;124mname\u001b[39m\u001b[38;5;124m'\u001b[39m: \u001b[38;5;124m'\u001b[39m\u001b[38;5;124mH\u001b[39m\u001b[38;5;124m'\u001b[39m, \u001b[38;5;124m'\u001b[39m\u001b[38;5;124moptimum\u001b[39m\u001b[38;5;124m'\u001b[39m: \u001b[38;5;241m64\u001b[39m}\n\u001b[0;32m     11\u001b[0m          ]\n\u001b[1;32m---> 13\u001b[0m \u001b[43mstart_experiments\u001b[49m\u001b[43m(\u001b[49m\u001b[43malgorithms\u001b[49m\u001b[43m,\u001b[49m\u001b[43m \u001b[49m\u001b[43mfiles\u001b[49m\u001b[43m)\u001b[49m\n",
      "Cell \u001b[1;32mIn[5], line 15\u001b[0m, in \u001b[0;36mstart_experiments\u001b[1;34m(algorithms, files, myTest)\u001b[0m\n\u001b[0;32m     13\u001b[0m exp \u001b[38;5;241m=\u001b[39m algorithm[\u001b[38;5;124m'\u001b[39m\u001b[38;5;124mclass\u001b[39m\u001b[38;5;124m'\u001b[39m](test)\n\u001b[0;32m     14\u001b[0m \u001b[38;5;28mprint\u001b[39m(file[\u001b[38;5;124m'\u001b[39m\u001b[38;5;124mname\u001b[39m\u001b[38;5;124m'\u001b[39m] \u001b[38;5;241m+\u001b[39m \u001b[38;5;124m'\u001b[39m\u001b[38;5;124m:\u001b[39m\u001b[38;5;124m'\u001b[39m, algorithm[\u001b[38;5;124m'\u001b[39m\u001b[38;5;124mname\u001b[39m\u001b[38;5;124m'\u001b[39m])\n\u001b[1;32m---> 15\u001b[0m val, time \u001b[38;5;241m=\u001b[39m \u001b[43mstart_algorithm\u001b[49m\u001b[43m(\u001b[49m\u001b[43mexp\u001b[49m\u001b[38;5;241;43m.\u001b[39;49m\u001b[43mstart\u001b[49m\u001b[43m,\u001b[49m\u001b[43m \u001b[49m\u001b[43malgorithm\u001b[49m\u001b[43m[\u001b[49m\u001b[38;5;124;43m'\u001b[39;49m\u001b[38;5;124;43mparams\u001b[39;49m\u001b[38;5;124;43m'\u001b[39;49m\u001b[43m]\u001b[49m\u001b[43m,\u001b[49m\u001b[43m \u001b[49m\u001b[38;5;124;43mf\u001b[39;49m\u001b[38;5;124;43m'\u001b[39;49m\u001b[38;5;132;43;01m{\u001b[39;49;00m\u001b[43mfile\u001b[49m\u001b[43m[\u001b[49m\u001b[38;5;124;43m'\u001b[39;49m\u001b[38;5;124;43mname\u001b[39;49m\u001b[38;5;124;43m'\u001b[39;49m\u001b[43m]\u001b[49m\u001b[38;5;132;43;01m}\u001b[39;49;00m\u001b[38;5;124;43m_\u001b[39;49m\u001b[38;5;132;43;01m{\u001b[39;49;00m\u001b[43malgorithm\u001b[49m\u001b[43m[\u001b[49m\u001b[38;5;124;43m'\u001b[39;49m\u001b[38;5;124;43mname\u001b[39;49m\u001b[38;5;124;43m'\u001b[39;49m\u001b[43m]\u001b[49m\u001b[38;5;132;43;01m}\u001b[39;49;00m\u001b[38;5;124;43m'\u001b[39;49m\u001b[43m,\u001b[49m\u001b[43m \u001b[49m\n\u001b[0;32m     16\u001b[0m \u001b[43m                            \u001b[49m\u001b[43mfile\u001b[49m\u001b[43m[\u001b[49m\u001b[38;5;124;43m'\u001b[39;49m\u001b[38;5;124;43moptimum\u001b[39;49m\u001b[38;5;124;43m'\u001b[39;49m\u001b[43m]\u001b[49m\u001b[43m)\u001b[49m\n\u001b[0;32m     17\u001b[0m data[\u001b[38;5;124mf\u001b[39m\u001b[38;5;124m'\u001b[39m\u001b[38;5;132;01m{\u001b[39;00malgorithm[\u001b[38;5;124m'\u001b[39m\u001b[38;5;124mname\u001b[39m\u001b[38;5;124m'\u001b[39m]\u001b[38;5;132;01m}\u001b[39;00m\u001b[38;5;124m value\u001b[39m\u001b[38;5;124m'\u001b[39m] \u001b[38;5;241m=\u001b[39m val\n\u001b[0;32m     18\u001b[0m data[\u001b[38;5;124mf\u001b[39m\u001b[38;5;124m'\u001b[39m\u001b[38;5;132;01m{\u001b[39;00malgorithm[\u001b[38;5;124m'\u001b[39m\u001b[38;5;124mname\u001b[39m\u001b[38;5;124m'\u001b[39m]\u001b[38;5;132;01m}\u001b[39;00m\u001b[38;5;124m time\u001b[39m\u001b[38;5;124m'\u001b[39m] \u001b[38;5;241m=\u001b[39m time\n",
      "Cell \u001b[1;32mIn[4], line 5\u001b[0m, in \u001b[0;36mstart_algorithm\u001b[1;34m(alg, params, name, optimum)\u001b[0m\n\u001b[0;32m      3\u001b[0m \u001b[38;5;28;01mfor\u001b[39;00m _ \u001b[38;5;129;01min\u001b[39;00m \u001b[38;5;28mrange\u001b[39m(\u001b[38;5;241m5\u001b[39m):\n\u001b[0;32m      4\u001b[0m     \u001b[38;5;28;01mif\u001b[39;00m name[\u001b[38;5;241m-\u001b[39m\u001b[38;5;241m5\u001b[39m:] \u001b[38;5;241m!=\u001b[39m \u001b[38;5;124m'\u001b[39m\u001b[38;5;124mBH_AD\u001b[39m\u001b[38;5;124m'\u001b[39m:\n\u001b[1;32m----> 5\u001b[0m         results, times, solution \u001b[38;5;241m=\u001b[39m \u001b[43malg\u001b[49m\u001b[43m(\u001b[49m\u001b[38;5;241;43m*\u001b[39;49m\u001b[43mparams\u001b[49m\u001b[43m,\u001b[49m\u001b[43m \u001b[49m\u001b[43moptimum\u001b[49m\u001b[38;5;241;43m=\u001b[39;49m\u001b[43moptimum\u001b[49m\u001b[43m)\u001b[49m\n\u001b[0;32m      6\u001b[0m     \u001b[38;5;28;01melse\u001b[39;00m:\n\u001b[0;32m      7\u001b[0m         results, times, counts, solution \u001b[38;5;241m=\u001b[39m alg(\u001b[38;5;241m*\u001b[39mparams, optimum\u001b[38;5;241m=\u001b[39moptimum)\n",
      "File \u001b[1;32md:\\Programming\\Python\\covering_problem\\algorithms\\hybrid_approach.py:57\u001b[0m, in \u001b[0;36mLH_BH.start\u001b[1;34m(self, count_iteration1, count_iteration2, count_stars, optimum)\u001b[0m\n\u001b[0;32m     55\u001b[0m black_hole_alg \u001b[38;5;241m=\u001b[39m BlackHole(\u001b[38;5;28mself\u001b[39m\u001b[38;5;241m.\u001b[39mtest)\n\u001b[0;32m     56\u001b[0m res1 \u001b[38;5;241m=\u001b[39m lagrange_alg\u001b[38;5;241m.\u001b[39mstart(count_iteration1, time_limit\u001b[38;5;241m=\u001b[39m\u001b[38;5;241m30\u001b[39m, optimum\u001b[38;5;241m=\u001b[39moptimum)\n\u001b[1;32m---> 57\u001b[0m res2 \u001b[38;5;241m=\u001b[39m \u001b[43mblack_hole_alg\u001b[49m\u001b[38;5;241;43m.\u001b[39;49m\u001b[43mstart\u001b[49m\u001b[43m(\u001b[49m\u001b[43mcount_iteration2\u001b[49m\u001b[43m,\u001b[49m\u001b[43m \u001b[49m\u001b[43mcount_stars\u001b[49m\u001b[43m,\u001b[49m\u001b[43m \u001b[49m\u001b[38;5;28;43;01mTrue\u001b[39;49;00m\u001b[43m,\u001b[49m\u001b[43m \u001b[49m\u001b[43mres1\u001b[49m\u001b[43m[\u001b[49m\u001b[38;5;241;43m2\u001b[39;49m\u001b[43m]\u001b[49m\u001b[43m,\u001b[49m\u001b[43m \u001b[49m\u001b[38;5;241;43m200\u001b[39;49m\u001b[43m,\u001b[49m\n\u001b[0;32m     58\u001b[0m \u001b[43m                            \u001b[49m\u001b[43mtime_limit\u001b[49m\u001b[38;5;241;43m=\u001b[39;49m\u001b[38;5;241;43m270\u001b[39;49m\u001b[43m,\u001b[49m\u001b[43m \u001b[49m\u001b[43moptimum\u001b[49m\u001b[38;5;241;43m=\u001b[39;49m\u001b[43moptimum\u001b[49m\u001b[43m)\u001b[49m\n\u001b[0;32m     59\u001b[0m \u001b[38;5;28;01mreturn\u001b[39;00m [res1[\u001b[38;5;241m0\u001b[39m], res2[\u001b[38;5;241m0\u001b[39m]], res1[\u001b[38;5;241m1\u001b[39m] \u001b[38;5;241m+\u001b[39m [res1[\u001b[38;5;241m1\u001b[39m][\u001b[38;5;241m-\u001b[39m\u001b[38;5;241m1\u001b[39m] \u001b[38;5;241m+\u001b[39m i \u001b[38;5;28;01mfor\u001b[39;00m i \u001b[38;5;129;01min\u001b[39;00m res2[\u001b[38;5;241m1\u001b[39m]], res2[\u001b[38;5;241m2\u001b[39m]\n",
      "File \u001b[1;32md:\\Programming\\Python\\covering_problem\\algorithms\\black_hole.py:53\u001b[0m, in \u001b[0;36mBlackHole.start\u001b[1;34m(self, count_iteration, count_stars, adaptive, initial_black_hole, consistency_of_result, time_limit, visualization, optimum)\u001b[0m\n\u001b[0;32m     51\u001b[0m     \u001b[38;5;28;01mif\u001b[39;00m r \u001b[38;5;241m>\u001b[39m d:\n\u001b[0;32m     52\u001b[0m         \u001b[38;5;28mself\u001b[39m\u001b[38;5;241m.\u001b[39mstars[i] \u001b[38;5;241m=\u001b[39m \u001b[38;5;28mself\u001b[39m\u001b[38;5;241m.\u001b[39m__generate_star()\n\u001b[1;32m---> 53\u001b[0m \u001b[38;5;28;43mself\u001b[39;49m\u001b[38;5;241;43m.\u001b[39;49m\u001b[43mtransform\u001b[49m\u001b[43m(\u001b[49m\u001b[43mblack_hole\u001b[49m\u001b[38;5;241;43m.\u001b[39;49m\u001b[43mobjects\u001b[49m\u001b[43m)\u001b[49m\n\u001b[0;32m     54\u001b[0m counts\u001b[38;5;241m.\u001b[39mappend(\u001b[38;5;28mself\u001b[39m\u001b[38;5;241m.\u001b[39mcount_stars)\n\u001b[0;32m     55\u001b[0m times\u001b[38;5;241m.\u001b[39mappend(time\u001b[38;5;241m.\u001b[39mtime() \u001b[38;5;241m-\u001b[39m start_time)\n",
      "File \u001b[1;32md:\\Programming\\Python\\covering_problem\\algorithms\\black_hole.py:125\u001b[0m, in \u001b[0;36mBlackHole.transform\u001b[1;34m(self, black_hole)\u001b[0m\n\u001b[0;32m    123\u001b[0m     displaced_star \u001b[38;5;241m=\u001b[39m [\u001b[38;5;241m1\u001b[39m \u001b[38;5;241m/\u001b[39m (\u001b[38;5;241m1\u001b[39m \u001b[38;5;241m+\u001b[39m exp(\u001b[38;5;241m-\u001b[39mobj \u001b[38;5;241m/\u001b[39m \u001b[38;5;241m3\u001b[39m)) \u001b[38;5;28;01mfor\u001b[39;00m obj \u001b[38;5;129;01min\u001b[39;00m displaced_star]\n\u001b[0;32m    124\u001b[0m     displaced_star \u001b[38;5;241m=\u001b[39m [star\u001b[38;5;241m.\u001b[39mobjects[i] \u001b[38;5;28;01mif\u001b[39;00m random() \u001b[38;5;241m<\u001b[39m\u001b[38;5;241m=\u001b[39m displaced_star[i] \u001b[38;5;28;01melse\u001b[39;00m \u001b[38;5;241m0\u001b[39m \u001b[38;5;28;01mfor\u001b[39;00m i \u001b[38;5;129;01min\u001b[39;00m \u001b[38;5;28mrange\u001b[39m(\u001b[38;5;28mlen\u001b[39m(star\u001b[38;5;241m.\u001b[39mobjects))]\n\u001b[1;32m--> 125\u001b[0m     displaced_star \u001b[38;5;241m=\u001b[39m \u001b[38;5;28;43mself\u001b[39;49m\u001b[38;5;241;43m.\u001b[39;49m\u001b[43mfix_star\u001b[49m\u001b[43m(\u001b[49m\u001b[43mdisplaced_star\u001b[49m\u001b[43m)\u001b[49m\n\u001b[0;32m    126\u001b[0m     displaced_stars\u001b[38;5;241m.\u001b[39mappend(Star(displaced_star\u001b[38;5;241m.\u001b[39mcopy(), \u001b[38;5;28mself\u001b[39m\u001b[38;5;241m.\u001b[39mfitness_function(displaced_star)))\n\u001b[0;32m    127\u001b[0m \u001b[38;5;28mself\u001b[39m\u001b[38;5;241m.\u001b[39mstars \u001b[38;5;241m=\u001b[39m displaced_stars\u001b[38;5;241m.\u001b[39mcopy()\n",
      "File \u001b[1;32md:\\Programming\\Python\\covering_problem\\algorithms\\black_hole.py:92\u001b[0m, in \u001b[0;36mBlackHole.fix_star\u001b[1;34m(self, objects)\u001b[0m\n\u001b[0;32m     90\u001b[0m \u001b[38;5;28;01mfor\u001b[39;00m i \u001b[38;5;129;01min\u001b[39;00m \u001b[38;5;28mrange\u001b[39m(\u001b[38;5;28mself\u001b[39m\u001b[38;5;241m.\u001b[39mtest\u001b[38;5;241m.\u001b[39mcount_objects_to_be_covered):\n\u001b[0;32m     91\u001b[0m     columns_count_in_coverage[i] \u001b[38;5;241m=\u001b[39m \u001b[38;5;28msum\u001b[39m([x \u001b[38;5;241m*\u001b[39m y \u001b[38;5;28;01mfor\u001b[39;00m x, y \u001b[38;5;129;01min\u001b[39;00m \u001b[38;5;28mzip\u001b[39m(objects, \u001b[38;5;28mself\u001b[39m\u001b[38;5;241m.\u001b[39mtest\u001b[38;5;241m.\u001b[39mcoverage_array[i])])\n\u001b[1;32m---> 92\u001b[0m     \u001b[38;5;28;01mif\u001b[39;00m columns_count_in_coverage[i] \u001b[38;5;241m==\u001b[39m \u001b[38;5;241m0\u001b[39m:\n\u001b[0;32m     93\u001b[0m         uncovered_objects\u001b[38;5;241m.\u001b[39madd(i)\n\u001b[0;32m     95\u001b[0m \u001b[38;5;28;01mwhile\u001b[39;00m \u001b[38;5;28mlen\u001b[39m(uncovered_objects) \u001b[38;5;241m!=\u001b[39m \u001b[38;5;241m0\u001b[39m:\n",
      "\u001b[1;31mKeyboardInterrupt\u001b[0m: "
     ]
    },
    {
     "data": {
      "text/plain": [
       "<Figure size 640x480 with 0 Axes>"
      ]
     },
     "metadata": {},
     "output_type": "display_data"
    }
   ],
   "source": [
    "algorithms = [{'name': 'LH_BH', 'params': [5000, 500, 20], \n",
    "               'class': LH_BH}, ]\n",
    "\n",
    "files = [{'name': '4', 'optimum': 429},\n",
    "         {'name': '5', 'optimum': 253},\n",
    "         {'name': 'A', 'optimum': 253},\n",
    "         {'name': 'C', 'optimum': 227},\n",
    "         {'name': 'D', 'optimum': 60},\n",
    "         {'name': 'G', 'optimum': 179},\n",
    "         {'name': 'H', 'optimum': 64}\n",
    "         ]\n",
    "\n",
    "start_experiments(algorithms, files)"
   ]
  },
  {
   "cell_type": "code",
   "execution_count": null,
   "metadata": {},
   "outputs": [],
   "source": [
    "algorithms = [{'name': 'SA_GA', 'params': [500, 5000, 20, 0, (50, 50, 0), (100, 0, 0, 0), (0, 0), 250], \n",
    "               'class': SA_GA}, ]\n",
    "\n",
    "files = [{'name': '4', 'optimum': 429},\n",
    "         {'name': '5', 'optimum': 253},\n",
    "         {'name': '6', 'optimum': 138},\n",
    "         {'name': 'A', 'optimum': 253},\n",
    "         {'name': 'C', 'optimum': 227},\n",
    "         {'name': 'D', 'optimum': 60},\n",
    "         {'name': 'F', 'optimum': 14},\n",
    "         {'name': 'G', 'optimum': 179},\n",
    "         {'name': 'H', 'optimum': 64}\n",
    "         ]\n",
    "\n",
    "start_experiments(algorithms, files)"
   ]
  }
 ],
 "metadata": {
  "kernelspec": {
   "display_name": ".venv",
   "language": "python",
   "name": "python3"
  },
  "language_info": {
   "codemirror_mode": {
    "name": "ipython",
    "version": 3
   },
   "file_extension": ".py",
   "mimetype": "text/x-python",
   "name": "python",
   "nbconvert_exporter": "python",
   "pygments_lexer": "ipython3",
   "version": "3.12.0"
  }
 },
 "nbformat": 4,
 "nbformat_minor": 2
}
